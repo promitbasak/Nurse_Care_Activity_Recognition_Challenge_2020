{
 "cells": [
  {
   "cell_type": "code",
   "execution_count": null,
   "metadata": {
    "colab": {
     "base_uri": "https://localhost:8080/",
     "height": 35
    },
    "id": "15BfTG62RDI-",
    "outputId": "6fa97637-19e5-4c79-f333-416eed57d337"
   },
   "outputs": [
    {
     "name": "stdout",
     "output_type": "stream",
     "text": [
      "Drive already mounted at drive/; to attempt to forcibly remount, call drive.mount(\"drive/\", force_remount=True).\n"
     ]
    }
   ],
   "source": [
    "import numpy as np\n",
    "import pandas as pd\n",
    "import time\n",
    "import matplotlib.pyplot as plt\n",
    "from scipy import signal\n",
    "from scipy import stats\n",
    "from scipy.fftpack import fft\n",
    "import datetime as dt\n"
   ]
  },
  {
   "cell_type": "markdown",
   "metadata": {
    "id": "zH1WT7hF1nMx"
   },
   "source": [
    "# Windowing\n"
   ]
  },
  {
   "cell_type": "code",
   "execution_count": null,
   "metadata": {
    "colab": {
     "base_uri": "https://localhost:8080/",
     "height": 231
    },
    "id": "AQpDh8TYQu4V",
    "outputId": "ae38d838-fddf-4b6d-ac29-32bc9594d537"
   },
   "outputs": [
    {
     "data": {
      "text/plain": [
       "(   user_id  ...                                               Time\n",
       " 0       18  ...  [2018-12-01T22:50:30.450000000, 2018-12-01T22:...\n",
       " 1       18  ...  [2018-12-01T23:29:55.700000000, 2018-12-01T23:...\n",
       " 2       18  ...  [2018-12-01T23:46:33.650000000, 2018-12-01T23:...\n",
       " 3       18  ...  [2018-12-01T23:58:27.250000000, 2018-12-01T23:...\n",
       " 4        4  ...  [2018-12-02T10:27:37.000000000, 2018-12-02T10:...\n",
       " \n",
       " [5 rows x 8 columns],\n",
       " 3186,\n",
       " Index(['user_id', 'activity_type_id', 'start', 'finish', 'X', 'Y', 'Z',\n",
       "        'Time'],\n",
       "       dtype='object'))"
      ]
     },
     "execution_count": 2,
     "metadata": {
      "tags": []
     },
     "output_type": "execute_result"
    }
   ],
   "source": [
    "labeled_field = pd.read_pickle(\"lpfiltered_labeled_field.pkl\", compression=\"gzip\")\n",
    "labeled_field.head(), len(labeled_field), labeled_field.columns\n"
   ]
  },
  {
   "cell_type": "code",
   "execution_count": null,
   "metadata": {
    "colab": {
     "base_uri": "https://localhost:8080/",
     "height": 1000
    },
    "id": "yHOYyCz1w75Y",
    "outputId": "7e51f4ec-bab5-4741-bc74-19308279bc09"
   },
   "outputs": [],
   "source": [
    "bp = [0]  # breakpoints\n",
    "added = 0\n",
    "for i in range(len(labeled_field)):\n",
    "    if (\n",
    "        len(labeled_field.loc[i, \"Time\"]) < 600\n",
    "    ):  # ignore windows with less than 600 samples\n",
    "        continue\n",
    "    bp.extend(\n",
    "        [j for j in range(0, len(labeled_field.loc[i, \"Time\"]) - 300, 300)]\n",
    "    )  # window at every 300 samples\n",
    "    bp.append(len(labeled_field.loc[i, \"Time\"]))\n",
    "    if len(bp) > 2: # if more than two windows found\n",
    "        for k in range(1, len(bp)):\n",
    "            newdf = pd.DataFrame(\n",
    "                {\n",
    "                    \"user_id\": [labeled_field.loc[i, \"user_id\"]],\n",
    "                    \"activity_type_id\": [labeled_field.loc[i, \"activity_type_id\"]],\n",
    "                    \"start\": [pd.to_datetime(labeled_field.loc[i, \"Time\"][bp[k - 1]])],\n",
    "                    \"finish\": [pd.to_datetime(labeled_field.loc[i, \"Time\"][bp[k] - 1])],\n",
    "                    \"X\": [labeled_field.loc[i, \"X\"][bp[k - 1] : bp[k]]],\n",
    "                    \"Y\": [labeled_field.loc[i, \"Y\"][bp[k - 1] : bp[k]]],\n",
    "                    \"Z\": [labeled_field.loc[i, \"Z\"][bp[k - 1] : bp[k]]],\n",
    "                    \"Time\": [labeled_field.loc[i, \"Time\"][bp[k - 1] : bp[k]]],\n",
    "                }\n",
    "            )\n",
    "            labeled_field = pd.concat([labeled_field, newdf], ignore_index=True)\n",
    "        added += len(bp) - 2\n",
    "        # print(f\"index{i} dropped\")\n",
    "        labeled_field.drop(i)\n",
    "    bp = [0]\n",
    "print(\"Total\", added, \"row added\")\n"
   ]
  },
  {
   "cell_type": "code",
   "execution_count": null,
   "metadata": {
    "colab": {
     "base_uri": "https://localhost:8080/",
     "height": 35
    },
    "id": "a2qRclHyxwaK",
    "outputId": "8929b05b-af95-489e-bc33-affef23248ee"
   },
   "outputs": [
    {
     "data": {
      "text/plain": [
       "25583"
      ]
     },
     "execution_count": 4,
     "metadata": {
      "tags": []
     },
     "output_type": "execute_result"
    }
   ],
   "source": [
    "len(labeled_field)\n"
   ]
  },
  {
   "cell_type": "code",
   "execution_count": null,
   "metadata": {
    "colab": {
     "base_uri": "https://localhost:8080/",
     "height": 35
    },
    "id": "dRf97jw5yAyy",
    "outputId": "6d0251f9-342e-4d68-c958-1112749d9a5a"
   },
   "outputs": [
    {
     "data": {
      "text/plain": [
       "24667"
      ]
     },
     "execution_count": 5,
     "metadata": {
      "tags": []
     },
     "output_type": "execute_result"
    }
   ],
   "source": [
    "labeled_field[\"length\"] = labeled_field.Time.apply(len)\n",
    "labeled_field = labeled_field[labeled_field[\"length\"] > 40].reset_index(drop=True)\n",
    "len(labeled_field)\n"
   ]
  },
  {
   "cell_type": "markdown",
   "metadata": {
    "id": "IvXMYO-uvNf3"
   },
   "source": [
    "# Frequency and Time Domain Data\n"
   ]
  },
  {
   "cell_type": "code",
   "execution_count": null,
   "metadata": {
    "colab": {
     "base_uri": "https://localhost:8080/",
     "height": 400
    },
    "id": "LcPAf0HdT2nH",
    "outputId": "12394c44-36a1-44bc-a09e-c6373ba2c719"
   },
   "outputs": [
    {
     "data": {
      "text/html": [
       "<div>\n",
       "<style scoped>\n",
       "    .dataframe tbody tr th:only-of-type {\n",
       "        vertical-align: middle;\n",
       "    }\n",
       "\n",
       "    .dataframe tbody tr th {\n",
       "        vertical-align: top;\n",
       "    }\n",
       "\n",
       "    .dataframe thead th {\n",
       "        text-align: right;\n",
       "    }\n",
       "</style>\n",
       "<table border=\"1\" class=\"dataframe\">\n",
       "  <thead>\n",
       "    <tr style=\"text-align: right;\">\n",
       "      <th></th>\n",
       "      <th>user_id</th>\n",
       "      <th>activity_type_id</th>\n",
       "      <th>start</th>\n",
       "      <th>finish</th>\n",
       "      <th>X</th>\n",
       "      <th>Y</th>\n",
       "      <th>Z</th>\n",
       "      <th>Time</th>\n",
       "      <th>length</th>\n",
       "      <th>tbody-X</th>\n",
       "      <th>tbody-Y</th>\n",
       "      <th>tbody-Z</th>\n",
       "    </tr>\n",
       "  </thead>\n",
       "  <tbody>\n",
       "    <tr>\n",
       "      <th>0</th>\n",
       "      <td>18</td>\n",
       "      <td>9</td>\n",
       "      <td>2018-12-01 22:50:29</td>\n",
       "      <td>2018-12-01 22:51:16</td>\n",
       "      <td>[-1.0761912191930145, -1.2996604335255786, -1....</td>\n",
       "      <td>[7.278006110899289, 7.314203359813134, 7.34684...</td>\n",
       "      <td>[3.3749311576590486, 3.374820581767359, 3.3656...</td>\n",
       "      <td>[2018-12-01T22:50:30.450000000, 2018-12-01T22:...</td>\n",
       "      <td>800</td>\n",
       "      <td>[-0.8129477328301933, -1.0940181313298767, -1....</td>\n",
       "      <td>[0.024235261513694217, 0.060711317250505784, 0...</td>\n",
       "      <td>[0.3620218302456193, 0.3986175115740682, 0.426...</td>\n",
       "    </tr>\n",
       "    <tr>\n",
       "      <th>1</th>\n",
       "      <td>18</td>\n",
       "      <td>9</td>\n",
       "      <td>2018-12-01 23:29:35</td>\n",
       "      <td>2018-12-01 23:30:09</td>\n",
       "      <td>[1.3620586299434982, 1.3607741168026488, 1.360...</td>\n",
       "      <td>[7.704226326846039, 7.753452679488208, 7.80137...</td>\n",
       "      <td>[0.09263532439116798, 0.7122787723283562, 1.31...</td>\n",
       "      <td>[2018-12-01T23:29:55.700000000, 2018-12-01T23:...</td>\n",
       "      <td>265</td>\n",
       "      <td>[0.5632536892784036, 0.5684677740141921, 0.574...</td>\n",
       "      <td>[-0.08159910474086746, -0.042903023442574406, ...</td>\n",
       "      <td>[-0.24768816267381943, 0.281857205785375, 0.79...</td>\n",
       "    </tr>\n",
       "    <tr>\n",
       "      <th>2</th>\n",
       "      <td>18</td>\n",
       "      <td>10</td>\n",
       "      <td>2018-12-01 23:46:32</td>\n",
       "      <td>2018-12-01 23:47:20</td>\n",
       "      <td>[-4.22142105868042, -4.228173445447816, -4.232...</td>\n",
       "      <td>[4.633118408576495, 4.776392928058909, 4.92265...</td>\n",
       "      <td>[2.2883405806148702, 2.64521618074148, 2.98787...</td>\n",
       "      <td>[2018-12-01T23:46:33.650000000, 2018-12-01T23:...</td>\n",
       "      <td>921</td>\n",
       "      <td>[-1.4511337674426725, -1.544740335749924, -1.6...</td>\n",
       "      <td>[-0.3931916964321358, -0.30305822582994857, -0...</td>\n",
       "      <td>[0.852093170180279, 1.208646684901996, 1.55152...</td>\n",
       "    </tr>\n",
       "    <tr>\n",
       "      <th>3</th>\n",
       "      <td>18</td>\n",
       "      <td>9</td>\n",
       "      <td>2018-12-01 23:58:27</td>\n",
       "      <td>2018-12-01 23:59:03</td>\n",
       "      <td>[0.011176190391082773, -0.12869343186136828, -...</td>\n",
       "      <td>[8.655850321930386, 8.76944554480367, 8.877926...</td>\n",
       "      <td>[3.977220032950275, 4.223088201691081, 4.45847...</td>\n",
       "      <td>[2018-12-01T23:58:27.250000000, 2018-12-01T23:...</td>\n",
       "      <td>670</td>\n",
       "      <td>[-0.8935846554944386, -1.0630745771337158, -1....</td>\n",
       "      <td>[0.24593292531553584, 0.35636176794715324, 0.4...</td>\n",
       "      <td>[1.313201328819726, 1.591047226884147, 1.85886...</td>\n",
       "    </tr>\n",
       "    <tr>\n",
       "      <th>4</th>\n",
       "      <td>4</td>\n",
       "      <td>5</td>\n",
       "      <td>2018-12-02 10:27:37</td>\n",
       "      <td>2018-12-02 10:28:22</td>\n",
       "      <td>[0.10783071488709874, 0.3303105412467751, 0.54...</td>\n",
       "      <td>[7.093423475561911, 6.999542499158988, 6.90472...</td>\n",
       "      <td>[5.846058082782215, 5.935895343189449, 6.04110...</td>\n",
       "      <td>[2018-12-02T10:27:37.000000000, 2018-12-02T10:...</td>\n",
       "      <td>898</td>\n",
       "      <td>[0.3949620293016062, 0.6160520050188684, 0.830...</td>\n",
       "      <td>[-0.8684353579027453, -0.9816469029986739, -1....</td>\n",
       "      <td>[1.6021970525231786, 1.7102600861222248, 1.834...</td>\n",
       "    </tr>\n",
       "  </tbody>\n",
       "</table>\n",
       "</div>"
      ],
      "text/plain": [
       "   user_id  ...                                            tbody-Z\n",
       "0       18  ...  [0.3620218302456193, 0.3986175115740682, 0.426...\n",
       "1       18  ...  [-0.24768816267381943, 0.281857205785375, 0.79...\n",
       "2       18  ...  [0.852093170180279, 1.208646684901996, 1.55152...\n",
       "3       18  ...  [1.313201328819726, 1.591047226884147, 1.85886...\n",
       "4        4  ...  [1.6021970525231786, 1.7102600861222248, 1.834...\n",
       "\n",
       "[5 rows x 12 columns]"
      ]
     },
     "execution_count": 7,
     "metadata": {
      "tags": []
     },
     "output_type": "execute_result"
    }
   ],
   "source": [
    "fs = 20\n",
    "fc = 0.1\n",
    "bx, by, bz = [], [], []\n",
    "for i in range(len(labeled_field)):\n",
    "    b, a = signal.butter(3, fc / (fs / 2), \"high\")\n",
    "    bx.append(signal.filtfilt(b, a, labeled_field.loc[i, \"X\"]))\n",
    "    by.append(signal.filtfilt(b, a, labeled_field.loc[i, \"Y\"]))\n",
    "    bz.append(signal.filtfilt(b, a, labeled_field.loc[i, \"Z\"]))\n",
    "labeled_field[\"tbody-X\"] = bx\n",
    "labeled_field[\"tbody-Y\"] = by\n",
    "labeled_field[\"tbody-Z\"] = bz\n",
    "labeled_field.head()\n"
   ]
  },
  {
   "cell_type": "code",
   "execution_count": null,
   "metadata": {
    "colab": {
     "base_uri": "https://localhost:8080/",
     "height": 400
    },
    "id": "amOHjRazUSpd",
    "outputId": "07514132-f608-45fc-dab6-29fd3a0044b4"
   },
   "outputs": [
    {
     "data": {
      "text/html": [
       "<div>\n",
       "<style scoped>\n",
       "    .dataframe tbody tr th:only-of-type {\n",
       "        vertical-align: middle;\n",
       "    }\n",
       "\n",
       "    .dataframe tbody tr th {\n",
       "        vertical-align: top;\n",
       "    }\n",
       "\n",
       "    .dataframe thead th {\n",
       "        text-align: right;\n",
       "    }\n",
       "</style>\n",
       "<table border=\"1\" class=\"dataframe\">\n",
       "  <thead>\n",
       "    <tr style=\"text-align: right;\">\n",
       "      <th></th>\n",
       "      <th>user_id</th>\n",
       "      <th>activity_type_id</th>\n",
       "      <th>start</th>\n",
       "      <th>finish</th>\n",
       "      <th>X</th>\n",
       "      <th>Y</th>\n",
       "      <th>Z</th>\n",
       "      <th>Time</th>\n",
       "      <th>length</th>\n",
       "      <th>tbody-X</th>\n",
       "      <th>tbody-Y</th>\n",
       "      <th>tbody-Z</th>\n",
       "      <th>tgravity-X</th>\n",
       "      <th>tgravity-Y</th>\n",
       "      <th>tgravity-Z</th>\n",
       "    </tr>\n",
       "  </thead>\n",
       "  <tbody>\n",
       "    <tr>\n",
       "      <th>0</th>\n",
       "      <td>18</td>\n",
       "      <td>9</td>\n",
       "      <td>2018-12-01 22:50:29</td>\n",
       "      <td>2018-12-01 22:51:16</td>\n",
       "      <td>[-1.0761912191930145, -1.2996604335255786, -1....</td>\n",
       "      <td>[7.278006110899289, 7.314203359813134, 7.34684...</td>\n",
       "      <td>[3.3749311576590486, 3.374820581767359, 3.3656...</td>\n",
       "      <td>[2018-12-01T22:50:30.450000000, 2018-12-01T22:...</td>\n",
       "      <td>800</td>\n",
       "      <td>[-0.8129477328301933, -1.0940181313298767, -1....</td>\n",
       "      <td>[0.024235261513694217, 0.060711317250505784, 0...</td>\n",
       "      <td>[0.3620218302456193, 0.3986175115740682, 0.426...</td>\n",
       "      <td>[-0.2632424213578779, -0.20564125227277524, -0...</td>\n",
       "      <td>[7.253770878524064, 7.253492070703674, 7.25325...</td>\n",
       "      <td>[3.012909316629822, 2.9762030593762456, 2.9391...</td>\n",
       "    </tr>\n",
       "    <tr>\n",
       "      <th>1</th>\n",
       "      <td>18</td>\n",
       "      <td>9</td>\n",
       "      <td>2018-12-01 23:29:35</td>\n",
       "      <td>2018-12-01 23:30:09</td>\n",
       "      <td>[1.3620586299434982, 1.3607741168026488, 1.360...</td>\n",
       "      <td>[7.704226326846039, 7.753452679488208, 7.80137...</td>\n",
       "      <td>[0.09263532439116798, 0.7122787723283562, 1.31...</td>\n",
       "      <td>[2018-12-01T23:29:55.700000000, 2018-12-01T23:...</td>\n",
       "      <td>265</td>\n",
       "      <td>[0.5632536892784036, 0.5684677740141921, 0.574...</td>\n",
       "      <td>[-0.08159910474086746, -0.042903023442574406, ...</td>\n",
       "      <td>[-0.24768816267381943, 0.281857205785375, 0.79...</td>\n",
       "      <td>[0.7778934049116013, 0.7713318303126115, 0.765...</td>\n",
       "      <td>[7.78447117081441, 7.795101874186796, 7.805659...</td>\n",
       "      <td>[0.2887873088211561, 0.3787048867387693, 0.468...</td>\n",
       "    </tr>\n",
       "    <tr>\n",
       "      <th>2</th>\n",
       "      <td>18</td>\n",
       "      <td>10</td>\n",
       "      <td>2018-12-01 23:46:32</td>\n",
       "      <td>2018-12-01 23:47:20</td>\n",
       "      <td>[-4.22142105868042, -4.228173445447816, -4.232...</td>\n",
       "      <td>[4.633118408576495, 4.776392928058909, 4.92265...</td>\n",
       "      <td>[2.2883405806148702, 2.64521618074148, 2.98787...</td>\n",
       "      <td>[2018-12-01T23:46:33.650000000, 2018-12-01T23:...</td>\n",
       "      <td>921</td>\n",
       "      <td>[-1.4511337674426725, -1.544740335749924, -1.6...</td>\n",
       "      <td>[-0.3931916964321358, -0.30305822582994857, -0...</td>\n",
       "      <td>[0.852093170180279, 1.208646684901996, 1.55152...</td>\n",
       "      <td>[-2.7702880005982173, -2.683433788120924, -2.5...</td>\n",
       "      <td>[5.0263093823980185, 5.079450396493344, 5.1328...</td>\n",
       "      <td>[1.4362483617259316, 1.4365705105496596, 1.436...</td>\n",
       "    </tr>\n",
       "    <tr>\n",
       "      <th>3</th>\n",
       "      <td>18</td>\n",
       "      <td>9</td>\n",
       "      <td>2018-12-01 23:58:27</td>\n",
       "      <td>2018-12-01 23:59:03</td>\n",
       "      <td>[0.011176190391082773, -0.12869343186136828, -...</td>\n",
       "      <td>[8.655850321930386, 8.76944554480367, 8.877926...</td>\n",
       "      <td>[3.977220032950275, 4.223088201691081, 4.45847...</td>\n",
       "      <td>[2018-12-01T23:58:27.250000000, 2018-12-01T23:...</td>\n",
       "      <td>670</td>\n",
       "      <td>[-0.8935846554944386, -1.0630745771337158, -1....</td>\n",
       "      <td>[0.24593292531553584, 0.35636176794715324, 0.4...</td>\n",
       "      <td>[1.313201328819726, 1.591047226884147, 1.85886...</td>\n",
       "      <td>[0.9048117930478055, 0.9344399275344912, 0.964...</td>\n",
       "      <td>[8.40997372186405, 8.413143563427502, 8.416295...</td>\n",
       "      <td>[2.6640102691552765, 2.6320312791862492, 2.599...</td>\n",
       "    </tr>\n",
       "    <tr>\n",
       "      <th>4</th>\n",
       "      <td>4</td>\n",
       "      <td>5</td>\n",
       "      <td>2018-12-02 10:27:37</td>\n",
       "      <td>2018-12-02 10:28:22</td>\n",
       "      <td>[0.10783071488709874, 0.3303105412467751, 0.54...</td>\n",
       "      <td>[7.093423475561911, 6.999542499158988, 6.90472...</td>\n",
       "      <td>[5.846058082782215, 5.935895343189449, 6.04110...</td>\n",
       "      <td>[2018-12-02T10:27:37.000000000, 2018-12-02T10:...</td>\n",
       "      <td>898</td>\n",
       "      <td>[0.3949620293016062, 0.6160520050188684, 0.830...</td>\n",
       "      <td>[-0.8684353579027453, -0.9816469029986739, -1....</td>\n",
       "      <td>[1.6021970525231786, 1.7102600861222248, 1.834...</td>\n",
       "      <td>[-0.28713240328273776, -0.28574260928012857, -...</td>\n",
       "      <td>[7.96185908937324, 7.981189673227868, 8.000815...</td>\n",
       "      <td>[4.243861877413061, 4.225636133427083, 4.20690...</td>\n",
       "    </tr>\n",
       "  </tbody>\n",
       "</table>\n",
       "</div>"
      ],
      "text/plain": [
       "   user_id  ...                                         tgravity-Z\n",
       "0       18  ...  [3.012909316629822, 2.9762030593762456, 2.9391...\n",
       "1       18  ...  [0.2887873088211561, 0.3787048867387693, 0.468...\n",
       "2       18  ...  [1.4362483617259316, 1.4365705105496596, 1.436...\n",
       "3       18  ...  [2.6640102691552765, 2.6320312791862492, 2.599...\n",
       "4        4  ...  [4.243861877413061, 4.225636133427083, 4.20690...\n",
       "\n",
       "[5 rows x 15 columns]"
      ]
     },
     "execution_count": 8,
     "metadata": {
      "tags": []
     },
     "output_type": "execute_result"
    }
   ],
   "source": [
    "fs = 20\n",
    "fc = 0.1\n",
    "gx, gy, gz = [], [], []\n",
    "for i in range(len(labeled_field)):\n",
    "    b, a = signal.butter(3, fc / (fs / 2))\n",
    "    gx.append(signal.filtfilt(b, a, labeled_field.loc[i, \"X\"]))\n",
    "    gy.append(signal.filtfilt(b, a, labeled_field.loc[i, \"Y\"]))\n",
    "    gz.append(signal.filtfilt(b, a, labeled_field.loc[i, \"Z\"]))\n",
    "labeled_field[\"tgravity-X\"] = gx\n",
    "labeled_field[\"tgravity-Y\"] = gy\n",
    "labeled_field[\"tgravity-Z\"] = gz\n",
    "labeled_field.head()\n"
   ]
  },
  {
   "cell_type": "code",
   "execution_count": null,
   "metadata": {
    "colab": {
     "base_uri": "https://localhost:8080/",
     "height": 283
    },
    "id": "gn9G8f_kVLUZ",
    "outputId": "0cd849ef-6bde-4d80-89f4-ae756793e6f0"
   },
   "outputs": [
    {
     "data": {
      "text/plain": [
       "[<matplotlib.lines.Line2D at 0x7f80d1554dd8>]"
      ]
     },
     "execution_count": 9,
     "metadata": {
      "tags": []
     },
     "output_type": "execute_result"
    },
    {
     "data": {
      "image/png": "[encoded data removed]",
      "text/plain": [
       "<Figure size 1080x288 with 3 Axes>"
      ]
     },
     "metadata": {
      "needs_background": "light",
      "tags": []
     },
     "output_type": "display_data"
    }
   ],
   "source": [
    "example = 0\n",
    "plt.figure(figsize=(15, 4))\n",
    "plt.subplot(1, 3, 1)\n",
    "plt.plot(labeled_field.loc[example, \"Time\"], labeled_field.loc[example, \"X\"])\n",
    "plt.subplot(1, 3, 2)\n",
    "plt.plot(labeled_field.loc[example, \"Time\"], labeled_field.loc[example, \"tbody-X\"])\n",
    "plt.subplot(1, 3, 3)\n",
    "plt.plot(labeled_field.loc[example, \"Time\"], labeled_field.loc[example, \"tgravity-X\"])\n"
   ]
  },
  {
   "cell_type": "code",
   "execution_count": null,
   "metadata": {
    "colab": {
     "base_uri": "https://localhost:8080/",
     "height": 400
    },
    "id": "As2di4xVQ9Wy",
    "outputId": "b980a382-419b-43b5-8b17-80ee24a8779f"
   },
   "outputs": [
    {
     "data": {
      "text/html": [
       "<div>\n",
       "<style scoped>\n",
       "    .dataframe tbody tr th:only-of-type {\n",
       "        vertical-align: middle;\n",
       "    }\n",
       "\n",
       "    .dataframe tbody tr th {\n",
       "        vertical-align: top;\n",
       "    }\n",
       "\n",
       "    .dataframe thead th {\n",
       "        text-align: right;\n",
       "    }\n",
       "</style>\n",
       "<table border=\"1\" class=\"dataframe\">\n",
       "  <thead>\n",
       "    <tr style=\"text-align: right;\">\n",
       "      <th></th>\n",
       "      <th>user_id</th>\n",
       "      <th>activity_type_id</th>\n",
       "      <th>start</th>\n",
       "      <th>finish</th>\n",
       "      <th>X</th>\n",
       "      <th>Y</th>\n",
       "      <th>Z</th>\n",
       "      <th>Time</th>\n",
       "      <th>length</th>\n",
       "      <th>tbody-X</th>\n",
       "      <th>tbody-Y</th>\n",
       "      <th>tbody-Z</th>\n",
       "      <th>tgravity-X</th>\n",
       "      <th>tgravity-Y</th>\n",
       "      <th>tgravity-Z</th>\n",
       "      <th>tjerk-X</th>\n",
       "      <th>tjerk-Y</th>\n",
       "      <th>tjerk-Z</th>\n",
       "    </tr>\n",
       "  </thead>\n",
       "  <tbody>\n",
       "    <tr>\n",
       "      <th>0</th>\n",
       "      <td>18</td>\n",
       "      <td>9</td>\n",
       "      <td>2018-12-01 22:50:29</td>\n",
       "      <td>2018-12-01 22:51:16</td>\n",
       "      <td>[-1.0761912191930145, -1.2996604335255786, -1....</td>\n",
       "      <td>[7.278006110899289, 7.314203359813134, 7.34684...</td>\n",
       "      <td>[3.3749311576590486, 3.374820581767359, 3.3656...</td>\n",
       "      <td>[2018-12-01T22:50:30.450000000, 2018-12-01T22:...</td>\n",
       "      <td>800</td>\n",
       "      <td>[-0.8129477328301933, -1.0940181313298767, -1....</td>\n",
       "      <td>[0.024235261513694217, 0.060711317250505784, 0...</td>\n",
       "      <td>[0.3620218302456193, 0.3986175115740682, 0.426...</td>\n",
       "      <td>[-0.2632424213578779, -0.20564125227277524, -0...</td>\n",
       "      <td>[7.253770878524064, 7.253492070703674, 7.25325...</td>\n",
       "      <td>[3.012909316629822, 2.9762030593762456, 2.9391...</td>\n",
       "      <td>[-0.2810703984996834, -0.2689010295990586, -0....</td>\n",
       "      <td>[0.03647605573681156, 0.03467790446724431, 0.0...</td>\n",
       "      <td>[0.036595681328448926, 0.03219534890377507, 0....</td>\n",
       "    </tr>\n",
       "    <tr>\n",
       "      <th>1</th>\n",
       "      <td>18</td>\n",
       "      <td>9</td>\n",
       "      <td>2018-12-01 23:29:35</td>\n",
       "      <td>2018-12-01 23:30:09</td>\n",
       "      <td>[1.3620586299434982, 1.3607741168026488, 1.360...</td>\n",
       "      <td>[7.704226326846039, 7.753452679488208, 7.80137...</td>\n",
       "      <td>[0.09263532439116798, 0.7122787723283562, 1.31...</td>\n",
       "      <td>[2018-12-01T23:29:55.700000000, 2018-12-01T23:...</td>\n",
       "      <td>265</td>\n",
       "      <td>[0.5632536892784036, 0.5684677740141921, 0.574...</td>\n",
       "      <td>[-0.08159910474086746, -0.042903023442574406, ...</td>\n",
       "      <td>[-0.24768816267381943, 0.281857205785375, 0.79...</td>\n",
       "      <td>[0.7778934049116013, 0.7713318303126115, 0.765...</td>\n",
       "      <td>[7.78447117081441, 7.795101874186796, 7.805659...</td>\n",
       "      <td>[0.2887873088211561, 0.3787048867387693, 0.468...</td>\n",
       "      <td>[0.005214084735788549, 0.005642071164424223, 0...</td>\n",
       "      <td>[0.03869608129829305, 0.03808437403262374, 0.0...</td>\n",
       "      <td>[0.5295453684591944, 0.5229234324961214, 0.501...</td>\n",
       "    </tr>\n",
       "    <tr>\n",
       "      <th>2</th>\n",
       "      <td>18</td>\n",
       "      <td>10</td>\n",
       "      <td>2018-12-01 23:46:32</td>\n",
       "      <td>2018-12-01 23:47:20</td>\n",
       "      <td>[-4.22142105868042, -4.228173445447816, -4.232...</td>\n",
       "      <td>[4.633118408576495, 4.776392928058909, 4.92265...</td>\n",
       "      <td>[2.2883405806148702, 2.64521618074148, 2.98787...</td>\n",
       "      <td>[2018-12-01T23:46:33.650000000, 2018-12-01T23:...</td>\n",
       "      <td>921</td>\n",
       "      <td>[-1.4511337674426725, -1.544740335749924, -1.6...</td>\n",
       "      <td>[-0.3931916964321358, -0.30305822582994857, -0...</td>\n",
       "      <td>[0.852093170180279, 1.208646684901996, 1.55152...</td>\n",
       "      <td>[-2.7702880005982173, -2.683433788120924, -2.5...</td>\n",
       "      <td>[5.0263093823980185, 5.079450396493344, 5.1328...</td>\n",
       "      <td>[1.4362483617259316, 1.4365705105496596, 1.436...</td>\n",
       "      <td>[-0.09360656830725156, -0.093277331654538, -0....</td>\n",
       "      <td>[0.09013347060218724, 0.09152193763555905, 0.0...</td>\n",
       "      <td>[0.3565535147217169, 0.3497154520714346, 0.329...</td>\n",
       "    </tr>\n",
       "    <tr>\n",
       "      <th>3</th>\n",
       "      <td>18</td>\n",
       "      <td>9</td>\n",
       "      <td>2018-12-01 23:58:27</td>\n",
       "      <td>2018-12-01 23:59:03</td>\n",
       "      <td>[0.011176190391082773, -0.12869343186136828, -...</td>\n",
       "      <td>[8.655850321930386, 8.76944554480367, 8.877926...</td>\n",
       "      <td>[3.977220032950275, 4.223088201691081, 4.45847...</td>\n",
       "      <td>[2018-12-01T23:58:27.250000000, 2018-12-01T23:...</td>\n",
       "      <td>670</td>\n",
       "      <td>[-0.8935846554944386, -1.0630745771337158, -1....</td>\n",
       "      <td>[0.24593292531553584, 0.35636176794715324, 0.4...</td>\n",
       "      <td>[1.313201328819726, 1.591047226884147, 1.85886...</td>\n",
       "      <td>[0.9048117930478055, 0.9344399275344912, 0.964...</td>\n",
       "      <td>[8.40997372186405, 8.413143563427502, 8.416295...</td>\n",
       "      <td>[2.6640102691552765, 2.6320312791862492, 2.599...</td>\n",
       "      <td>[-0.16948992163927723, -0.16825374865386195, -...</td>\n",
       "      <td>[0.1104288426316174, 0.10788062044581434, 0.10...</td>\n",
       "      <td>[0.27784589806442095, 0.2728297573506345, 0.25...</td>\n",
       "    </tr>\n",
       "    <tr>\n",
       "      <th>4</th>\n",
       "      <td>4</td>\n",
       "      <td>5</td>\n",
       "      <td>2018-12-02 10:27:37</td>\n",
       "      <td>2018-12-02 10:28:22</td>\n",
       "      <td>[0.10783071488709874, 0.3303105412467751, 0.54...</td>\n",
       "      <td>[7.093423475561911, 6.999542499158988, 6.90472...</td>\n",
       "      <td>[5.846058082782215, 5.935895343189449, 6.04110...</td>\n",
       "      <td>[2018-12-02T10:27:37.000000000, 2018-12-02T10:...</td>\n",
       "      <td>898</td>\n",
       "      <td>[0.3949620293016062, 0.6160520050188684, 0.830...</td>\n",
       "      <td>[-0.8684353579027453, -0.9816469029986739, -1....</td>\n",
       "      <td>[1.6021970525231786, 1.7102600861222248, 1.834...</td>\n",
       "      <td>[-0.28713240328273776, -0.28574260928012857, -...</td>\n",
       "      <td>[7.96185908937324, 7.981189673227868, 8.000815...</td>\n",
       "      <td>[4.243861877413061, 4.225636133427083, 4.20690...</td>\n",
       "      <td>[0.2210899757172622, 0.21791468498421446, 0.20...</td>\n",
       "      <td>[-0.11321154509592857, -0.11382725647849024, -...</td>\n",
       "      <td>[0.10806303359904623, 0.11600286064720233, 0.1...</td>\n",
       "    </tr>\n",
       "  </tbody>\n",
       "</table>\n",
       "</div>"
      ],
      "text/plain": [
       "   user_id  ...                                            tjerk-Z\n",
       "0       18  ...  [0.036595681328448926, 0.03219534890377507, 0....\n",
       "1       18  ...  [0.5295453684591944, 0.5229234324961214, 0.501...\n",
       "2       18  ...  [0.3565535147217169, 0.3497154520714346, 0.329...\n",
       "3       18  ...  [0.27784589806442095, 0.2728297573506345, 0.25...\n",
       "4        4  ...  [0.10806303359904623, 0.11600286064720233, 0.1...\n",
       "\n",
       "[5 rows x 18 columns]"
      ]
     },
     "execution_count": 10,
     "metadata": {
      "tags": []
     },
     "output_type": "execute_result"
    }
   ],
   "source": [
    "jerk_x = []\n",
    "jerk_y = []\n",
    "jerk_z = []\n",
    "for i in range(len(labeled_field)):\n",
    "    jerk_x.append(np.gradient(labeled_field.loc[i, \"tbody-X\"]))\n",
    "    jerk_y.append(np.gradient(labeled_field.loc[i, \"tbody-Y\"]))\n",
    "    jerk_z.append(np.gradient(labeled_field.loc[i, \"tbody-Z\"]))\n",
    "labeled_field[\"tjerk-X\"] = jerk_x\n",
    "labeled_field[\"tjerk-Y\"] = jerk_y\n",
    "labeled_field[\"tjerk-Z\"] = jerk_z\n",
    "labeled_field.head()\n"
   ]
  },
  {
   "cell_type": "code",
   "execution_count": null,
   "metadata": {
    "colab": {
     "base_uri": "https://localhost:8080/",
     "height": 400
    },
    "id": "qTecSMNrTlp9",
    "outputId": "10dfcff0-320c-452f-9440-8beb1f0f1a98"
   },
   "outputs": [
    {
     "data": {
      "text/html": [
       "<div>\n",
       "<style scoped>\n",
       "    .dataframe tbody tr th:only-of-type {\n",
       "        vertical-align: middle;\n",
       "    }\n",
       "\n",
       "    .dataframe tbody tr th {\n",
       "        vertical-align: top;\n",
       "    }\n",
       "\n",
       "    .dataframe thead th {\n",
       "        text-align: right;\n",
       "    }\n",
       "</style>\n",
       "<table border=\"1\" class=\"dataframe\">\n",
       "  <thead>\n",
       "    <tr style=\"text-align: right;\">\n",
       "      <th></th>\n",
       "      <th>user_id</th>\n",
       "      <th>activity_type_id</th>\n",
       "      <th>start</th>\n",
       "      <th>finish</th>\n",
       "      <th>X</th>\n",
       "      <th>Y</th>\n",
       "      <th>Z</th>\n",
       "      <th>Time</th>\n",
       "      <th>length</th>\n",
       "      <th>tbody-X</th>\n",
       "      <th>tbody-Y</th>\n",
       "      <th>tbody-Z</th>\n",
       "      <th>tgravity-X</th>\n",
       "      <th>tgravity-Y</th>\n",
       "      <th>tgravity-Z</th>\n",
       "      <th>tjerk-X</th>\n",
       "      <th>tjerk-Y</th>\n",
       "      <th>tjerk-Z</th>\n",
       "      <th>fbody-X</th>\n",
       "      <th>fbody-Y</th>\n",
       "      <th>fbody-Z</th>\n",
       "      <th>fjerk-X</th>\n",
       "      <th>fjerk-Y</th>\n",
       "      <th>fjerk-Z</th>\n",
       "    </tr>\n",
       "  </thead>\n",
       "  <tbody>\n",
       "    <tr>\n",
       "      <th>0</th>\n",
       "      <td>18</td>\n",
       "      <td>9</td>\n",
       "      <td>2018-12-01 22:50:29</td>\n",
       "      <td>2018-12-01 22:51:16</td>\n",
       "      <td>[-1.0761912191930145, -1.2996604335255786, -1....</td>\n",
       "      <td>[7.278006110899289, 7.314203359813134, 7.34684...</td>\n",
       "      <td>[3.3749311576590486, 3.374820581767359, 3.3656...</td>\n",
       "      <td>[2018-12-01T22:50:30.450000000, 2018-12-01T22:...</td>\n",
       "      <td>800</td>\n",
       "      <td>[-0.8129477328301933, -1.0940181313298767, -1....</td>\n",
       "      <td>[0.024235261513694217, 0.060711317250505784, 0...</td>\n",
       "      <td>[0.3620218302456193, 0.3986175115740682, 0.426...</td>\n",
       "      <td>[-0.2632424213578779, -0.20564125227277524, -0...</td>\n",
       "      <td>[7.253770878524064, 7.253492070703674, 7.25325...</td>\n",
       "      <td>[3.012909316629822, 2.9762030593762456, 2.9391...</td>\n",
       "      <td>[-0.2810703984996834, -0.2689010295990586, -0....</td>\n",
       "      <td>[0.03647605573681156, 0.03467790446724431, 0.0...</td>\n",
       "      <td>[0.036595681328448926, 0.03219534890377507, 0....</td>\n",
       "      <td>[7.27610871506813, 49.18947076110086, 677.4712...</td>\n",
       "      <td>[0.09936372653259903, 0.19729932546478854, 10....</td>\n",
       "      <td>[124.49488476388441, 151.7728584818144, 331.36...</td>\n",
       "      <td>[0.3973615131092107, 0.46510436312442643, 1.07...</td>\n",
       "      <td>[7.813362502028625e-05, 9.292966598611656e-05,...</td>\n",
       "      <td>[0.11830819029781056, 0.14155194005502342, 0.2...</td>\n",
       "    </tr>\n",
       "    <tr>\n",
       "      <th>1</th>\n",
       "      <td>18</td>\n",
       "      <td>9</td>\n",
       "      <td>2018-12-01 23:29:35</td>\n",
       "      <td>2018-12-01 23:30:09</td>\n",
       "      <td>[1.3620586299434982, 1.3607741168026488, 1.360...</td>\n",
       "      <td>[7.704226326846039, 7.753452679488208, 7.80137...</td>\n",
       "      <td>[0.09263532439116798, 0.7122787723283562, 1.31...</td>\n",
       "      <td>[2018-12-01T23:29:55.700000000, 2018-12-01T23:...</td>\n",
       "      <td>265</td>\n",
       "      <td>[0.5632536892784036, 0.5684677740141921, 0.574...</td>\n",
       "      <td>[-0.08159910474086746, -0.042903023442574406, ...</td>\n",
       "      <td>[-0.24768816267381943, 0.281857205785375, 0.79...</td>\n",
       "      <td>[0.7778934049116013, 0.7713318303126115, 0.765...</td>\n",
       "      <td>[7.78447117081441, 7.795101874186796, 7.805659...</td>\n",
       "      <td>[0.2887873088211561, 0.3787048867387693, 0.468...</td>\n",
       "      <td>[0.005214084735788549, 0.005642071164424223, 0...</td>\n",
       "      <td>[0.03869608129829305, 0.03808437403262374, 0.0...</td>\n",
       "      <td>[0.5295453684591944, 0.5229234324961214, 0.501...</td>\n",
       "      <td>[315.62750134004926, 2267.728832655998, 24901....</td>\n",
       "      <td>[94.35544869489276, 171.6956882672789, 2255.77...</td>\n",
       "      <td>[8210.801178218766, 29915.070196564076, 26960....</td>\n",
       "      <td>[0.00034453922734404375, 1.3064450605453777, 5...</td>\n",
       "      <td>[0.3057238894525378, 0.42986708764424186, 7.86...</td>\n",
       "      <td>[0.06400000017615878, 15.775538727883704, 59.5...</td>\n",
       "    </tr>\n",
       "    <tr>\n",
       "      <th>2</th>\n",
       "      <td>18</td>\n",
       "      <td>10</td>\n",
       "      <td>2018-12-01 23:46:32</td>\n",
       "      <td>2018-12-01 23:47:20</td>\n",
       "      <td>[-4.22142105868042, -4.228173445447816, -4.232...</td>\n",
       "      <td>[4.633118408576495, 4.776392928058909, 4.92265...</td>\n",
       "      <td>[2.2883405806148702, 2.64521618074148, 2.98787...</td>\n",
       "      <td>[2018-12-01T23:46:33.650000000, 2018-12-01T23:...</td>\n",
       "      <td>921</td>\n",
       "      <td>[-1.4511337674426725, -1.544740335749924, -1.6...</td>\n",
       "      <td>[-0.3931916964321358, -0.30305822582994857, -0...</td>\n",
       "      <td>[0.852093170180279, 1.208646684901996, 1.55152...</td>\n",
       "      <td>[-2.7702880005982173, -2.683433788120924, -2.5...</td>\n",
       "      <td>[5.0263093823980185, 5.079450396493344, 5.1328...</td>\n",
       "      <td>[1.4362483617259316, 1.4365705105496596, 1.436...</td>\n",
       "      <td>[-0.09360656830725156, -0.093277331654538, -0....</td>\n",
       "      <td>[0.09013347060218724, 0.09152193763555905, 0.0...</td>\n",
       "      <td>[0.3565535147217169, 0.3497154520714346, 0.329...</td>\n",
       "      <td>[9.920885086481746, 175.47281671956205, 1124.7...</td>\n",
       "      <td>[649.6040610803229, 749.091259827949, 1010.285...</td>\n",
       "      <td>[1116.571137363764, 1008.0966006598189, 1021.8...</td>\n",
       "      <td>[5.727987888556263, 6.094782594854818, 7.95897...</td>\n",
       "      <td>[1.5630497127679297, 1.6169478149010688, 1.898...</td>\n",
       "      <td>[2.1122262136038152, 2.2083265160617045, 2.244...</td>\n",
       "    </tr>\n",
       "    <tr>\n",
       "      <th>3</th>\n",
       "      <td>18</td>\n",
       "      <td>9</td>\n",
       "      <td>2018-12-01 23:58:27</td>\n",
       "      <td>2018-12-01 23:59:03</td>\n",
       "      <td>[0.011176190391082773, -0.12869343186136828, -...</td>\n",
       "      <td>[8.655850321930386, 8.76944554480367, 8.877926...</td>\n",
       "      <td>[3.977220032950275, 4.223088201691081, 4.45847...</td>\n",
       "      <td>[2018-12-01T23:58:27.250000000, 2018-12-01T23:...</td>\n",
       "      <td>670</td>\n",
       "      <td>[-0.8935846554944386, -1.0630745771337158, -1....</td>\n",
       "      <td>[0.24593292531553584, 0.35636176794715324, 0.4...</td>\n",
       "      <td>[1.313201328819726, 1.591047226884147, 1.85886...</td>\n",
       "      <td>[0.9048117930478055, 0.9344399275344912, 0.964...</td>\n",
       "      <td>[8.40997372186405, 8.413143563427502, 8.416295...</td>\n",
       "      <td>[2.6640102691552765, 2.6320312791862492, 2.599...</td>\n",
       "      <td>[-0.16948992163927723, -0.16825374865386195, -...</td>\n",
       "      <td>[0.1104288426316174, 0.10788062044581434, 0.10...</td>\n",
       "      <td>[0.27784589806442095, 0.2728297573506345, 0.25...</td>\n",
       "      <td>[105.85598986379395, 1377.2522756380401, 23510...</td>\n",
       "      <td>[90.45788270598575, 30.38147078785505, 2722.00...</td>\n",
       "      <td>[33.55368335004962, 122.904473673276, 3277.507...</td>\n",
       "      <td>[2.773545223371845, 3.536268254932316, 18.9315...</td>\n",
       "      <td>[0.0003943826286891726, 0.005054575840535069, ...</td>\n",
       "      <td>[1.334540949225435, 1.5208259429905366, 4.9620...</td>\n",
       "    </tr>\n",
       "    <tr>\n",
       "      <th>4</th>\n",
       "      <td>4</td>\n",
       "      <td>5</td>\n",
       "      <td>2018-12-02 10:27:37</td>\n",
       "      <td>2018-12-02 10:28:22</td>\n",
       "      <td>[0.10783071488709874, 0.3303105412467751, 0.54...</td>\n",
       "      <td>[7.093423475561911, 6.999542499158988, 6.90472...</td>\n",
       "      <td>[5.846058082782215, 5.935895343189449, 6.04110...</td>\n",
       "      <td>[2018-12-02T10:27:37.000000000, 2018-12-02T10:...</td>\n",
       "      <td>898</td>\n",
       "      <td>[0.3949620293016062, 0.6160520050188684, 0.830...</td>\n",
       "      <td>[-0.8684353579027453, -0.9816469029986739, -1....</td>\n",
       "      <td>[1.6021970525231786, 1.7102600861222248, 1.834...</td>\n",
       "      <td>[-0.28713240328273776, -0.28574260928012857, -...</td>\n",
       "      <td>[7.96185908937324, 7.981189673227868, 8.000815...</td>\n",
       "      <td>[4.243861877413061, 4.225636133427083, 4.20690...</td>\n",
       "      <td>[0.2210899757172622, 0.21791468498421446, 0.20...</td>\n",
       "      <td>[-0.11321154509592857, -0.11382725647849024, -...</td>\n",
       "      <td>[0.10806303359904623, 0.11600286064720233, 0.1...</td>\n",
       "      <td>[9.433837485063139, 1.612454497526597, 116.443...</td>\n",
       "      <td>[8.506625709800174, 23.362794530523097, 121.28...</td>\n",
       "      <td>[166.27479311609977, 172.52269385515396, 522.0...</td>\n",
       "      <td>[0.20990245313170675, 0.21526606659907732, 0.3...</td>\n",
       "      <td>[1.4109655140317408, 1.469796709635346, 1.7809...</td>\n",
       "      <td>[5.8170098489940525, 5.945236576252691, 6.2484...</td>\n",
       "    </tr>\n",
       "  </tbody>\n",
       "</table>\n",
       "</div>"
      ],
      "text/plain": [
       "   user_id  ...                                            fjerk-Z\n",
       "0       18  ...  [0.11830819029781056, 0.14155194005502342, 0.2...\n",
       "1       18  ...  [0.06400000017615878, 15.775538727883704, 59.5...\n",
       "2       18  ...  [2.1122262136038152, 2.2083265160617045, 2.244...\n",
       "3       18  ...  [1.334540949225435, 1.5208259429905366, 4.9620...\n",
       "4        4  ...  [5.8170098489940525, 5.945236576252691, 6.2484...\n",
       "\n",
       "[5 rows x 24 columns]"
      ]
     },
     "execution_count": 11,
     "metadata": {
      "tags": []
     },
     "output_type": "execute_result"
    }
   ],
   "source": [
    "labeled_field[\"fbody-X\"] = labeled_field[\"tbody-X\"].apply(lambda x: np.abs(fft(x)) ** 2)\n",
    "labeled_field[\"fbody-Y\"] = labeled_field[\"tbody-Y\"].apply(lambda x: np.abs(fft(x)) ** 2)\n",
    "labeled_field[\"fbody-Z\"] = labeled_field[\"tbody-Z\"].apply(lambda x: np.abs(fft(x)) ** 2)\n",
    "labeled_field[\"fjerk-X\"] = labeled_field[\"tjerk-X\"].apply(lambda x: np.abs(fft(x)) ** 2)\n",
    "labeled_field[\"fjerk-Y\"] = labeled_field[\"tjerk-Y\"].apply(lambda x: np.abs(fft(x)) ** 2)\n",
    "labeled_field[\"fjerk-Z\"] = labeled_field[\"tjerk-Z\"].apply(lambda x: np.abs(fft(x)) ** 2)\n",
    "labeled_field.head()\n"
   ]
  },
  {
   "cell_type": "code",
   "execution_count": null,
   "metadata": {
    "colab": {
     "base_uri": "https://localhost:8080/",
     "height": 135
    },
    "id": "Gla2BQTun07S",
    "outputId": "bf650d8e-f3f4-4002-ff7e-a066f862e62c"
   },
   "outputs": [
    {
     "data": {
      "text/html": [
       "<div>\n",
       "<style scoped>\n",
       "    .dataframe tbody tr th:only-of-type {\n",
       "        vertical-align: middle;\n",
       "    }\n",
       "\n",
       "    .dataframe tbody tr th {\n",
       "        vertical-align: top;\n",
       "    }\n",
       "\n",
       "    .dataframe thead th {\n",
       "        text-align: right;\n",
       "    }\n",
       "</style>\n",
       "<table border=\"1\" class=\"dataframe\">\n",
       "  <thead>\n",
       "    <tr style=\"text-align: right;\">\n",
       "      <th></th>\n",
       "      <th>user_id</th>\n",
       "      <th>activity_type_id</th>\n",
       "      <th>start</th>\n",
       "      <th>finish</th>\n",
       "      <th>X</th>\n",
       "      <th>Y</th>\n",
       "      <th>Z</th>\n",
       "      <th>Time</th>\n",
       "      <th>length</th>\n",
       "      <th>tbody-X</th>\n",
       "      <th>tbody-Y</th>\n",
       "      <th>tbody-Z</th>\n",
       "      <th>tgravity-X</th>\n",
       "      <th>tgravity-Y</th>\n",
       "      <th>tgravity-Z</th>\n",
       "      <th>tjerk-X</th>\n",
       "      <th>tjerk-Y</th>\n",
       "      <th>tjerk-Z</th>\n",
       "      <th>fbody-X</th>\n",
       "      <th>fbody-Y</th>\n",
       "      <th>fbody-Z</th>\n",
       "      <th>fjerk-X</th>\n",
       "      <th>fjerk-Y</th>\n",
       "      <th>fjerk-Z</th>\n",
       "      <th>tbody_mag</th>\n",
       "    </tr>\n",
       "  </thead>\n",
       "  <tbody>\n",
       "    <tr>\n",
       "      <th>0</th>\n",
       "      <td>18</td>\n",
       "      <td>9</td>\n",
       "      <td>2018-12-01 22:50:29</td>\n",
       "      <td>2018-12-01 22:51:16</td>\n",
       "      <td>[-1.0761912191930145, -1.2996604335255786, -1....</td>\n",
       "      <td>[7.278006110899289, 7.314203359813134, 7.34684...</td>\n",
       "      <td>[3.3749311576590486, 3.374820581767359, 3.3656...</td>\n",
       "      <td>[2018-12-01T22:50:30.450000000, 2018-12-01T22:...</td>\n",
       "      <td>800</td>\n",
       "      <td>[-0.8129477328301933, -1.0940181313298767, -1....</td>\n",
       "      <td>[0.024235261513694217, 0.060711317250505784, 0...</td>\n",
       "      <td>[0.3620218302456193, 0.3986175115740682, 0.426...</td>\n",
       "      <td>[-0.2632424213578779, -0.20564125227277524, -0...</td>\n",
       "      <td>[7.253770878524064, 7.253492070703674, 7.25325...</td>\n",
       "      <td>[3.012909316629822, 2.9762030593762456, 2.9391...</td>\n",
       "      <td>[-0.2810703984996834, -0.2689010295990586, -0....</td>\n",
       "      <td>[0.03647605573681156, 0.03467790446724431, 0.0...</td>\n",
       "      <td>[0.036595681328448926, 0.03219534890377507, 0....</td>\n",
       "      <td>[7.27610871506813, 49.18947076110086, 677.4712...</td>\n",
       "      <td>[0.09936372653259903, 0.19729932546478854, 10....</td>\n",
       "      <td>[124.49488476388441, 151.7728584818144, 331.36...</td>\n",
       "      <td>[0.3973615131092107, 0.46510436312442643, 1.07...</td>\n",
       "      <td>[7.813362502028625e-05, 9.292966598611656e-05,...</td>\n",
       "      <td>[0.11830819029781056, 0.14155194005502342, 0.2...</td>\n",
       "      <td>[0.8902421972636303, 1.16595774205342, 1.41954...</td>\n",
       "    </tr>\n",
       "  </tbody>\n",
       "</table>\n",
       "</div>"
      ],
      "text/plain": [
       "   user_id  ...                                          tbody_mag\n",
       "0       18  ...  [0.8902421972636303, 1.16595774205342, 1.41954...\n",
       "\n",
       "[1 rows x 25 columns]"
      ]
     },
     "execution_count": 12,
     "metadata": {
      "tags": []
     },
     "output_type": "execute_result"
    }
   ],
   "source": [
    "X = []\n",
    "for i in range(len(labeled_field)):\n",
    "    x = labeled_field.loc[i, \"tbody-X\"]\n",
    "    y = labeled_field.loc[i, \"tbody-Y\"]\n",
    "    z = labeled_field.loc[i, \"tbody-Z\"]\n",
    "    a = np.vstack([x, y, z])\n",
    "    X.append(np.linalg.norm(a, axis=0))\n",
    "labeled_field[\"tbody_mag\"] = X\n",
    "labeled_field.head(1)\n"
   ]
  },
  {
   "cell_type": "code",
   "execution_count": null,
   "metadata": {
    "colab": {
     "base_uri": "https://localhost:8080/",
     "height": 135
    },
    "id": "GQG0DEBcktZ6",
    "outputId": "fb4b072e-c5f4-4d45-c936-d85bd6e2a044"
   },
   "outputs": [
    {
     "data": {
      "text/html": [
       "<div>\n",
       "<style scoped>\n",
       "    .dataframe tbody tr th:only-of-type {\n",
       "        vertical-align: middle;\n",
       "    }\n",
       "\n",
       "    .dataframe tbody tr th {\n",
       "        vertical-align: top;\n",
       "    }\n",
       "\n",
       "    .dataframe thead th {\n",
       "        text-align: right;\n",
       "    }\n",
       "</style>\n",
       "<table border=\"1\" class=\"dataframe\">\n",
       "  <thead>\n",
       "    <tr style=\"text-align: right;\">\n",
       "      <th></th>\n",
       "      <th>user_id</th>\n",
       "      <th>activity_type_id</th>\n",
       "      <th>start</th>\n",
       "      <th>finish</th>\n",
       "      <th>X</th>\n",
       "      <th>Y</th>\n",
       "      <th>Z</th>\n",
       "      <th>Time</th>\n",
       "      <th>length</th>\n",
       "      <th>tbody-X</th>\n",
       "      <th>tbody-Y</th>\n",
       "      <th>tbody-Z</th>\n",
       "      <th>tgravity-X</th>\n",
       "      <th>tgravity-Y</th>\n",
       "      <th>tgravity-Z</th>\n",
       "      <th>tjerk-X</th>\n",
       "      <th>tjerk-Y</th>\n",
       "      <th>tjerk-Z</th>\n",
       "      <th>fbody-X</th>\n",
       "      <th>fbody-Y</th>\n",
       "      <th>fbody-Z</th>\n",
       "      <th>fjerk-X</th>\n",
       "      <th>fjerk-Y</th>\n",
       "      <th>fjerk-Z</th>\n",
       "      <th>tbody_mag</th>\n",
       "      <th>tgravity_mag</th>\n",
       "    </tr>\n",
       "  </thead>\n",
       "  <tbody>\n",
       "    <tr>\n",
       "      <th>0</th>\n",
       "      <td>18</td>\n",
       "      <td>9</td>\n",
       "      <td>2018-12-01 22:50:29</td>\n",
       "      <td>2018-12-01 22:51:16</td>\n",
       "      <td>[-1.0761912191930145, -1.2996604335255786, -1....</td>\n",
       "      <td>[7.278006110899289, 7.314203359813134, 7.34684...</td>\n",
       "      <td>[3.3749311576590486, 3.374820581767359, 3.3656...</td>\n",
       "      <td>[2018-12-01T22:50:30.450000000, 2018-12-01T22:...</td>\n",
       "      <td>800</td>\n",
       "      <td>[-0.8129477328301933, -1.0940181313298767, -1....</td>\n",
       "      <td>[0.024235261513694217, 0.060711317250505784, 0...</td>\n",
       "      <td>[0.3620218302456193, 0.3986175115740682, 0.426...</td>\n",
       "      <td>[-0.2632424213578779, -0.20564125227277524, -0...</td>\n",
       "      <td>[7.253770878524064, 7.253492070703674, 7.25325...</td>\n",
       "      <td>[3.012909316629822, 2.9762030593762456, 2.9391...</td>\n",
       "      <td>[-0.2810703984996834, -0.2689010295990586, -0....</td>\n",
       "      <td>[0.03647605573681156, 0.03467790446724431, 0.0...</td>\n",
       "      <td>[0.036595681328448926, 0.03219534890377507, 0....</td>\n",
       "      <td>[7.27610871506813, 49.18947076110086, 677.4712...</td>\n",
       "      <td>[0.09936372653259903, 0.19729932546478854, 10....</td>\n",
       "      <td>[124.49488476388441, 151.7728584818144, 331.36...</td>\n",
       "      <td>[0.3973615131092107, 0.46510436312442643, 1.07...</td>\n",
       "      <td>[7.813362502028625e-05, 9.292966598611656e-05,...</td>\n",
       "      <td>[0.11830819029781056, 0.14155194005502342, 0.2...</td>\n",
       "      <td>[0.8902421972636303, 1.16595774205342, 1.41954...</td>\n",
       "      <td>[7.859014638029434, 7.8430364142363835, 7.8275...</td>\n",
       "    </tr>\n",
       "  </tbody>\n",
       "</table>\n",
       "</div>"
      ],
      "text/plain": [
       "   user_id  ...                                       tgravity_mag\n",
       "0       18  ...  [7.859014638029434, 7.8430364142363835, 7.8275...\n",
       "\n",
       "[1 rows x 26 columns]"
      ]
     },
     "execution_count": 13,
     "metadata": {
      "tags": []
     },
     "output_type": "execute_result"
    }
   ],
   "source": [
    "X = []\n",
    "for i in range(len(labeled_field)):\n",
    "    x = labeled_field.loc[i, \"tgravity-X\"]\n",
    "    y = labeled_field.loc[i, \"tgravity-Y\"]\n",
    "    z = labeled_field.loc[i, \"tgravity-Z\"]\n",
    "    a = np.vstack([x, y, z])\n",
    "    X.append(np.linalg.norm(a, axis=0))\n",
    "labeled_field[\"tgravity_mag\"] = X\n",
    "labeled_field.head(1)\n"
   ]
  },
  {
   "cell_type": "code",
   "execution_count": null,
   "metadata": {
    "colab": {
     "base_uri": "https://localhost:8080/",
     "height": 135
    },
    "id": "vFnNNeQ9oN_z",
    "outputId": "2ed7d19f-c497-4f87-d59b-f9a6e6e48908"
   },
   "outputs": [
    {
     "data": {
      "text/html": [
       "<div>\n",
       "<style scoped>\n",
       "    .dataframe tbody tr th:only-of-type {\n",
       "        vertical-align: middle;\n",
       "    }\n",
       "\n",
       "    .dataframe tbody tr th {\n",
       "        vertical-align: top;\n",
       "    }\n",
       "\n",
       "    .dataframe thead th {\n",
       "        text-align: right;\n",
       "    }\n",
       "</style>\n",
       "<table border=\"1\" class=\"dataframe\">\n",
       "  <thead>\n",
       "    <tr style=\"text-align: right;\">\n",
       "      <th></th>\n",
       "      <th>user_id</th>\n",
       "      <th>activity_type_id</th>\n",
       "      <th>start</th>\n",
       "      <th>finish</th>\n",
       "      <th>X</th>\n",
       "      <th>Y</th>\n",
       "      <th>Z</th>\n",
       "      <th>Time</th>\n",
       "      <th>length</th>\n",
       "      <th>tbody-X</th>\n",
       "      <th>tbody-Y</th>\n",
       "      <th>tbody-Z</th>\n",
       "      <th>tgravity-X</th>\n",
       "      <th>tgravity-Y</th>\n",
       "      <th>tgravity-Z</th>\n",
       "      <th>tjerk-X</th>\n",
       "      <th>tjerk-Y</th>\n",
       "      <th>tjerk-Z</th>\n",
       "      <th>fbody-X</th>\n",
       "      <th>fbody-Y</th>\n",
       "      <th>fbody-Z</th>\n",
       "      <th>fjerk-X</th>\n",
       "      <th>fjerk-Y</th>\n",
       "      <th>fjerk-Z</th>\n",
       "      <th>tbody_mag</th>\n",
       "      <th>tgravity_mag</th>\n",
       "      <th>tjerk_mag</th>\n",
       "    </tr>\n",
       "  </thead>\n",
       "  <tbody>\n",
       "    <tr>\n",
       "      <th>0</th>\n",
       "      <td>18</td>\n",
       "      <td>9</td>\n",
       "      <td>2018-12-01 22:50:29</td>\n",
       "      <td>2018-12-01 22:51:16</td>\n",
       "      <td>[-1.0761912191930145, -1.2996604335255786, -1....</td>\n",
       "      <td>[7.278006110899289, 7.314203359813134, 7.34684...</td>\n",
       "      <td>[3.3749311576590486, 3.374820581767359, 3.3656...</td>\n",
       "      <td>[2018-12-01T22:50:30.450000000, 2018-12-01T22:...</td>\n",
       "      <td>800</td>\n",
       "      <td>[-0.8129477328301933, -1.0940181313298767, -1....</td>\n",
       "      <td>[0.024235261513694217, 0.060711317250505784, 0...</td>\n",
       "      <td>[0.3620218302456193, 0.3986175115740682, 0.426...</td>\n",
       "      <td>[-0.2632424213578779, -0.20564125227277524, -0...</td>\n",
       "      <td>[7.253770878524064, 7.253492070703674, 7.25325...</td>\n",
       "      <td>[3.012909316629822, 2.9762030593762456, 2.9391...</td>\n",
       "      <td>[-0.2810703984996834, -0.2689010295990586, -0....</td>\n",
       "      <td>[0.03647605573681156, 0.03467790446724431, 0.0...</td>\n",
       "      <td>[0.036595681328448926, 0.03219534890377507, 0....</td>\n",
       "      <td>[7.27610871506813, 49.18947076110086, 677.4712...</td>\n",
       "      <td>[0.09936372653259903, 0.19729932546478854, 10....</td>\n",
       "      <td>[124.49488476388441, 151.7728584818144, 331.36...</td>\n",
       "      <td>[0.3973615131092107, 0.46510436312442643, 1.07...</td>\n",
       "      <td>[7.813362502028625e-05, 9.292966598611656e-05,...</td>\n",
       "      <td>[0.11830819029781056, 0.14155194005502342, 0.2...</td>\n",
       "      <td>[0.8902421972636303, 1.16595774205342, 1.41954...</td>\n",
       "      <td>[7.859014638029434, 7.8430364142363835, 7.8275...</td>\n",
       "      <td>[0.2857801872887258, 0.27303271098663057, 0.23...</td>\n",
       "    </tr>\n",
       "  </tbody>\n",
       "</table>\n",
       "</div>"
      ],
      "text/plain": [
       "   user_id  ...                                          tjerk_mag\n",
       "0       18  ...  [0.2857801872887258, 0.27303271098663057, 0.23...\n",
       "\n",
       "[1 rows x 27 columns]"
      ]
     },
     "execution_count": 14,
     "metadata": {
      "tags": []
     },
     "output_type": "execute_result"
    }
   ],
   "source": [
    "X = []\n",
    "for i in range(len(labeled_field)):\n",
    "    x = labeled_field.loc[i, \"tjerk-X\"]\n",
    "    y = labeled_field.loc[i, \"tjerk-Y\"]\n",
    "    z = labeled_field.loc[i, \"tjerk-Z\"]\n",
    "    a = np.vstack([x, y, z])\n",
    "    X.append(np.linalg.norm(a, axis=0))\n",
    "labeled_field[\"tjerk_mag\"] = X\n",
    "labeled_field.head(1)\n"
   ]
  },
  {
   "cell_type": "code",
   "execution_count": null,
   "metadata": {
    "colab": {
     "base_uri": "https://localhost:8080/",
     "height": 135
    },
    "id": "kI4kS6pHob1J",
    "outputId": "1fc5dd24-18a0-480c-baec-597a0a8af2a3"
   },
   "outputs": [
    {
     "data": {
      "text/html": [
       "<div>\n",
       "<style scoped>\n",
       "    .dataframe tbody tr th:only-of-type {\n",
       "        vertical-align: middle;\n",
       "    }\n",
       "\n",
       "    .dataframe tbody tr th {\n",
       "        vertical-align: top;\n",
       "    }\n",
       "\n",
       "    .dataframe thead th {\n",
       "        text-align: right;\n",
       "    }\n",
       "</style>\n",
       "<table border=\"1\" class=\"dataframe\">\n",
       "  <thead>\n",
       "    <tr style=\"text-align: right;\">\n",
       "      <th></th>\n",
       "      <th>user_id</th>\n",
       "      <th>activity_type_id</th>\n",
       "      <th>start</th>\n",
       "      <th>finish</th>\n",
       "      <th>X</th>\n",
       "      <th>Y</th>\n",
       "      <th>Z</th>\n",
       "      <th>Time</th>\n",
       "      <th>length</th>\n",
       "      <th>tbody-X</th>\n",
       "      <th>tbody-Y</th>\n",
       "      <th>tbody-Z</th>\n",
       "      <th>tgravity-X</th>\n",
       "      <th>tgravity-Y</th>\n",
       "      <th>tgravity-Z</th>\n",
       "      <th>tjerk-X</th>\n",
       "      <th>tjerk-Y</th>\n",
       "      <th>tjerk-Z</th>\n",
       "      <th>fbody-X</th>\n",
       "      <th>fbody-Y</th>\n",
       "      <th>fbody-Z</th>\n",
       "      <th>fjerk-X</th>\n",
       "      <th>fjerk-Y</th>\n",
       "      <th>fjerk-Z</th>\n",
       "      <th>tbody_mag</th>\n",
       "      <th>tgravity_mag</th>\n",
       "      <th>tjerk_mag</th>\n",
       "      <th>fjerk_mag</th>\n",
       "    </tr>\n",
       "  </thead>\n",
       "  <tbody>\n",
       "    <tr>\n",
       "      <th>0</th>\n",
       "      <td>18</td>\n",
       "      <td>9</td>\n",
       "      <td>2018-12-01 22:50:29</td>\n",
       "      <td>2018-12-01 22:51:16</td>\n",
       "      <td>[-1.0761912191930145, -1.2996604335255786, -1....</td>\n",
       "      <td>[7.278006110899289, 7.314203359813134, 7.34684...</td>\n",
       "      <td>[3.3749311576590486, 3.374820581767359, 3.3656...</td>\n",
       "      <td>[2018-12-01T22:50:30.450000000, 2018-12-01T22:...</td>\n",
       "      <td>800</td>\n",
       "      <td>[-0.8129477328301933, -1.0940181313298767, -1....</td>\n",
       "      <td>[0.024235261513694217, 0.060711317250505784, 0...</td>\n",
       "      <td>[0.3620218302456193, 0.3986175115740682, 0.426...</td>\n",
       "      <td>[-0.2632424213578779, -0.20564125227277524, -0...</td>\n",
       "      <td>[7.253770878524064, 7.253492070703674, 7.25325...</td>\n",
       "      <td>[3.012909316629822, 2.9762030593762456, 2.9391...</td>\n",
       "      <td>[-0.2810703984996834, -0.2689010295990586, -0....</td>\n",
       "      <td>[0.03647605573681156, 0.03467790446724431, 0.0...</td>\n",
       "      <td>[0.036595681328448926, 0.03219534890377507, 0....</td>\n",
       "      <td>[7.27610871506813, 49.18947076110086, 677.4712...</td>\n",
       "      <td>[0.09936372653259903, 0.19729932546478854, 10....</td>\n",
       "      <td>[124.49488476388441, 151.7728584818144, 331.36...</td>\n",
       "      <td>[0.3973615131092107, 0.46510436312442643, 1.07...</td>\n",
       "      <td>[7.813362502028625e-05, 9.292966598611656e-05,...</td>\n",
       "      <td>[0.11830819029781056, 0.14155194005502342, 0.2...</td>\n",
       "      <td>[0.8902421972636303, 1.16595774205342, 1.41954...</td>\n",
       "      <td>[7.859014638029434, 7.8430364142363835, 7.8275...</td>\n",
       "      <td>[0.2857801872887258, 0.27303271098663057, 0.23...</td>\n",
       "      <td>[0.414599814395578, 0.48616769634215934, 1.120...</td>\n",
       "    </tr>\n",
       "  </tbody>\n",
       "</table>\n",
       "</div>"
      ],
      "text/plain": [
       "   user_id  ...                                          fjerk_mag\n",
       "0       18  ...  [0.414599814395578, 0.48616769634215934, 1.120...\n",
       "\n",
       "[1 rows x 28 columns]"
      ]
     },
     "execution_count": 15,
     "metadata": {
      "tags": []
     },
     "output_type": "execute_result"
    }
   ],
   "source": [
    "X = []\n",
    "for i in range(len(labeled_field)):\n",
    "    x = labeled_field.loc[i, \"fjerk-X\"]\n",
    "    y = labeled_field.loc[i, \"fjerk-Y\"]\n",
    "    z = labeled_field.loc[i, \"fjerk-Z\"]\n",
    "    a = np.vstack([x, y, z])\n",
    "    X.append(np.linalg.norm(a, axis=0))\n",
    "labeled_field[\"fjerk_mag\"] = X\n",
    "labeled_field.head(1)\n"
   ]
  },
  {
   "cell_type": "code",
   "execution_count": null,
   "metadata": {
    "colab": {
     "base_uri": "https://localhost:8080/",
     "height": 135
    },
    "id": "jLACDUZ3ofOE",
    "outputId": "bbe67301-54d0-4670-e929-7562a0068960"
   },
   "outputs": [
    {
     "data": {
      "text/html": [
       "<div>\n",
       "<style scoped>\n",
       "    .dataframe tbody tr th:only-of-type {\n",
       "        vertical-align: middle;\n",
       "    }\n",
       "\n",
       "    .dataframe tbody tr th {\n",
       "        vertical-align: top;\n",
       "    }\n",
       "\n",
       "    .dataframe thead th {\n",
       "        text-align: right;\n",
       "    }\n",
       "</style>\n",
       "<table border=\"1\" class=\"dataframe\">\n",
       "  <thead>\n",
       "    <tr style=\"text-align: right;\">\n",
       "      <th></th>\n",
       "      <th>user_id</th>\n",
       "      <th>activity_type_id</th>\n",
       "      <th>start</th>\n",
       "      <th>finish</th>\n",
       "      <th>X</th>\n",
       "      <th>Y</th>\n",
       "      <th>Z</th>\n",
       "      <th>Time</th>\n",
       "      <th>length</th>\n",
       "      <th>tbody-X</th>\n",
       "      <th>tbody-Y</th>\n",
       "      <th>tbody-Z</th>\n",
       "      <th>tgravity-X</th>\n",
       "      <th>tgravity-Y</th>\n",
       "      <th>tgravity-Z</th>\n",
       "      <th>tjerk-X</th>\n",
       "      <th>tjerk-Y</th>\n",
       "      <th>tjerk-Z</th>\n",
       "      <th>fbody-X</th>\n",
       "      <th>fbody-Y</th>\n",
       "      <th>fbody-Z</th>\n",
       "      <th>fjerk-X</th>\n",
       "      <th>fjerk-Y</th>\n",
       "      <th>fjerk-Z</th>\n",
       "      <th>tbody_mag</th>\n",
       "      <th>tgravity_mag</th>\n",
       "      <th>tjerk_mag</th>\n",
       "      <th>fjerk_mag</th>\n",
       "      <th>fbody_mag</th>\n",
       "    </tr>\n",
       "  </thead>\n",
       "  <tbody>\n",
       "    <tr>\n",
       "      <th>0</th>\n",
       "      <td>18</td>\n",
       "      <td>9</td>\n",
       "      <td>2018-12-01 22:50:29</td>\n",
       "      <td>2018-12-01 22:51:16</td>\n",
       "      <td>[-1.0761912191930145, -1.2996604335255786, -1....</td>\n",
       "      <td>[7.278006110899289, 7.314203359813134, 7.34684...</td>\n",
       "      <td>[3.3749311576590486, 3.374820581767359, 3.3656...</td>\n",
       "      <td>[2018-12-01T22:50:30.450000000, 2018-12-01T22:...</td>\n",
       "      <td>800</td>\n",
       "      <td>[-0.8129477328301933, -1.0940181313298767, -1....</td>\n",
       "      <td>[0.024235261513694217, 0.060711317250505784, 0...</td>\n",
       "      <td>[0.3620218302456193, 0.3986175115740682, 0.426...</td>\n",
       "      <td>[-0.2632424213578779, -0.20564125227277524, -0...</td>\n",
       "      <td>[7.253770878524064, 7.253492070703674, 7.25325...</td>\n",
       "      <td>[3.012909316629822, 2.9762030593762456, 2.9391...</td>\n",
       "      <td>[-0.2810703984996834, -0.2689010295990586, -0....</td>\n",
       "      <td>[0.03647605573681156, 0.03467790446724431, 0.0...</td>\n",
       "      <td>[0.036595681328448926, 0.03219534890377507, 0....</td>\n",
       "      <td>[7.27610871506813, 49.18947076110086, 677.4712...</td>\n",
       "      <td>[0.09936372653259903, 0.19729932546478854, 10....</td>\n",
       "      <td>[124.49488476388441, 151.7728584818144, 331.36...</td>\n",
       "      <td>[0.3973615131092107, 0.46510436312442643, 1.07...</td>\n",
       "      <td>[7.813362502028625e-05, 9.292966598611656e-05,...</td>\n",
       "      <td>[0.11830819029781056, 0.14155194005502342, 0.2...</td>\n",
       "      <td>[0.8902421972636303, 1.16595774205342, 1.41954...</td>\n",
       "      <td>[7.859014638029434, 7.8430364142363835, 7.8275...</td>\n",
       "      <td>[0.2857801872887258, 0.27303271098663057, 0.23...</td>\n",
       "      <td>[0.414599814395578, 0.48616769634215934, 1.120...</td>\n",
       "      <td>[124.7073693233744, 159.5451144113222, 754.235...</td>\n",
       "    </tr>\n",
       "  </tbody>\n",
       "</table>\n",
       "</div>"
      ],
      "text/plain": [
       "   user_id  ...                                          fbody_mag\n",
       "0       18  ...  [124.7073693233744, 159.5451144113222, 754.235...\n",
       "\n",
       "[1 rows x 29 columns]"
      ]
     },
     "execution_count": 16,
     "metadata": {
      "tags": []
     },
     "output_type": "execute_result"
    }
   ],
   "source": [
    "X = []\n",
    "for i in range(len(labeled_field)):\n",
    "    x = labeled_field.loc[i, \"fbody-X\"]\n",
    "    y = labeled_field.loc[i, \"fbody-Y\"]\n",
    "    z = labeled_field.loc[i, \"fbody-Z\"]\n",
    "    a = np.vstack([x, y, z])\n",
    "    X.append(np.linalg.norm(a, axis=0))\n",
    "labeled_field[\"fbody_mag\"] = X\n",
    "labeled_field.head(1)\n"
   ]
  },
  {
   "cell_type": "code",
   "execution_count": null,
   "metadata": {
    "id": "Jk7ZTI2R1-GN"
   },
   "outputs": [],
   "source": [
    "labeled_field.to_pickle(\"before_extraction_field.pkl\", compression=\"gzip\")\n"
   ]
  },
  {
   "cell_type": "markdown",
   "metadata": {
    "id": "mPIaKm6q1vI2"
   },
   "source": [
    "# Feature Extraction\n"
   ]
  },
  {
   "cell_type": "code",
   "execution_count": null,
   "metadata": {
    "id": "ru_KCBLAolKP"
   },
   "outputs": [],
   "source": [
    "features = labeled_field.loc[\n",
    "    :, [\"user_id\", \"activity_type_id\", \"start\", \"finish\", \"length\"]\n",
    "].copy()\n"
   ]
  },
  {
   "cell_type": "code",
   "execution_count": null,
   "metadata": {
    "colab": {
     "base_uri": "https://localhost:8080/",
     "height": 81
    },
    "id": "5wOtUThj7K8x",
    "outputId": "9f8b309d-3043-404d-a399-2d746385c4d8"
   },
   "outputs": [
    {
     "data": {
      "text/html": [
       "<div>\n",
       "<style scoped>\n",
       "    .dataframe tbody tr th:only-of-type {\n",
       "        vertical-align: middle;\n",
       "    }\n",
       "\n",
       "    .dataframe tbody tr th {\n",
       "        vertical-align: top;\n",
       "    }\n",
       "\n",
       "    .dataframe thead th {\n",
       "        text-align: right;\n",
       "    }\n",
       "</style>\n",
       "<table border=\"1\" class=\"dataframe\">\n",
       "  <thead>\n",
       "    <tr style=\"text-align: right;\">\n",
       "      <th></th>\n",
       "      <th>user_id</th>\n",
       "      <th>activity_type_id</th>\n",
       "      <th>start</th>\n",
       "      <th>finish</th>\n",
       "      <th>length</th>\n",
       "    </tr>\n",
       "  </thead>\n",
       "  <tbody>\n",
       "    <tr>\n",
       "      <th>0</th>\n",
       "      <td>18</td>\n",
       "      <td>9</td>\n",
       "      <td>2018-12-01 22:50:29</td>\n",
       "      <td>2018-12-01 22:51:16</td>\n",
       "      <td>800</td>\n",
       "    </tr>\n",
       "  </tbody>\n",
       "</table>\n",
       "</div>"
      ],
      "text/plain": [
       "   user_id  activity_type_id               start              finish  length\n",
       "0       18                 9 2018-12-01 22:50:29 2018-12-01 22:51:16     800"
      ]
     },
     "execution_count": 20,
     "metadata": {
      "tags": []
     },
     "output_type": "execute_result"
    }
   ],
   "source": [
    "features.head(1)\n"
   ]
  },
  {
   "cell_type": "code",
   "execution_count": null,
   "metadata": {
    "id": "yRjapB9oAVDp"
   },
   "outputs": [],
   "source": [
    "def entropy(a):\n",
    "    a = (a - min(a)) / (max(a) - min(a))\n",
    "    return stats.entropy(a)\n"
   ]
  },
  {
   "cell_type": "markdown",
   "metadata": {
    "id": "J7lQegvKLnes"
   },
   "source": [
    "## Common Features\n"
   ]
  },
  {
   "cell_type": "code",
   "execution_count": null,
   "metadata": {
    "colab": {
     "base_uri": "https://localhost:8080/",
     "height": 1000
    },
    "id": "Oal51CAT7MGK",
    "outputId": "44ff1e44-166d-4d32-c2ea-747a40ad0d67"
   },
   "outputs": [],
   "source": [
    "ft_name = \"tbody\"\n",
    "print(\"0\")\n",
    "for j in [\"-X\", \"-Y\", \"-Z\"]:\n",
    "    features[ft_name + \"mean\" + j] = labeled_field[ft_name + j].apply(np.mean)\n",
    "print(\"1\")\n",
    "for j in [\"-X\", \"-Y\", \"-Z\"]:\n",
    "    features[ft_name + \"std\" + j] = labeled_field[ft_name + j].apply(np.std)\n",
    "print(\"2\")\n",
    "for j in [\"-X\", \"-Y\", \"-Z\"]:\n",
    "    features[ft_name + \"min\" + j] = labeled_field[ft_name + j].apply(np.min)\n",
    "print(\"3\")\n",
    "for j in [\"-X\", \"-Y\", \"-Z\"]:\n",
    "    features[ft_name + \"max\" + j] = labeled_field[ft_name + j].apply(np.max)\n",
    "print(\"4\")\n",
    "for j in [\"-X\", \"-Y\", \"-Z\"]:\n",
    "    features[ft_name + \"sum\" + j] = labeled_field[ft_name + j].apply(np.sum)\n",
    "print(\"5\")\n",
    "for j in [\"-X\", \"-Y\", \"-Z\"]:\n",
    "    features[ft_name + \"mad\" + j] = labeled_field[ft_name + j].apply(\n",
    "        lambda x: pd.Series(x).mad()\n",
    "    )\n",
    "print(\"6\")\n",
    "for j in [\"-X\", \"-Y\", \"-Z\"]:\n",
    "    features[ft_name + \"energy\" + j] = labeled_field[ft_name + j].apply(\n",
    "        lambda x: sum(x**2) / len(x)\n",
    "    )\n",
    "print(7)\n",
    "for j in [\"-X\", \"-Y\", \"-Z\"]:\n",
    "    features[ft_name + \"entropy\" + j] = labeled_field[ft_name + j].apply(entropy)\n",
    "print(8)\n",
    "for j in [\"-X\", \"-Y\", \"-Z\"]:\n",
    "    features[ft_name + \"iqr\" + j] = labeled_field[ft_name + j].apply(stats.iqr)\n",
    "print(9)\n",
    "x = labeled_field[ft_name + \"-X\"]\n",
    "y = labeled_field[ft_name + \"-Y\"]\n",
    "z = labeled_field[ft_name + \"-Z\"]\n",
    "xyz = pd.concat([x, y, z], axis=1)\n",
    "xyz[ft_name + \"-X\"] = xyz[ft_name + \"-X\"].apply(lambda x: x.sum() / len(x))\n",
    "xyz[ft_name + \"-Y\"] = xyz[ft_name + \"-Y\"].apply(lambda x: x.sum() / len(x))\n",
    "xyz[ft_name + \"-Z\"] = xyz[ft_name + \"-Z\"].apply(lambda x: x.sum() / len(x))\n",
    "features[ft_name + \"sma\"] = xyz.sum(axis=1)\n",
    "print(10)\n",
    "cxy = []\n",
    "cyz = []\n",
    "czx = []\n",
    "for i in range(len(x)):\n",
    "    cxy.append(np.array(pd.Series(x[i]).corr(pd.Series(y[i]))))\n",
    "    cyz.append(np.array(pd.Series(y[i]).corr(pd.Series(z[i]))))\n",
    "    czx.append(np.array(pd.Series(z[i]).corr(pd.Series(x[i]))))\n",
    "    # if not i % 1000:\n",
    "    #     print(f\"{i}.\")\n",
    "features[ft_name + \"corr\" + \"-XY\"] = cxy\n",
    "features[ft_name + \"corr\" + \"-YZ\"] = cyz\n",
    "features[ft_name + \"corr\" + \"-ZX\"] = czx\n"
   ]
  },
  {
   "cell_type": "code",
   "execution_count": null,
   "metadata": {
    "colab": {
     "base_uri": "https://localhost:8080/",
     "height": 1000
    },
    "id": "3lcMmLDMIVqK",
    "outputId": "2b231a80-8747-46bd-fec5-005fa823a944"
   },
   "outputs": [],
   "source": [
    "ft_name = \"tgravity\"\n",
    "print(\"0\")\n",
    "for j in [\"-X\", \"-Y\", \"-Z\"]:\n",
    "    features[ft_name + \"mean\" + j] = labeled_field[ft_name + j].apply(np.mean)\n",
    "print(\"1\")\n",
    "for j in [\"-X\", \"-Y\", \"-Z\"]:\n",
    "    features[ft_name + \"std\" + j] = labeled_field[ft_name + j].apply(np.std)\n",
    "print(\"2\")\n",
    "for j in [\"-X\", \"-Y\", \"-Z\"]:\n",
    "    features[ft_name + \"min\" + j] = labeled_field[ft_name + j].apply(np.min)\n",
    "print(\"3\")\n",
    "for j in [\"-X\", \"-Y\", \"-Z\"]:\n",
    "    features[ft_name + \"max\" + j] = labeled_field[ft_name + j].apply(np.max)\n",
    "print(\"4\")\n",
    "for j in [\"-X\", \"-Y\", \"-Z\"]:\n",
    "    features[ft_name + \"sum\" + j] = labeled_field[ft_name + j].apply(np.sum)\n",
    "print(\"5\")\n",
    "for j in [\"-X\", \"-Y\", \"-Z\"]:\n",
    "    features[ft_name + \"mad\" + j] = labeled_field[ft_name + j].apply(\n",
    "        lambda x: pd.Series(x).mad()\n",
    "    )\n",
    "print(\"6\")\n",
    "for j in [\"-X\", \"-Y\", \"-Z\"]:\n",
    "    features[ft_name + \"energy\" + j] = labeled_field[ft_name + j].apply(\n",
    "        lambda x: sum(x**2) / len(x)\n",
    "    )\n",
    "print(7)\n",
    "for j in [\"-X\", \"-Y\", \"-Z\"]:\n",
    "    features[ft_name + \"entropy\" + j] = labeled_field[ft_name + j].apply(entropy)\n",
    "print(8)\n",
    "for j in [\"-X\", \"-Y\", \"-Z\"]:\n",
    "    features[ft_name + \"iqr\" + j] = labeled_field[ft_name + j].apply(stats.iqr)\n",
    "print(9)\n",
    "x = labeled_field[ft_name + \"-X\"]\n",
    "y = labeled_field[ft_name + \"-Y\"]\n",
    "z = labeled_field[ft_name + \"-Z\"]\n",
    "xyz = pd.concat([x, y, z], axis=1)\n",
    "xyz[ft_name + \"-X\"] = xyz[ft_name + \"-X\"].apply(lambda x: x.sum() / len(x))\n",
    "xyz[ft_name + \"-Y\"] = xyz[ft_name + \"-Y\"].apply(lambda x: x.sum() / len(x))\n",
    "xyz[ft_name + \"-Z\"] = xyz[ft_name + \"-Z\"].apply(lambda x: x.sum() / len(x))\n",
    "features[ft_name + \"sma\"] = xyz.sum(axis=1)\n",
    "print(10)\n",
    "cxy = []\n",
    "cyz = []\n",
    "czx = []\n",
    "for i in range(len(x)):\n",
    "    cxy.append(np.array(pd.Series(x[i]).corr(pd.Series(y[i]))))\n",
    "    cyz.append(np.array(pd.Series(y[i]).corr(pd.Series(z[i]))))\n",
    "    czx.append(np.array(pd.Series(z[i]).corr(pd.Series(x[i]))))\n",
    "    # if not i % 1000:\n",
    "    #     print(f\"{i}.\")\n",
    "features[ft_name + \"corr\" + \"-XY\"] = cxy\n",
    "features[ft_name + \"corr\" + \"-YZ\"] = cyz\n",
    "features[ft_name + \"corr\" + \"-ZX\"] = czx\n"
   ]
  },
  {
   "cell_type": "code",
   "execution_count": null,
   "metadata": {
    "colab": {
     "base_uri": "https://localhost:8080/",
     "height": 1000
    },
    "id": "HaZT2w5WIZZG",
    "outputId": "f338d923-d2e8-4a8e-e287-318b4eafeb60"
   },
   "outputs": [],
   "source": [
    "ft_name = \"tjerk\"\n",
    "print(\"0\")\n",
    "for j in [\"-X\", \"-Y\", \"-Z\"]:\n",
    "    features[ft_name + \"mean\" + j] = labeled_field[ft_name + j].apply(np.mean)\n",
    "print(\"1\")\n",
    "for j in [\"-X\", \"-Y\", \"-Z\"]:\n",
    "    features[ft_name + \"std\" + j] = labeled_field[ft_name + j].apply(np.std)\n",
    "print(\"2\")\n",
    "for j in [\"-X\", \"-Y\", \"-Z\"]:\n",
    "    features[ft_name + \"min\" + j] = labeled_field[ft_name + j].apply(np.min)\n",
    "print(\"3\")\n",
    "for j in [\"-X\", \"-Y\", \"-Z\"]:\n",
    "    features[ft_name + \"max\" + j] = labeled_field[ft_name + j].apply(np.max)\n",
    "print(\"4\")\n",
    "for j in [\"-X\", \"-Y\", \"-Z\"]:\n",
    "    features[ft_name + \"sum\" + j] = labeled_field[ft_name + j].apply(np.sum)\n",
    "print(\"5\")\n",
    "for j in [\"-X\", \"-Y\", \"-Z\"]:\n",
    "    features[ft_name + \"mad\" + j] = labeled_field[ft_name + j].apply(\n",
    "        lambda x: pd.Series(x).mad()\n",
    "    )\n",
    "print(\"6\")\n",
    "for j in [\"-X\", \"-Y\", \"-Z\"]:\n",
    "    features[ft_name + \"energy\" + j] = labeled_field[ft_name + j].apply(\n",
    "        lambda x: sum(x**2) / len(x)\n",
    "    )\n",
    "print(7)\n",
    "for j in [\"-X\", \"-Y\", \"-Z\"]:\n",
    "    features[ft_name + \"entropy\" + j] = labeled_field[ft_name + j].apply(entropy)\n",
    "print(8)\n",
    "for j in [\"-X\", \"-Y\", \"-Z\"]:\n",
    "    features[ft_name + \"iqr\" + j] = labeled_field[ft_name + j].apply(stats.iqr)\n",
    "print(9)\n",
    "x = labeled_field[ft_name + \"-X\"]\n",
    "y = labeled_field[ft_name + \"-Y\"]\n",
    "z = labeled_field[ft_name + \"-Z\"]\n",
    "xyz = pd.concat([x, y, z], axis=1)\n",
    "xyz[ft_name + \"-X\"] = xyz[ft_name + \"-X\"].apply(lambda x: x.sum() / len(x))\n",
    "xyz[ft_name + \"-Y\"] = xyz[ft_name + \"-Y\"].apply(lambda x: x.sum() / len(x))\n",
    "xyz[ft_name + \"-Z\"] = xyz[ft_name + \"-Z\"].apply(lambda x: x.sum() / len(x))\n",
    "features[ft_name + \"sma\"] = xyz.sum(axis=1)\n",
    "print(10)\n",
    "cxy = []\n",
    "cyz = []\n",
    "czx = []\n",
    "for i in range(len(x)):\n",
    "    cxy.append(np.array(pd.Series(x[i]).corr(pd.Series(y[i]))))\n",
    "    cyz.append(np.array(pd.Series(y[i]).corr(pd.Series(z[i]))))\n",
    "    czx.append(np.array(pd.Series(z[i]).corr(pd.Series(x[i]))))\n",
    "    # if not i % 1000:\n",
    "    #     print(f\"{i}.\")\n",
    "features[ft_name + \"corr\" + \"-XY\"] = cxy\n",
    "features[ft_name + \"corr\" + \"-YZ\"] = cyz\n",
    "features[ft_name + \"corr\" + \"-ZX\"] = czx\n"
   ]
  },
  {
   "cell_type": "code",
   "execution_count": null,
   "metadata": {
    "colab": {
     "base_uri": "https://localhost:8080/",
     "height": 1000
    },
    "id": "lWrRGy3xIdju",
    "outputId": "40a06f18-d78b-4849-ad3e-233f278e09ca"
   },
   "outputs": [],
   "source": [
    "ft_name = \"fbody\"\n",
    "print(\"0\")\n",
    "for j in [\"-X\", \"-Y\", \"-Z\"]:\n",
    "    features[ft_name + \"mean\" + j] = labeled_field[ft_name + j].apply(np.mean)\n",
    "print(\"1\")\n",
    "for j in [\"-X\", \"-Y\", \"-Z\"]:\n",
    "    features[ft_name + \"std\" + j] = labeled_field[ft_name + j].apply(np.std)\n",
    "print(\"2\")\n",
    "for j in [\"-X\", \"-Y\", \"-Z\"]:\n",
    "    features[ft_name + \"min\" + j] = labeled_field[ft_name + j].apply(np.min)\n",
    "print(\"3\")\n",
    "for j in [\"-X\", \"-Y\", \"-Z\"]:\n",
    "    features[ft_name + \"max\" + j] = labeled_field[ft_name + j].apply(np.max)\n",
    "print(\"4\")\n",
    "for j in [\"-X\", \"-Y\", \"-Z\"]:\n",
    "    features[ft_name + \"sum\" + j] = labeled_field[ft_name + j].apply(np.sum)\n",
    "print(\"5\")\n",
    "for j in [\"-X\", \"-Y\", \"-Z\"]:\n",
    "    features[ft_name + \"mad\" + j] = labeled_field[ft_name + j].apply(\n",
    "        lambda x: pd.Series(x).mad()\n",
    "    )\n",
    "print(\"6\")\n",
    "for j in [\"-X\", \"-Y\", \"-Z\"]:\n",
    "    features[ft_name + \"energy\" + j] = labeled_field[ft_name + j].apply(\n",
    "        lambda x: sum(x**2) / len(x)\n",
    "    )\n",
    "print(7)\n",
    "for j in [\"-X\", \"-Y\", \"-Z\"]:\n",
    "    features[ft_name + \"entropy\" + j] = labeled_field[ft_name + j].apply(entropy)\n",
    "print(8)\n",
    "for j in [\"-X\", \"-Y\", \"-Z\"]:\n",
    "    features[ft_name + \"iqr\" + j] = labeled_field[ft_name + j].apply(stats.iqr)\n",
    "print(9)\n",
    "x = labeled_field[ft_name + \"-X\"]\n",
    "y = labeled_field[ft_name + \"-Y\"]\n",
    "z = labeled_field[ft_name + \"-Z\"]\n",
    "xyz = pd.concat([x, y, z], axis=1)\n",
    "xyz[ft_name + \"-X\"] = xyz[ft_name + \"-X\"].apply(lambda x: x.sum() / len(x))\n",
    "xyz[ft_name + \"-Y\"] = xyz[ft_name + \"-Y\"].apply(lambda x: x.sum() / len(x))\n",
    "xyz[ft_name + \"-Z\"] = xyz[ft_name + \"-Z\"].apply(lambda x: x.sum() / len(x))\n",
    "features[ft_name + \"sma\"] = xyz.sum(axis=1)\n",
    "print(10)\n",
    "cxy = []\n",
    "cyz = []\n",
    "czx = []\n",
    "for i in range(len(x)):\n",
    "    cxy.append(np.array(pd.Series(x[i]).corr(pd.Series(y[i]))))\n",
    "    cyz.append(np.array(pd.Series(y[i]).corr(pd.Series(z[i]))))\n",
    "    czx.append(np.array(pd.Series(z[i]).corr(pd.Series(x[i]))))\n",
    "    # if not i % 1000:\n",
    "    #     print(f\"{i}.\")\n",
    "features[ft_name + \"corr\" + \"-XY\"] = cxy\n",
    "features[ft_name + \"corr\" + \"-YZ\"] = cyz\n",
    "features[ft_name + \"corr\" + \"-ZX\"] = czx\n"
   ]
  },
  {
   "cell_type": "code",
   "execution_count": null,
   "metadata": {
    "colab": {
     "base_uri": "https://localhost:8080/",
     "height": 1000
    },
    "id": "H_6LMXmIIgd3",
    "outputId": "c6e42b6b-7a74-44a3-aae9-aa781f02e68a"
   },
   "outputs": [],
   "source": [
    "ft_name = \"fjerk\"\n",
    "print(\"0\")\n",
    "for j in [\"-X\", \"-Y\", \"-Z\"]:\n",
    "    features[ft_name + \"mean\" + j] = labeled_field[ft_name + j].apply(np.mean)\n",
    "print(\"1\")\n",
    "for j in [\"-X\", \"-Y\", \"-Z\"]:\n",
    "    features[ft_name + \"std\" + j] = labeled_field[ft_name + j].apply(np.std)\n",
    "print(\"2\")\n",
    "for j in [\"-X\", \"-Y\", \"-Z\"]:\n",
    "    features[ft_name + \"min\" + j] = labeled_field[ft_name + j].apply(np.min)\n",
    "print(\"3\")\n",
    "for j in [\"-X\", \"-Y\", \"-Z\"]:\n",
    "    features[ft_name + \"max\" + j] = labeled_field[ft_name + j].apply(np.max)\n",
    "print(\"4\")\n",
    "for j in [\"-X\", \"-Y\", \"-Z\"]:\n",
    "    features[ft_name + \"sum\" + j] = labeled_field[ft_name + j].apply(np.sum)\n",
    "print(\"5\")\n",
    "for j in [\"-X\", \"-Y\", \"-Z\"]:\n",
    "    features[ft_name + \"mad\" + j] = labeled_field[ft_name + j].apply(\n",
    "        lambda x: pd.Series(x).mad()\n",
    "    )\n",
    "print(\"6\")\n",
    "for j in [\"-X\", \"-Y\", \"-Z\"]:\n",
    "    features[ft_name + \"energy\" + j] = labeled_field[ft_name + j].apply(\n",
    "        lambda x: sum(x**2) / len(x)\n",
    "    )\n",
    "print(7)\n",
    "for j in [\"-X\", \"-Y\", \"-Z\"]:\n",
    "    features[ft_name + \"entropy\" + j] = labeled_field[ft_name + j].apply(entropy)\n",
    "print(8)\n",
    "for j in [\"-X\", \"-Y\", \"-Z\"]:\n",
    "    features[ft_name + \"iqr\" + j] = labeled_field[ft_name + j].apply(stats.iqr)\n",
    "print(9)\n",
    "x = labeled_field[ft_name + \"-X\"]\n",
    "y = labeled_field[ft_name + \"-Y\"]\n",
    "z = labeled_field[ft_name + \"-Z\"]\n",
    "xyz = pd.concat([x, y, z], axis=1)\n",
    "xyz[ft_name + \"-X\"] = xyz[ft_name + \"-X\"].apply(lambda x: x.sum() / len(x))\n",
    "xyz[ft_name + \"-Y\"] = xyz[ft_name + \"-Y\"].apply(lambda x: x.sum() / len(x))\n",
    "xyz[ft_name + \"-Z\"] = xyz[ft_name + \"-Z\"].apply(lambda x: x.sum() / len(x))\n",
    "features[ft_name + \"sma\"] = xyz.sum(axis=1)\n",
    "print(10)\n",
    "cxy = []\n",
    "cyz = []\n",
    "czx = []\n",
    "for i in range(len(x)):\n",
    "    cxy.append(pd.Series(x[i]).corr(pd.Series(y[i])))\n",
    "    cyz.append(np.array(pd.Series(y[i]).corr(pd.Series(z[i]))))\n",
    "    czx.append(np.array(pd.Series(z[i]).corr(pd.Series(x[i]))))\n",
    "    # if not i % 1000:\n",
    "    #     print(f\"{i}.\")\n",
    "features[ft_name + \"corr\" + \"-XY\"] = cxy\n",
    "features[ft_name + \"corr\" + \"-YZ\"] = cyz\n",
    "features[ft_name + \"corr\" + \"-ZX\"] = czx\n"
   ]
  },
  {
   "cell_type": "markdown",
   "metadata": {
    "id": "Jred--hzLv2j"
   },
   "source": [
    "## Magnitude Features\n"
   ]
  },
  {
   "cell_type": "code",
   "execution_count": null,
   "metadata": {
    "id": "3MoUBV7yIj8o"
   },
   "outputs": [],
   "source": [
    "ft_name = \"tbody_mag\"\n",
    "features[ft_name + \"mean\"] = labeled_field[ft_name].apply(np.mean)\n",
    "features[ft_name + \"std\"] = labeled_field[ft_name].apply(np.std)\n",
    "features[ft_name + \"min\"] = labeled_field[ft_name].apply(np.min)\n",
    "features[ft_name + \"max\"] = labeled_field[ft_name].apply(np.max)\n",
    "features[ft_name + \"sum\"] = labeled_field[ft_name].apply(np.sum)\n",
    "features[ft_name + \"mad\"] = labeled_field[ft_name].apply(lambda x: pd.Series(x).mad())\n",
    "features[ft_name + \"energy\"] = labeled_field[ft_name].apply(\n",
    "    lambda x: sum(x**2) / len(x)\n",
    ")\n",
    "features[ft_name + \"entropy\"] = labeled_field[ft_name].apply(entropy)\n",
    "features[ft_name + \"iqr\"] = labeled_field[ft_name].apply(stats.iqr)\n",
    "features[ft_name + \"sma\"] = labeled_field[ft_name].apply(np.sum)\n"
   ]
  },
  {
   "cell_type": "code",
   "execution_count": null,
   "metadata": {
    "id": "OS3C0lzVI93W"
   },
   "outputs": [],
   "source": [
    "ft_name = \"tgravity_mag\"\n",
    "features[ft_name + \"mean\"] = labeled_field[ft_name].apply(np.mean)\n",
    "features[ft_name + \"std\"] = labeled_field[ft_name].apply(np.std)\n",
    "features[ft_name + \"min\"] = labeled_field[ft_name].apply(np.min)\n",
    "features[ft_name + \"max\"] = labeled_field[ft_name].apply(np.max)\n",
    "features[ft_name + \"sum\"] = labeled_field[ft_name].apply(np.sum)\n",
    "features[ft_name + \"mad\"] = labeled_field[ft_name].apply(lambda x: pd.Series(x).mad())\n",
    "features[ft_name + \"energy\"] = labeled_field[ft_name].apply(\n",
    "    lambda x: sum(x**2) / len(x)\n",
    ")\n",
    "features[ft_name + \"entropy\"] = labeled_field[ft_name].apply(entropy)\n",
    "features[ft_name + \"iqr\"] = labeled_field[ft_name].apply(stats.iqr)\n",
    "features[ft_name + \"sma\"] = labeled_field[ft_name].apply(np.sum)\n"
   ]
  },
  {
   "cell_type": "code",
   "execution_count": null,
   "metadata": {
    "id": "gRjSAcZBK1b7"
   },
   "outputs": [],
   "source": [
    "ft_name = \"tjerk_mag\"\n",
    "features[ft_name + \"mean\"] = labeled_field[ft_name].apply(np.mean)\n",
    "features[ft_name + \"std\"] = labeled_field[ft_name].apply(np.std)\n",
    "features[ft_name + \"min\"] = labeled_field[ft_name].apply(np.min)\n",
    "features[ft_name + \"max\"] = labeled_field[ft_name].apply(np.max)\n",
    "features[ft_name + \"sum\"] = labeled_field[ft_name].apply(np.sum)\n",
    "features[ft_name + \"mad\"] = labeled_field[ft_name].apply(lambda x: pd.Series(x).mad())\n",
    "features[ft_name + \"energy\"] = labeled_field[ft_name].apply(\n",
    "    lambda x: sum(x**2) / len(x)\n",
    ")\n",
    "features[ft_name + \"entropy\"] = labeled_field[ft_name].apply(entropy)\n",
    "features[ft_name + \"iqr\"] = labeled_field[ft_name].apply(stats.iqr)\n",
    "features[ft_name + \"sma\"] = labeled_field[ft_name].apply(np.sum)\n"
   ]
  },
  {
   "cell_type": "code",
   "execution_count": null,
   "metadata": {
    "id": "5G4s6agQK3Xr"
   },
   "outputs": [],
   "source": [
    "ft_name = \"fbody_mag\"\n",
    "features[ft_name + \"mean\"] = labeled_field[ft_name].apply(np.mean)\n",
    "features[ft_name + \"std\"] = labeled_field[ft_name].apply(np.std)\n",
    "features[ft_name + \"min\"] = labeled_field[ft_name].apply(np.min)\n",
    "features[ft_name + \"max\"] = labeled_field[ft_name].apply(np.max)\n",
    "features[ft_name + \"sum\"] = labeled_field[ft_name].apply(np.sum)\n",
    "features[ft_name + \"mad\"] = labeled_field[ft_name].apply(lambda x: pd.Series(x).mad())\n",
    "features[ft_name + \"energy\"] = labeled_field[ft_name].apply(\n",
    "    lambda x: sum(x**2) / len(x)\n",
    ")\n",
    "features[ft_name + \"entropy\"] = labeled_field[ft_name].apply(entropy)\n",
    "features[ft_name + \"iqr\"] = labeled_field[ft_name].apply(stats.iqr)\n",
    "features[ft_name + \"sma\"] = labeled_field[ft_name].apply(np.sum)\n"
   ]
  },
  {
   "cell_type": "code",
   "execution_count": null,
   "metadata": {
    "id": "UGbpWlRhI9zV"
   },
   "outputs": [],
   "source": [
    "ft_name = \"fjerk_mag\"\n",
    "features[ft_name + \"mean\"] = labeled_field[ft_name].apply(np.mean)\n",
    "features[ft_name + \"std\"] = labeled_field[ft_name].apply(np.std)\n",
    "features[ft_name + \"min\"] = labeled_field[ft_name].apply(np.min)\n",
    "features[ft_name + \"max\"] = labeled_field[ft_name].apply(np.max)\n",
    "features[ft_name + \"sum\"] = labeled_field[ft_name].apply(np.sum)\n",
    "features[ft_name + \"mad\"] = labeled_field[ft_name].apply(lambda x: pd.Series(x).mad())\n",
    "features[ft_name + \"energy\"] = labeled_field[ft_name].apply(\n",
    "    lambda x: sum(x**2) / len(x)\n",
    ")\n",
    "features[ft_name + \"entropy\"] = labeled_field[ft_name].apply(entropy)\n",
    "features[ft_name + \"iqr\"] = labeled_field[ft_name].apply(stats.iqr)\n",
    "features[ft_name + \"sma\"] = labeled_field[ft_name].apply(np.sum)\n"
   ]
  },
  {
   "cell_type": "markdown",
   "metadata": {
    "id": "clngKHkVLzKh"
   },
   "source": [
    "## Frequency Features\n"
   ]
  },
  {
   "cell_type": "code",
   "execution_count": null,
   "metadata": {
    "id": "na_iQLcLLGHm"
   },
   "outputs": [],
   "source": [
    "ft_name = \"fbody\"\n",
    "for j in [\"-X\", \"-Y\", \"-Z\"]:\n",
    "    features[ft_name + \"kurtosis\" + j] = labeled_field[ft_name + j].apply(\n",
    "        stats.kurtosis\n",
    "    )\n",
    "for j in [\"-X\", \"-Y\", \"-Z\"]:\n",
    "    features[ft_name + \"skew\" + j] = labeled_field[ft_name + j].apply(stats.skew)\n",
    "for j in [\"-X\", \"-Y\", \"-Z\"]:\n",
    "    features[ft_name + \"maxInds\" + j] = labeled_field[ft_name + j].apply(\n",
    "        lambda x: np.where(x == np.max(x))[0][0]\n",
    "    )\n"
   ]
  },
  {
   "cell_type": "code",
   "execution_count": null,
   "metadata": {
    "id": "El8n-gWVN4IU"
   },
   "outputs": [],
   "source": [
    "ft_name = \"fjerk\"\n",
    "for j in [\"-X\", \"-Y\", \"-Z\"]:\n",
    "    features[ft_name + \"kurtosis\" + j] = labeled_field[ft_name + j].apply(\n",
    "        stats.kurtosis\n",
    "    )\n",
    "for j in [\"-X\", \"-Y\", \"-Z\"]:\n",
    "    features[ft_name + \"skew\" + j] = labeled_field[ft_name + j].apply(stats.skew)\n",
    "for j in [\"-X\", \"-Y\", \"-Z\"]:\n",
    "    features[ft_name + \"maxInds\" + j] = labeled_field[ft_name + j].apply(\n",
    "        lambda x: np.where(x == np.max(x))[0][0]\n",
    "    )\n"
   ]
  },
  {
   "cell_type": "code",
   "execution_count": null,
   "metadata": {
    "id": "fgLW-8DiSgQt"
   },
   "outputs": [],
   "source": [
    "features.to_pickle(\"features_field.pkl\", compression=\"gzip\")\n"
   ]
  },
  {
   "cell_type": "code",
   "execution_count": null,
   "metadata": {
    "colab": {
     "base_uri": "https://localhost:8080/",
     "height": 35
    },
    "id": "huLg4D6ASoyP",
    "outputId": "61c1e416-1a45-4809-bb33-5313bf4058af"
   },
   "outputs": [
    {
     "data": {
      "text/plain": [
       "228"
      ]
     },
     "execution_count": 58,
     "metadata": {
      "tags": []
     },
     "output_type": "execute_result"
    }
   ],
   "source": [
    "len(features.columns)\n"
   ]
  },
  {
   "cell_type": "code",
   "execution_count": null,
   "metadata": {
    "id": "RqC4Enq0V45H"
   },
   "outputs": [],
   "source": [
    "pd.Series(features.columns).to_csv(\"features.txt\", index=False, sep=\"\\n\")\n"
   ]
  },
  {
   "cell_type": "code",
   "execution_count": null,
   "metadata": {
    "colab": {
     "base_uri": "https://localhost:8080/",
     "height": 35
    },
    "id": "A_Y7xvr-Wgzs",
    "outputId": "e6bc8979-7f68-4496-ce20-9ff9e3797e75"
   },
   "outputs": [
    {
     "data": {
      "text/plain": [
       "24667"
      ]
     },
     "execution_count": 57,
     "metadata": {
      "tags": []
     },
     "output_type": "execute_result"
    }
   ],
   "source": [
    "len(features)\n"
   ]
  },
  {
   "cell_type": "code",
   "execution_count": null,
   "metadata": {
    "colab": {
     "base_uri": "https://localhost:8080/",
     "height": 71
    },
    "id": "8RLWuPLeoZ31",
    "outputId": "d2ed5988-c5d8-472f-fff3-654d185c140d"
   },
   "outputs": [
    {
     "data": {
      "text/plain": [
       "Index(['user_id', 'activity_type_id', 'start', 'finish', 'length',\n",
       "       'tbodymean-X', 'tbodymean-Y'],\n",
       "      dtype='object')"
      ]
     },
     "execution_count": 59,
     "metadata": {
      "tags": []
     },
     "output_type": "execute_result"
    }
   ],
   "source": [
    "features.columns[:7]\n"
   ]
  },
  {
   "cell_type": "code",
   "execution_count": null,
   "metadata": {
    "id": "PpKH9k5z3qVb"
   },
   "outputs": [],
   "source": [
    "features.to_csv(\"features_field.csv\", index=False, float_format=\"%.4f\")\n"
   ]
  },
  {
   "cell_type": "code",
   "execution_count": null,
   "metadata": {},
   "outputs": [],
   "source": []
  }
 ],
 "metadata": {
  "colab": {
   "collapsed_sections": [],
   "name": "5. Field Feature Extraction.ipynb",
   "provenance": []
  },
  "kernelspec": {
   "display_name": "Python 3 (ipykernel)",
   "language": "python",
   "name": "python3"
  },
  "language_info": {
   "codemirror_mode": {
    "name": "ipython",
    "version": 3
   },
   "file_extension": ".py",
   "mimetype": "text/x-python",
   "name": "python",
   "nbconvert_exporter": "python",
   "pygments_lexer": "ipython3",
   "version": "3.8.5"
  }
 },
 "nbformat": 4,
 "nbformat_minor": 1
}
