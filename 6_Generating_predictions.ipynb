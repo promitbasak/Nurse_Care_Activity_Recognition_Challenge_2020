{
  "cells": [
    {
      "cell_type": "code",
      "execution_count": null,
      "metadata": {
        "colab": {
          "base_uri": "https://localhost:8080/",
          "height": 969
        },
        "id": "QxyfEP5wceaa",
        "outputId": "d1aeaee1-89c6-4ca7-8827-3c4c498a6342"
      },
      "outputs": [
        {
          "name": "stdout",
          "output_type": "stream",
          "text": [
            "     tbodymean-X  tbodymean-Y  ...  fjerkmaxInds-Y  fjerkmaxInds-Z\n",
            "0      -0.003372    -0.000394  ...              30              30\n",
            "1      -0.067041     0.036655  ...               6               6\n",
            "2      -0.003420     0.027674  ...              10              17\n",
            "3      -0.015356     0.014195  ...               5              10\n",
            "4      -0.003420    -0.003248  ...              39              15\n",
            "..           ...          ...  ...             ...             ...\n",
            "935     0.000434     0.012573  ...              20              20\n",
            "936    -0.030881    -0.015765  ...              12              12\n",
            "937     0.021442     0.015360  ...              22              22\n",
            "938    -0.016096     0.019052  ...               2               2\n",
            "939     0.003678     0.033969  ...               9               9\n",
            "\n",
            "[25523 rows x 218 columns] \n",
            "\n",
            "0       9\n",
            "1       9\n",
            "2      10\n",
            "3       9\n",
            "4       5\n",
            "       ..\n",
            "935    12\n",
            "936    12\n",
            "937    12\n",
            "938    12\n",
            "939    12\n",
            "Name: activity_type_id, Length: 25523, dtype: int64 \n",
            "\n",
            "       user_id                   start  ... fjerkmaxInds-Y  fjerkmaxInds-Z\n",
            "0           27 2018-12-01 00:08:55.450  ...            358             136\n",
            "1           27 2018-12-01 00:39:37.574  ...            244              77\n",
            "2           27 2018-12-01 01:09:07.855  ...            232             260\n",
            "3           27 2018-12-01 01:21:22.266  ...             73             106\n",
            "4           27 2018-12-01 01:27:45.863  ...            137              34\n",
            "...        ...                     ...  ...            ...             ...\n",
            "85328       27 2019-01-01 09:12:31.500  ...             14              13\n",
            "85329       27 2019-01-01 09:13:46.500  ...             10              35\n",
            "85330       27 2019-01-01 09:15:01.500  ...             34              10\n",
            "85331       27 2019-01-01 09:35:48.500  ...              8              10\n",
            "85332       27 2019-01-01 09:37:03.500  ...             24              26\n",
            "\n",
            "[85096 rows x 221 columns]\n",
            "       tbodymean-X  tbodymean-Y  ...  fjerkmaxInds-Y  fjerkmaxInds-Z\n",
            "0         0.000068     0.000017  ...             358             136\n",
            "1         0.000055    -0.000089  ...             244              77\n",
            "2         0.000101     0.000065  ...             232             260\n",
            "3         0.000729    -0.000985  ...              73             106\n",
            "4         0.001143    -0.000068  ...             137              34\n",
            "...            ...          ...  ...             ...             ...\n",
            "85091    -0.003433    -0.001589  ...              14              13\n",
            "85092     0.000523     0.001246  ...              10              35\n",
            "85093    -0.000607     0.001001  ...              34              10\n",
            "85094    -0.000319     0.002210  ...               8              10\n",
            "85095     0.000335     0.000542  ...              24              26\n",
            "\n",
            "[85096 rows x 218 columns]\n"
          ]
        }
      ],
      "source": [
        "import pandas as pd\n",
        "import sklearn\n",
        "\n",
        "data = pd.read_pickle(\n",
        "    \"/content/drive/My Drive/Nurse Activity Recognition/Shared/newtrain_promit.pkl\",\n",
        "    compression=\"gzip\",\n",
        ")\n",
        "test = pd.read_pickle(\n",
        "    \"/content/drive/My Drive/Nurse Activity Recognition/Shared/u27.pkl\",\n",
        "    compression=\"gzip\",\n",
        ")\n",
        "y = data[\"activity_type_id\"]\n",
        "X = data.drop(columns=\"activity_type_id\")\n",
        "print(X, \"\\n\")\n",
        "print(y, \"\\n\")\n",
        "print(test)\n",
        "X_test = test.drop(columns=[\"user_id\", \"start\", \"finish\"]).reset_index(drop=True)\n",
        "print(X_test)\n"
      ]
    },
    {
      "cell_type": "code",
      "execution_count": null,
      "metadata": {
        "colab": {
          "base_uri": "https://localhost:8080/",
          "height": 68
        },
        "id": "os5vcVqDuArL",
        "outputId": "596968e5-b897-4546-853b-647994c2cb08"
      },
      "outputs": [
        {
          "name": "stdout",
          "output_type": "stream",
          "text": [
            "Scaling done\n",
            "Model trained! Generating predictions..........\n",
            "[5 5 5 ... 5 5 4]\n"
          ]
        }
      ],
      "source": [
        "from sklearn.ensemble import RandomForestClassifier as RFC\n",
        "from sklearn.preprocessing import StandardScaler, MinMaxScaler\n",
        "\n",
        "scaler = MinMaxScaler(feature_range=(-1, 1))\n",
        "X = scaler.fit_transform(X)\n",
        "X_test = scaler.fit_transform(X_test)\n",
        "print(\"Scaling done\")\n",
        "\n",
        "model = RFC()\n",
        "model.fit(X, y)\n",
        "print(\"Model trained! Generating predictions..........\")\n",
        "y_pred = model.predict(X_test)\n",
        "print(y_pred)\n"
      ]
    },
    {
      "cell_type": "code",
      "execution_count": null,
      "metadata": {
        "colab": {
          "base_uri": "https://localhost:8080/",
          "height": 221
        },
        "id": "41Koonfdy3uF",
        "outputId": "a2048b0e-7e7f-4826-d325-3a2602d13dfd"
      },
      "outputs": [
        {
          "name": "stdout",
          "output_type": "stream",
          "text": [
            "0        5\n",
            "1        5\n",
            "2        5\n",
            "3        5\n",
            "4        5\n",
            "        ..\n",
            "85091    5\n",
            "85092    5\n",
            "85093    5\n",
            "85094    5\n",
            "85095    4\n",
            "Length: 85096, dtype: int64\n"
          ]
        }
      ],
      "source": [
        "y_s = pd.Series(y_pred)\n",
        "print(y_s)\n",
        "y_s.to_pickle(\n",
        "    \"/content/drive/My Drive/Nurse Activity Recognition/Shared/u27_scaled_pred.pkl\",\n",
        "    compression=\"gzip\",\n",
        ")\n"
      ]
    },
    {
      "cell_type": "code",
      "execution_count": null,
      "metadata": {},
      "outputs": [],
      "source": []
    }
  ],
  "metadata": {
    "colab": {
      "collapsed_sections": [],
      "name": "8. Generating predictions.ipynb",
      "provenance": []
    },
    "kernelspec": {
      "display_name": "Python 3",
      "name": "python3"
    },
    "language_info": {
      "name": "python",
      "version": "3.8.5"
    }
  },
  "nbformat": 4,
  "nbformat_minor": 0
}
