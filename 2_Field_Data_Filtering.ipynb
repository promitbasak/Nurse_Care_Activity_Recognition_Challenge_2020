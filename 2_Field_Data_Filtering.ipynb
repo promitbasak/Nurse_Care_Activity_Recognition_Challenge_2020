{
  "cells": [
    {
      "cell_type": "code",
      "execution_count": null,
      "metadata": {
        "colab": {
          "base_uri": "https://localhost:8080/",
          "height": 170
        },
        "id": "UgpYfIrBTyqR",
        "outputId": "2a794e43-ac72-42c5-d282-c1b144fdbb50"
      },
      "outputs": [
        {
          "name": "stderr",
          "output_type": "stream",
          "text": [
            "/usr/local/lib/python3.6/dist-packages/statsmodels/tools/_testing.py:19: FutureWarning: pandas.util.testing is deprecated. Use the functions in the public API at pandas.testing instead.\n",
            "  import pandas.util.testing as tm\n"
          ]
        }
      ],
      "source": [
        "import numpy as np\n",
        "import pandas as pd\n",
        "import time\n",
        "import matplotlib.pyplot as plt\n",
        "from scipy import signal\n",
        "from scipy import stats\n",
        "import datetime as dt\n"
      ]
    },
    {
      "cell_type": "markdown",
      "metadata": {
        "id": "6M5DxYmKTxFB"
      },
      "source": [
        "# Fix Discontinuity\n",
        "\n",
        "The given temporal data is not continuous. So we fragmented it into continuous data.\n"
      ]
    },
    {
      "cell_type": "code",
      "execution_count": null,
      "metadata": {
        "colab": {
          "base_uri": "https://localhost:8080/",
          "height": 345
        },
        "id": "s7viIpnxVxU3",
        "outputId": "5a37b3c9-1422-443a-f5ac-f31b1eb1a946"
      },
      "outputs": [
        {
          "data": {
            "text/html": [
              "<div>\n",
              "<style scoped>\n",
              "    .dataframe tbody tr th:only-of-type {\n",
              "        vertical-align: middle;\n",
              "    }\n",
              "\n",
              "    .dataframe tbody tr th {\n",
              "        vertical-align: top;\n",
              "    }\n",
              "\n",
              "    .dataframe thead th {\n",
              "        text-align: right;\n",
              "    }\n",
              "</style>\n",
              "<table border=\"1\" class=\"dataframe\">\n",
              "  <thead>\n",
              "    <tr style=\"text-align: right;\">\n",
              "      <th></th>\n",
              "      <th>user_id</th>\n",
              "      <th>activity_type_id</th>\n",
              "      <th>start</th>\n",
              "      <th>finish</th>\n",
              "      <th>X</th>\n",
              "      <th>Y</th>\n",
              "      <th>Z</th>\n",
              "      <th>T</th>\n",
              "    </tr>\n",
              "  </thead>\n",
              "  <tbody>\n",
              "    <tr>\n",
              "      <th>0</th>\n",
              "      <td>4</td>\n",
              "      <td>5</td>\n",
              "      <td>2018-12-02 10:27:37</td>\n",
              "      <td>2018-12-02 10:28:22</td>\n",
              "      <td>[-2.221, 1.455, 1.455, 0.574, 2.26, 2.26, -2.3...</td>\n",
              "      <td>[7.776, 7.125, 7.125, 6.205, 5.171, 5.171, 7.5...</td>\n",
              "      <td>[6.3660000000000005, 5.89, 5.89, 6.653, 7.721,...</td>\n",
              "      <td>[2018-12-02T10:27:37.041000000, 2018-12-02T10:...</td>\n",
              "    </tr>\n",
              "    <tr>\n",
              "      <th>1</th>\n",
              "      <td>4</td>\n",
              "      <td>5</td>\n",
              "      <td>2018-12-02 10:32:58</td>\n",
              "      <td>2018-12-02 10:33:29</td>\n",
              "      <td>[1.187, 1.187, 1.838, 1.838, 3.217, 1.992, 1.9...</td>\n",
              "      <td>[5.478, 5.478, 5.2860000000000005, 5.286000000...</td>\n",
              "      <td>[8.329, 8.329, 8.087, 8.087, 7.975, 6.025, 6.0...</td>\n",
              "      <td>[2018-12-02T10:32:58.181000000, 2018-12-02T10:...</td>\n",
              "    </tr>\n",
              "    <tr>\n",
              "      <th>2</th>\n",
              "      <td>4</td>\n",
              "      <td>4</td>\n",
              "      <td>2018-12-02 10:33:31</td>\n",
              "      <td>2018-12-02 10:34:25</td>\n",
              "      <td>[-1.6469999999999998, -1.6469999999999998, 1.0...</td>\n",
              "      <td>[7.928999999999999, 7.928999999999999, 9.577, ...</td>\n",
              "      <td>[2.707, 2.707, 1.851, 0.5329999999999999, -0.1...</td>\n",
              "      <td>[2018-12-02T10:33:45.575000000, 2018-12-02T10:...</td>\n",
              "    </tr>\n",
              "    <tr>\n",
              "      <th>3</th>\n",
              "      <td>4</td>\n",
              "      <td>5</td>\n",
              "      <td>2018-12-02 10:34:29</td>\n",
              "      <td>2018-12-02 10:35:09</td>\n",
              "      <td>[3.486, 3.486, 5.631, 3.447, 1.225, 2.068, 2.0...</td>\n",
              "      <td>[10.036, 10.036, 9.04, 7.24, 7.891, 5.631, 5.6...</td>\n",
              "      <td>[0.484, 0.484, 0.064, 0.049, 2.076, 6.852, 6.8...</td>\n",
              "      <td>[2018-12-02T10:34:41.983000000, 2018-12-02T10:...</td>\n",
              "    </tr>\n",
              "    <tr>\n",
              "      <th>4</th>\n",
              "      <td>4</td>\n",
              "      <td>4</td>\n",
              "      <td>2018-12-02 11:49:03</td>\n",
              "      <td>2018-12-02 11:50:02</td>\n",
              "      <td>[-5.746, -5.401, -5.401, -5.669, -5.8610000000...</td>\n",
              "      <td>[7.853, 7.622999999999999, 7.622999999999999, ...</td>\n",
              "      <td>[0.127, 0.124, 0.124, 0.107, 0.115, 0.16, 0.16...</td>\n",
              "      <td>[2018-12-02T11:49:03.051000000, 2018-12-02T11:...</td>\n",
              "    </tr>\n",
              "  </tbody>\n",
              "</table>\n",
              "</div>"
            ],
            "text/plain": [
              "   user_id  ...                                                  T\n",
              "0        4  ...  [2018-12-02T10:27:37.041000000, 2018-12-02T10:...\n",
              "1        4  ...  [2018-12-02T10:32:58.181000000, 2018-12-02T10:...\n",
              "2        4  ...  [2018-12-02T10:33:45.575000000, 2018-12-02T10:...\n",
              "3        4  ...  [2018-12-02T10:34:41.983000000, 2018-12-02T10:...\n",
              "4        4  ...  [2018-12-02T11:49:03.051000000, 2018-12-02T11:...\n",
              "\n",
              "[5 rows x 8 columns]"
            ]
          },
          "execution_count": 124,
          "metadata": {
            "tags": []
          },
          "output_type": "execute_result"
        }
      ],
      "source": [
        "labeled_field = pd.read_pickle(\"labeled_field.pkl\", compression=\"gzip\")\n",
        "labeled_field.head()\n"
      ]
    },
    {
      "cell_type": "code",
      "execution_count": null,
      "metadata": {
        "colab": {
          "base_uri": "https://localhost:8080/",
          "height": 178
        },
        "id": "3pNsu0AwEjEK",
        "outputId": "1318f5e5-a508-4f6d-cc5b-5ca252a1055f"
      },
      "outputs": [
        {
          "data": {
            "text/plain": [
              "user_id                      int64\n",
              "activity_type_id             int64\n",
              "start               datetime64[ns]\n",
              "finish              datetime64[ns]\n",
              "X                           object\n",
              "Y                           object\n",
              "Z                           object\n",
              "T                           object\n",
              "dtype: object"
            ]
          },
          "execution_count": 125,
          "metadata": {
            "tags": []
          },
          "output_type": "execute_result"
        }
      ],
      "source": [
        "labeled_field.dtypes\n"
      ]
    },
    {
      "cell_type": "code",
      "execution_count": null,
      "metadata": {
        "colab": {
          "base_uri": "https://localhost:8080/",
          "height": 1000
        },
        "id": "AcLn8GG0rtEi",
        "outputId": "886f0478-aff9-4269-acdb-42979fe62040"
      },
      "outputs": [],
      "source": [
        "bp = [0]  # breakpoints\n",
        "added = 0\n",
        "for i in range(len(labeled_field)):\n",
        "    for j in range(1, len(labeled_field.loc[i, \"T\"])):\n",
        "        # if the difference between two consecutive values is greater than 2s, add a breakpoint\n",
        "        if (\n",
        "            (labeled_field.loc[i, \"T\"][j] - labeled_field.loc[i, \"T\"][j - 1])\n",
        "            / np.timedelta64(1, \"s\")\n",
        "        ) >= 2:\n",
        "            bp.append(j)\n",
        "    bp.append(len(labeled_field.loc[i, \"T\"]))\n",
        "    if (\n",
        "        len(bp) > 2\n",
        "    ):  # if there are more than two discontinuities including start and end\n",
        "        for k in range(1, len(bp)):\n",
        "            newdf = pd.DataFrame(\n",
        "                {\n",
        "                    \"user_id\": [labeled_field.loc[i, \"user_id\"]],\n",
        "                    \"activity_type_id\": [labeled_field.loc[i, \"activity_type_id\"]],\n",
        "                    \"start\": [pd.to_datetime(labeled_field.loc[i, \"T\"][bp[k - 1]])],\n",
        "                    \"finish\": [pd.to_datetime(labeled_field.loc[i, \"T\"][bp[k] - 1])],\n",
        "                    \"X\": [labeled_field.loc[i, \"X\"][bp[k - 1] : bp[k]]],\n",
        "                    \"Y\": [labeled_field.loc[i, \"Y\"][bp[k - 1] : bp[k]]],\n",
        "                    \"Z\": [labeled_field.loc[i, \"Z\"][bp[k - 1] : bp[k]]],\n",
        "                    \"T\": [labeled_field.loc[i, \"T\"][bp[k - 1] : bp[k]]],\n",
        "                }\n",
        "            )\n",
        "            labeled_field = pd.concat([labeled_field, newdf], ignore_index=True)\n",
        "        added += len(bp) - 2\n",
        "        print(f\"index{i} dropped\")\n",
        "        labeled_field.drop(i)\n",
        "    bp = [0]\n",
        "print(\"Total\", added, \"row added\")\n"
      ]
    },
    {
      "cell_type": "code",
      "execution_count": null,
      "metadata": {
        "colab": {
          "base_uri": "https://localhost:8080/",
          "height": 380
        },
        "id": "pM__Cl2673mQ",
        "outputId": "1e7b93c7-e358-4d47-d0ed-fb1ceadb0248"
      },
      "outputs": [
        {
          "data": {
            "text/html": [
              "<div>\n",
              "<style scoped>\n",
              "    .dataframe tbody tr th:only-of-type {\n",
              "        vertical-align: middle;\n",
              "    }\n",
              "\n",
              "    .dataframe tbody tr th {\n",
              "        vertical-align: top;\n",
              "    }\n",
              "\n",
              "    .dataframe thead th {\n",
              "        text-align: right;\n",
              "    }\n",
              "</style>\n",
              "<table border=\"1\" class=\"dataframe\">\n",
              "  <thead>\n",
              "    <tr style=\"text-align: right;\">\n",
              "      <th></th>\n",
              "      <th>user_id</th>\n",
              "      <th>activity_type_id</th>\n",
              "      <th>start</th>\n",
              "      <th>finish</th>\n",
              "      <th>X</th>\n",
              "      <th>Y</th>\n",
              "      <th>Z</th>\n",
              "      <th>Time</th>\n",
              "      <th>length</th>\n",
              "    </tr>\n",
              "  </thead>\n",
              "  <tbody>\n",
              "    <tr>\n",
              "      <th>0</th>\n",
              "      <td>18</td>\n",
              "      <td>9</td>\n",
              "      <td>2018-12-01 22:50:29</td>\n",
              "      <td>2018-12-01 22:51:16</td>\n",
              "      <td>[-1.0761912191930145, -1.2996604335255786, -1....</td>\n",
              "      <td>[7.278006110899289, 7.314203359813134, 7.34684...</td>\n",
              "      <td>[3.3749311576590486, 3.374820581767359, 3.3656...</td>\n",
              "      <td>[2018-12-01T22:50:30.450000000, 2018-12-01T22:...</td>\n",
              "      <td>800</td>\n",
              "    </tr>\n",
              "    <tr>\n",
              "      <th>1</th>\n",
              "      <td>18</td>\n",
              "      <td>9</td>\n",
              "      <td>2018-12-01 23:29:35</td>\n",
              "      <td>2018-12-01 23:30:09</td>\n",
              "      <td>[1.3620586299434982, 1.3607741168026488, 1.360...</td>\n",
              "      <td>[7.704226326846039, 7.753452679488208, 7.80137...</td>\n",
              "      <td>[0.09263532439116798, 0.7122787723283562, 1.31...</td>\n",
              "      <td>[2018-12-01T23:29:55.700000000, 2018-12-01T23:...</td>\n",
              "      <td>265</td>\n",
              "    </tr>\n",
              "    <tr>\n",
              "      <th>2</th>\n",
              "      <td>18</td>\n",
              "      <td>10</td>\n",
              "      <td>2018-12-01 23:46:32</td>\n",
              "      <td>2018-12-01 23:47:20</td>\n",
              "      <td>[-4.22142105868042, -4.228173445447816, -4.232...</td>\n",
              "      <td>[4.633118408576495, 4.776392928058909, 4.92265...</td>\n",
              "      <td>[2.2883405806148702, 2.64521618074148, 2.98787...</td>\n",
              "      <td>[2018-12-01T23:46:33.650000000, 2018-12-01T23:...</td>\n",
              "      <td>921</td>\n",
              "    </tr>\n",
              "    <tr>\n",
              "      <th>3</th>\n",
              "      <td>18</td>\n",
              "      <td>9</td>\n",
              "      <td>2018-12-01 23:58:27</td>\n",
              "      <td>2018-12-01 23:59:03</td>\n",
              "      <td>[0.011176190391082773, -0.12869343186136828, -...</td>\n",
              "      <td>[8.655850321930386, 8.76944554480367, 8.877926...</td>\n",
              "      <td>[3.977220032950275, 4.223088201691081, 4.45847...</td>\n",
              "      <td>[2018-12-01T23:58:27.250000000, 2018-12-01T23:...</td>\n",
              "      <td>670</td>\n",
              "    </tr>\n",
              "    <tr>\n",
              "      <th>4</th>\n",
              "      <td>4</td>\n",
              "      <td>5</td>\n",
              "      <td>2018-12-02 10:27:37</td>\n",
              "      <td>2018-12-02 10:28:22</td>\n",
              "      <td>[0.10783071488709874, 0.3303105412467751, 0.54...</td>\n",
              "      <td>[7.093423475561911, 6.999542499158988, 6.90472...</td>\n",
              "      <td>[5.846058082782215, 5.935895343189449, 6.04110...</td>\n",
              "      <td>[2018-12-02T10:27:37.000000000, 2018-12-02T10:...</td>\n",
              "      <td>898</td>\n",
              "    </tr>\n",
              "  </tbody>\n",
              "</table>\n",
              "</div>"
            ],
            "text/plain": [
              "   user_id  ...  length\n",
              "0       18  ...     800\n",
              "1       18  ...     265\n",
              "2       18  ...     921\n",
              "3       18  ...     670\n",
              "4        4  ...     898\n",
              "\n",
              "[5 rows x 9 columns]"
            ]
          },
          "execution_count": 156,
          "metadata": {
            "tags": []
          },
          "output_type": "execute_result"
        }
      ],
      "source": [
        "labeled_field[\"length\"] = labeled_field[\"T\"].apply(len)\n",
        "labeled_field.head()\n"
      ]
    },
    {
      "cell_type": "code",
      "execution_count": null,
      "metadata": {
        "colab": {
          "base_uri": "https://localhost:8080/",
          "height": 380
        },
        "id": "Os6kcKcL9V8I",
        "outputId": "b582c5ef-6d08-42e4-80fc-4e41d29935d9"
      },
      "outputs": [
        {
          "data": {
            "text/html": [
              "<div>\n",
              "<style scoped>\n",
              "    .dataframe tbody tr th:only-of-type {\n",
              "        vertical-align: middle;\n",
              "    }\n",
              "\n",
              "    .dataframe tbody tr th {\n",
              "        vertical-align: top;\n",
              "    }\n",
              "\n",
              "    .dataframe thead th {\n",
              "        text-align: right;\n",
              "    }\n",
              "</style>\n",
              "<table border=\"1\" class=\"dataframe\">\n",
              "  <thead>\n",
              "    <tr style=\"text-align: right;\">\n",
              "      <th></th>\n",
              "      <th>user_id</th>\n",
              "      <th>activity_type_id</th>\n",
              "      <th>start</th>\n",
              "      <th>finish</th>\n",
              "      <th>X</th>\n",
              "      <th>Y</th>\n",
              "      <th>Z</th>\n",
              "      <th>T</th>\n",
              "      <th>length</th>\n",
              "    </tr>\n",
              "  </thead>\n",
              "  <tbody>\n",
              "    <tr>\n",
              "      <th>0</th>\n",
              "      <td>18</td>\n",
              "      <td>9</td>\n",
              "      <td>2018-12-01 22:50:29.000</td>\n",
              "      <td>2018-12-01 22:51:16.000</td>\n",
              "      <td>[-5.171, -3.7539999999999996, -1.072, -1.072, ...</td>\n",
              "      <td>[7.278, 8.274, 8.81, 8.81, 8.351, 6.665, 6.665...</td>\n",
              "      <td>[3.39, 3.373, 3.633, 3.633, 3.8489999999999998...</td>\n",
              "      <td>[2018-12-01T22:50:30.481000000, 2018-12-01T22:...</td>\n",
              "      <td>95</td>\n",
              "    </tr>\n",
              "    <tr>\n",
              "      <th>1</th>\n",
              "      <td>18</td>\n",
              "      <td>9</td>\n",
              "      <td>2018-12-01 23:29:35.000</td>\n",
              "      <td>2018-12-01 23:30:09.000</td>\n",
              "      <td>[1.5319999999999998, 2.451, 1.379, 1.379, -3.1...</td>\n",
              "      <td>[7.7, 7.776, 8.581, 8.581, 8.236, 7.814, 7.814...</td>\n",
              "      <td>[0.105, 4.154, 3.387, 3.387, 4.565, 6.41299999...</td>\n",
              "      <td>[2018-12-01T23:29:55.742000000, 2018-12-01T23:...</td>\n",
              "      <td>99</td>\n",
              "    </tr>\n",
              "    <tr>\n",
              "      <th>2</th>\n",
              "      <td>18</td>\n",
              "      <td>10</td>\n",
              "      <td>2018-12-01 23:46:32.000</td>\n",
              "      <td>2018-12-01 23:47:20.000</td>\n",
              "      <td>[-6.091, -5.784, -4.213, -4.213, 4.252, 9.692,...</td>\n",
              "      <td>[7.776, 6.32, 4.635, 4.635, 11.492, 18.043, 8....</td>\n",
              "      <td>[2.2840000000000003, 4.202, 6.09, 6.09, -6.332...</td>\n",
              "      <td>[2018-12-01T23:46:33.656000000, 2018-12-01T23:...</td>\n",
              "      <td>74</td>\n",
              "    </tr>\n",
              "    <tr>\n",
              "      <th>3</th>\n",
              "      <td>18</td>\n",
              "      <td>9</td>\n",
              "      <td>2018-12-01 23:58:27.000</td>\n",
              "      <td>2018-12-01 23:59:03.000</td>\n",
              "      <td>[-0.7659999999999999, -0.7659999999999999, 0.2...</td>\n",
              "      <td>[9.347000000000001, 9.347000000000001, 8.657, ...</td>\n",
              "      <td>[5.462000000000001, 5.462000000000001, 3.97, 5...</td>\n",
              "      <td>[2018-12-01T23:58:27.272000000, 2018-12-01T23:...</td>\n",
              "      <td>156</td>\n",
              "    </tr>\n",
              "    <tr>\n",
              "      <th>4</th>\n",
              "      <td>18</td>\n",
              "      <td>9</td>\n",
              "      <td>2018-12-01 23:58:41.989</td>\n",
              "      <td>2018-12-01 23:58:43.539</td>\n",
              "      <td>[2.068, 2.068, 2.221, 0.804, -0.153, -0.153, -...</td>\n",
              "      <td>[8.427, 8.427, 8.312000000000001, 7.125, 6.895...</td>\n",
              "      <td>[5.845, 5.845, 5.329, 5.662000000000001, 5.85,...</td>\n",
              "      <td>[2018-12-01T23:58:41.989000000, 2018-12-01T23:...</td>\n",
              "      <td>66</td>\n",
              "    </tr>\n",
              "  </tbody>\n",
              "</table>\n",
              "</div>"
            ],
            "text/plain": [
              "   user_id  ...  length\n",
              "0       18  ...      95\n",
              "1       18  ...      99\n",
              "2       18  ...      74\n",
              "3       18  ...     156\n",
              "4       18  ...      66\n",
              "\n",
              "[5 rows x 9 columns]"
            ]
          },
          "execution_count": 128,
          "metadata": {
            "tags": []
          },
          "output_type": "execute_result"
        }
      ],
      "source": [
        "labeled_field = labeled_field[labeled_field[\"length\"] >= 60].sort_values(\n",
        "    \"start\", ignore_index=True\n",
        ")\n",
        "labeled_field.head()\n"
      ]
    },
    {
      "cell_type": "markdown",
      "metadata": {
        "id": "YEvUdxhur0EW"
      },
      "source": [
        "# Median Filter\n"
      ]
    },
    {
      "cell_type": "code",
      "execution_count": null,
      "metadata": {
        "colab": {
          "base_uri": "https://localhost:8080/",
          "height": 35
        },
        "id": "onBEZObnV_f1",
        "outputId": "47238b65-3f25-4bc2-e34d-fa8179f4791e"
      },
      "outputs": [
        {
          "data": {
            "text/plain": [
              "95"
            ]
          },
          "execution_count": 130,
          "metadata": {
            "tags": []
          },
          "output_type": "execute_result"
        }
      ],
      "source": [
        "labeled_field[\"MF_X\"] = labeled_field[\"X\"].apply(signal.medfilt, kernel_size=5)\n",
        "labeled_field[\"MF_Y\"] = labeled_field[\"Y\"].apply(signal.medfilt, kernel_size=5)\n",
        "labeled_field[\"MF_Z\"] = labeled_field[\"Z\"].apply(signal.medfilt, kernel_size=5)\n",
        "len(labeled_field.loc[0, \"MF_X\"])\n"
      ]
    },
    {
      "cell_type": "code",
      "execution_count": null,
      "metadata": {
        "colab": {
          "base_uri": "https://localhost:8080/",
          "height": 283
        },
        "id": "Ucq8AxuLYhJZ",
        "outputId": "44ba0f1b-2b75-41a4-e5d0-3d6489fd33a2"
      },
      "outputs": [
        {
          "data": {
            "text/plain": [
              "[<matplotlib.lines.Line2D at 0x7fe4dcd0d198>]"
            ]
          },
          "execution_count": 131,
          "metadata": {
            "tags": []
          },
          "output_type": "execute_result"
        },
        {
          "data": {
            "image/png": "[encoded data removed]",
            "text/plain": [
              "<Figure size 432x288 with 1 Axes>"
            ]
          },
          "metadata": {
            "needs_background": "light",
            "tags": []
          },
          "output_type": "display_data"
        }
      ],
      "source": [
        "plt.plot(labeled_field.loc[0, \"MF_X\"])\n"
      ]
    },
    {
      "cell_type": "code",
      "execution_count": null,
      "metadata": {
        "id": "CFZp-2wp2cnh"
      },
      "outputs": [],
      "source": [
        "labeled_field.to_pickle(\"mf_labeled_field.pkl\", compression=\"gzip\")\n"
      ]
    },
    {
      "cell_type": "markdown",
      "metadata": {
        "id": "KfC_85BvKIrw"
      },
      "source": [
        "# Resampling\n"
      ]
    },
    {
      "cell_type": "code",
      "execution_count": null,
      "metadata": {
        "id": "Wt48dvw4pQco"
      },
      "outputs": [],
      "source": [
        "rsx = []\n",
        "rsy = []\n",
        "rsz = []\n",
        "rst = []\n",
        "for i in labeled_field.index:\n",
        "    df = pd.DataFrame(\n",
        "        {\n",
        "            \"x\": labeled_field.MF_X[i],\n",
        "            \"y\": labeled_field.MF_Y[i],\n",
        "            \"z\": labeled_field.MF_Z[i],\n",
        "            \"t\": labeled_field.loc[i, \"T\"],\n",
        "        }\n",
        "    )\n",
        "    df.set_index(\"t\", inplace=True)\n",
        "    resampled = df.resample(\"50ms\").bfill(limit=1).interpolate(method=\"linear\")\n",
        "    rsx.append(np.array(resampled[\"x\"]))\n",
        "    rsy.append(np.array(resampled[\"y\"]))\n",
        "    rsz.append(np.array(resampled[\"z\"]))\n",
        "    rst.append(np.array(resampled.index))\n",
        "labeled_field[\"X\"], labeled_field[\"Y\"], labeled_field[\"Z\"], labeled_field[\"Time\"] = (\n",
        "    rsx,\n",
        "    rsy,\n",
        "    rsz,\n",
        "    rst,\n",
        ")\n"
      ]
    },
    {
      "cell_type": "code",
      "execution_count": null,
      "metadata": {
        "colab": {
          "base_uri": "https://localhost:8080/",
          "height": 283
        },
        "id": "ATkZcK2tK0C7",
        "outputId": "eee89d18-693d-46b7-b01a-4fd59e5dfb50"
      },
      "outputs": [
        {
          "data": {
            "text/plain": [
              "[<matplotlib.lines.Line2D at 0x7fe4df54fbe0>]"
            ]
          },
          "execution_count": 146,
          "metadata": {
            "tags": []
          },
          "output_type": "execute_result"
        },
        {
          "data": {
            "image/png": "[encoded data removed]",
            "text/plain": [
              "<Figure size 432x288 with 1 Axes>"
            ]
          },
          "metadata": {
            "needs_background": "light",
            "tags": []
          },
          "output_type": "display_data"
        }
      ],
      "source": [
        "plt.plot(labeled_field.loc[0, \"Time\"], labeled_field.loc[0, \"X\"])\n"
      ]
    },
    {
      "cell_type": "code",
      "execution_count": null,
      "metadata": {
        "colab": {
          "base_uri": "https://localhost:8080/",
          "height": 312
        },
        "id": "XKWLEbdDL_rU",
        "outputId": "f447d44b-1234-4e61-a7f1-7180aa620a38"
      },
      "outputs": [
        {
          "data": {
            "text/plain": [
              "Text(0.5, 0.98, 'Resampling at 20Hz Method: linear Example: 1000')"
            ]
          },
          "execution_count": 147,
          "metadata": {
            "tags": []
          },
          "output_type": "execute_result"
        },
        {
          "data": {
            "image/png": "[encoded data removed]",
            "text/plain": [
              "<Figure size 576x288 with 2 Axes>"
            ]
          },
          "metadata": {
            "needs_background": "light",
            "tags": []
          },
          "output_type": "display_data"
        }
      ],
      "source": [
        "method = \"linear\"\n",
        "example = 1000\n",
        "plt.figure(figsize=(8, 4))\n",
        "plt.subplot(1, 2, 1)\n",
        "plt.plot(labeled_field.loc[example, \"T\"], labeled_field.loc[example, \"MF_X\"])\n",
        "plt.title(\"Before Resampling\")\n",
        "plt.subplot(1, 2, 2)\n",
        "plt.plot(labeled_field.loc[example, \"Time\"], labeled_field.loc[example, \"X\"])\n",
        "plt.title(\"After Resampling\")\n",
        "plt.gcf().suptitle(f\"Resampling at 20Hz Method: {method} Example: {example}\")\n"
      ]
    },
    {
      "cell_type": "code",
      "execution_count": null,
      "metadata": {
        "colab": {
          "base_uri": "https://localhost:8080/",
          "height": 160
        },
        "id": "sTfs7Ph9hEmH",
        "outputId": "47c9be01-44d9-46d4-b9af-15122c59571c"
      },
      "outputs": [
        {
          "data": {
            "text/plain": [
              "(   user_id  ...                                               Time\n",
              " 0       18  ...  [2018-12-01T22:50:30.450000000, 2018-12-01T22:...\n",
              " 1       18  ...  [2018-12-01T23:29:55.700000000, 2018-12-01T23:...\n",
              " 2       18  ...  [2018-12-01T23:46:33.650000000, 2018-12-01T23:...\n",
              " 3       18  ...  [2018-12-01T23:58:27.250000000, 2018-12-01T23:...\n",
              " 4        4  ...  [2018-12-02T10:27:37.000000000, 2018-12-02T10:...\n",
              " \n",
              " [5 rows x 13 columns], 3186)"
            ]
          },
          "execution_count": 148,
          "metadata": {
            "tags": []
          },
          "output_type": "execute_result"
        }
      ],
      "source": [
        "labeled_field[\"length\"] = labeled_field[\"Time\"].apply(len)\n",
        "labeled_field = labeled_field[labeled_field[\"length\"] >= 60].sort_values(\n",
        "    \"start\", ignore_index=True\n",
        ")\n",
        "labeled_field.head(), len(labeled_field)\n"
      ]
    },
    {
      "cell_type": "code",
      "execution_count": null,
      "metadata": {
        "colab": {
          "base_uri": "https://localhost:8080/",
          "height": 771
        },
        "id": "ZfnLsOYIRKQq",
        "outputId": "4dbf6108-68ab-46dc-c369-35b092a3b138"
      },
      "outputs": [
        {
          "data": {
            "text/html": [
              "<div>\n",
              "<style scoped>\n",
              "    .dataframe tbody tr th:only-of-type {\n",
              "        vertical-align: middle;\n",
              "    }\n",
              "\n",
              "    .dataframe tbody tr th {\n",
              "        vertical-align: top;\n",
              "    }\n",
              "\n",
              "    .dataframe thead th {\n",
              "        text-align: right;\n",
              "    }\n",
              "</style>\n",
              "<table border=\"1\" class=\"dataframe\">\n",
              "  <thead>\n",
              "    <tr style=\"text-align: right;\">\n",
              "      <th></th>\n",
              "      <th>user_id</th>\n",
              "      <th>activity_type_id</th>\n",
              "      <th>start</th>\n",
              "      <th>finish</th>\n",
              "      <th>X</th>\n",
              "      <th>Y</th>\n",
              "      <th>Z</th>\n",
              "      <th>Time</th>\n",
              "    </tr>\n",
              "  </thead>\n",
              "  <tbody>\n",
              "    <tr>\n",
              "      <th>0</th>\n",
              "      <td>18</td>\n",
              "      <td>9</td>\n",
              "      <td>2018-12-01 22:50:29.000</td>\n",
              "      <td>2018-12-01 22:51:16.000</td>\n",
              "      <td>[-1.072, -1.072, -0.268, -1.7619999999999998, ...</td>\n",
              "      <td>[7.278, 8.351, 6.665, 6.972, 8.198, 8.198, 7.2...</td>\n",
              "      <td>[3.373, 3.633, 3.924, 3.966, 5.383999999999999...</td>\n",
              "      <td>[2018-12-01T22:50:30.450000000, 2018-12-01T22:...</td>\n",
              "    </tr>\n",
              "    <tr>\n",
              "      <th>1</th>\n",
              "      <td>18</td>\n",
              "      <td>9</td>\n",
              "      <td>2018-12-01 23:29:35.000</td>\n",
              "      <td>2018-12-01 23:30:09.000</td>\n",
              "      <td>[1.379, 1.379, 1.379, 1.379, 1.379, 1.379, 1.3...</td>\n",
              "      <td>[7.7, 7.719, 7.7379999999999995, 7.757, 7.776,...</td>\n",
              "      <td>[0.105, 0.9255, 1.746, 2.5665, 3.387, 3.387, 3...</td>\n",
              "      <td>[2018-12-01T23:29:55.700000000, 2018-12-01T23:...</td>\n",
              "    </tr>\n",
              "    <tr>\n",
              "      <th>2</th>\n",
              "      <td>18</td>\n",
              "      <td>10</td>\n",
              "      <td>2018-12-01 23:46:32.000</td>\n",
              "      <td>2018-12-01 23:47:20.000</td>\n",
              "      <td>[-4.213, -4.213, -4.213, -4.213, -4.213, -4.21...</td>\n",
              "      <td>[4.635, 4.635, 4.635, 4.635, 4.635, 5.05625, 5...</td>\n",
              "      <td>[2.2840000000000003, 2.7635, 3.243000000000000...</td>\n",
              "      <td>[2018-12-01T23:46:33.650000000, 2018-12-01T23:...</td>\n",
              "    </tr>\n",
              "    <tr>\n",
              "      <th>3</th>\n",
              "      <td>18</td>\n",
              "      <td>9</td>\n",
              "      <td>2018-12-01 23:58:27.000</td>\n",
              "      <td>2018-12-01 23:59:03.000</td>\n",
              "      <td>[0.0, -0.19149999999999998, -0.382999999999999...</td>\n",
              "      <td>[8.657, 8.8295, 9.002, 9.174500000000002, 9.34...</td>\n",
              "      <td>[3.97, 4.343, 4.716, 5.089, 5.462000000000001,...</td>\n",
              "      <td>[2018-12-01T23:58:27.250000000, 2018-12-01T23:...</td>\n",
              "    </tr>\n",
              "    <tr>\n",
              "      <th>4</th>\n",
              "      <td>4</td>\n",
              "      <td>5</td>\n",
              "      <td>2018-12-02 10:27:37.000</td>\n",
              "      <td>2018-12-02 10:28:22.000</td>\n",
              "      <td>[0.0, 0.1435, 0.287, 0.4305, 0.574, 0.79425, 1...</td>\n",
              "      <td>[7.125, 7.125, 7.125, 7.125, 7.125, 6.895, 6.6...</td>\n",
              "      <td>[5.89, 5.89, 5.89, 5.89, 5.89, 6.08075, 6.2715...</td>\n",
              "      <td>[2018-12-02T10:27:37.000000000, 2018-12-02T10:...</td>\n",
              "    </tr>\n",
              "    <tr>\n",
              "      <th>...</th>\n",
              "      <td>...</td>\n",
              "      <td>...</td>\n",
              "      <td>...</td>\n",
              "      <td>...</td>\n",
              "      <td>...</td>\n",
              "      <td>...</td>\n",
              "      <td>...</td>\n",
              "      <td>...</td>\n",
              "    </tr>\n",
              "    <tr>\n",
              "      <th>3181</th>\n",
              "      <td>4</td>\n",
              "      <td>4</td>\n",
              "      <td>2018-12-31 21:42:01.521</td>\n",
              "      <td>2018-12-31 22:31:57.956</td>\n",
              "      <td>[0.6890000000000001, 0.6890000000000001, 0.689...</td>\n",
              "      <td>[8.158999999999999, 8.389, 8.619, 8.849, 9.079...</td>\n",
              "      <td>[0.055, 0.0755, 0.096, 0.11649999999999999, 0....</td>\n",
              "      <td>[2018-12-31T21:42:01.500000000, 2018-12-31T21:...</td>\n",
              "    </tr>\n",
              "    <tr>\n",
              "      <th>3182</th>\n",
              "      <td>8</td>\n",
              "      <td>1</td>\n",
              "      <td>2019-01-01 06:06:45.000</td>\n",
              "      <td>2019-01-01 06:07:37.000</td>\n",
              "      <td>[-2.681, -2.70025, -2.7195, -2.73875, -2.758, ...</td>\n",
              "      <td>[7.125, 7.1825, 7.24, 7.2975, 7.355, 7.355, 7....</td>\n",
              "      <td>[5.78, 5.785, 5.79, 5.795, 5.8, 5.801, 5.802, ...</td>\n",
              "      <td>[2019-01-01T06:06:45.150000000, 2019-01-01T06:...</td>\n",
              "    </tr>\n",
              "    <tr>\n",
              "      <th>3183</th>\n",
              "      <td>8</td>\n",
              "      <td>1</td>\n",
              "      <td>2019-01-01 06:06:45.159</td>\n",
              "      <td>2019-01-01 06:07:04.190</td>\n",
              "      <td>[-2.681, -2.70025, -2.7195, -2.73875, -2.758, ...</td>\n",
              "      <td>[7.125, 7.1825, 7.24, 7.2975, 7.355, 7.355, 7....</td>\n",
              "      <td>[5.78, 5.785, 5.79, 5.795, 5.8, 5.801, 5.802, ...</td>\n",
              "      <td>[2019-01-01T06:06:45.150000000, 2019-01-01T06:...</td>\n",
              "    </tr>\n",
              "    <tr>\n",
              "      <th>3184</th>\n",
              "      <td>8</td>\n",
              "      <td>1</td>\n",
              "      <td>2019-01-01 06:07:06.784</td>\n",
              "      <td>2019-01-01 06:07:21.811</td>\n",
              "      <td>[-5.171, -5.171, -5.171, -5.171, -5.171, -4.99...</td>\n",
              "      <td>[8.312000000000001, 8.312000000000001, 8.31200...</td>\n",
              "      <td>[0.026000000000000002, 0.11900000000000001, 0....</td>\n",
              "      <td>[2019-01-01T06:07:06.750000000, 2019-01-01T06:...</td>\n",
              "    </tr>\n",
              "    <tr>\n",
              "      <th>3185</th>\n",
              "      <td>8</td>\n",
              "      <td>1</td>\n",
              "      <td>2019-01-01 06:10:54.000</td>\n",
              "      <td>2019-01-01 06:11:21.000</td>\n",
              "      <td>[0.0, -0.45, -0.9, -1.35, -1.8, -1.8, -1.8, -1...</td>\n",
              "      <td>[9.538, 9.538, 9.538, 9.538, 9.538, 9.18375, 8...</td>\n",
              "      <td>[1.16, 1.36875, 1.5775000000000001, 1.78625000...</td>\n",
              "      <td>[2019-01-01T06:10:54.700000000, 2019-01-01T06:...</td>\n",
              "    </tr>\n",
              "  </tbody>\n",
              "</table>\n",
              "<p>3186 rows × 8 columns</p>\n",
              "</div>"
            ],
            "text/plain": [
              "      user_id  ...                                               Time\n",
              "0          18  ...  [2018-12-01T22:50:30.450000000, 2018-12-01T22:...\n",
              "1          18  ...  [2018-12-01T23:29:55.700000000, 2018-12-01T23:...\n",
              "2          18  ...  [2018-12-01T23:46:33.650000000, 2018-12-01T23:...\n",
              "3          18  ...  [2018-12-01T23:58:27.250000000, 2018-12-01T23:...\n",
              "4           4  ...  [2018-12-02T10:27:37.000000000, 2018-12-02T10:...\n",
              "...       ...  ...                                                ...\n",
              "3181        4  ...  [2018-12-31T21:42:01.500000000, 2018-12-31T21:...\n",
              "3182        8  ...  [2019-01-01T06:06:45.150000000, 2019-01-01T06:...\n",
              "3183        8  ...  [2019-01-01T06:06:45.150000000, 2019-01-01T06:...\n",
              "3184        8  ...  [2019-01-01T06:07:06.750000000, 2019-01-01T06:...\n",
              "3185        8  ...  [2019-01-01T06:10:54.700000000, 2019-01-01T06:...\n",
              "\n",
              "[3186 rows x 8 columns]"
            ]
          },
          "execution_count": 149,
          "metadata": {
            "tags": []
          },
          "output_type": "execute_result"
        }
      ],
      "source": [
        "labeled_field.drop(columns=[\"T\", \"MF_X\", \"MF_Y\", \"MF_Z\", \"length\"], inplace=True)\n",
        "labeled_field\n"
      ]
    },
    {
      "cell_type": "code",
      "execution_count": null,
      "metadata": {
        "colab": {
          "base_uri": "https://localhost:8080/",
          "height": 231
        },
        "id": "dTnr90XZeo5r",
        "outputId": "ec0c1de5-972b-4c34-d86c-98409e323e07"
      },
      "outputs": [
        {
          "data": {
            "text/plain": [
              "0         800\n",
              "1         265\n",
              "2         921\n",
              "3         670\n",
              "4         898\n",
              "        ...  \n",
              "3181    59930\n",
              "3182     1037\n",
              "3183      381\n",
              "3184      302\n",
              "3185      521\n",
              "Name: Time, Length: 3186, dtype: int64"
            ]
          },
          "execution_count": 151,
          "metadata": {
            "tags": []
          },
          "output_type": "execute_result"
        }
      ],
      "source": [
        "labeled_field.Time.apply(len)\n"
      ]
    },
    {
      "cell_type": "markdown",
      "metadata": {
        "id": "U-SMQ9Y_5j-D"
      },
      "source": [
        "# Low Pass Filter\n"
      ]
    },
    {
      "cell_type": "code",
      "execution_count": null,
      "metadata": {
        "colab": {
          "base_uri": "https://localhost:8080/",
          "height": 771
        },
        "id": "mPcCNZvI_I-A",
        "outputId": "b735cf76-b75b-4009-d008-15b4393b310d"
      },
      "outputs": [
        {
          "data": {
            "text/html": [
              "<div>\n",
              "<style scoped>\n",
              "    .dataframe tbody tr th:only-of-type {\n",
              "        vertical-align: middle;\n",
              "    }\n",
              "\n",
              "    .dataframe tbody tr th {\n",
              "        vertical-align: top;\n",
              "    }\n",
              "\n",
              "    .dataframe thead th {\n",
              "        text-align: right;\n",
              "    }\n",
              "</style>\n",
              "<table border=\"1\" class=\"dataframe\">\n",
              "  <thead>\n",
              "    <tr style=\"text-align: right;\">\n",
              "      <th></th>\n",
              "      <th>user_id</th>\n",
              "      <th>activity_type_id</th>\n",
              "      <th>start</th>\n",
              "      <th>finish</th>\n",
              "      <th>X</th>\n",
              "      <th>Y</th>\n",
              "      <th>Z</th>\n",
              "      <th>Time</th>\n",
              "    </tr>\n",
              "  </thead>\n",
              "  <tbody>\n",
              "    <tr>\n",
              "      <th>0</th>\n",
              "      <td>18</td>\n",
              "      <td>9</td>\n",
              "      <td>2018-12-01 22:50:29.000</td>\n",
              "      <td>2018-12-01 22:51:16.000</td>\n",
              "      <td>[-1.0761912191930145, -1.2996604335255786, -1....</td>\n",
              "      <td>[7.278006110899289, 7.314203359813134, 7.34684...</td>\n",
              "      <td>[3.3749311576590486, 3.374820581767359, 3.3656...</td>\n",
              "      <td>[2018-12-01T22:50:30.450000000, 2018-12-01T22:...</td>\n",
              "    </tr>\n",
              "    <tr>\n",
              "      <th>1</th>\n",
              "      <td>18</td>\n",
              "      <td>9</td>\n",
              "      <td>2018-12-01 23:29:35.000</td>\n",
              "      <td>2018-12-01 23:30:09.000</td>\n",
              "      <td>[1.3620586299434982, 1.3607741168026488, 1.360...</td>\n",
              "      <td>[7.704226326846039, 7.753452679488208, 7.80137...</td>\n",
              "      <td>[0.09263532439116798, 0.7122787723283562, 1.31...</td>\n",
              "      <td>[2018-12-01T23:29:55.700000000, 2018-12-01T23:...</td>\n",
              "    </tr>\n",
              "    <tr>\n",
              "      <th>2</th>\n",
              "      <td>18</td>\n",
              "      <td>10</td>\n",
              "      <td>2018-12-01 23:46:32.000</td>\n",
              "      <td>2018-12-01 23:47:20.000</td>\n",
              "      <td>[-4.22142105868042, -4.228173445447816, -4.232...</td>\n",
              "      <td>[4.633118408576495, 4.776392928058909, 4.92265...</td>\n",
              "      <td>[2.2883405806148702, 2.64521618074148, 2.98787...</td>\n",
              "      <td>[2018-12-01T23:46:33.650000000, 2018-12-01T23:...</td>\n",
              "    </tr>\n",
              "    <tr>\n",
              "      <th>3</th>\n",
              "      <td>18</td>\n",
              "      <td>9</td>\n",
              "      <td>2018-12-01 23:58:27.000</td>\n",
              "      <td>2018-12-01 23:59:03.000</td>\n",
              "      <td>[0.011176190391082773, -0.12869343186136828, -...</td>\n",
              "      <td>[8.655850321930386, 8.76944554480367, 8.877926...</td>\n",
              "      <td>[3.977220032950275, 4.223088201691081, 4.45847...</td>\n",
              "      <td>[2018-12-01T23:58:27.250000000, 2018-12-01T23:...</td>\n",
              "    </tr>\n",
              "    <tr>\n",
              "      <th>4</th>\n",
              "      <td>4</td>\n",
              "      <td>5</td>\n",
              "      <td>2018-12-02 10:27:37.000</td>\n",
              "      <td>2018-12-02 10:28:22.000</td>\n",
              "      <td>[0.10783071488709874, 0.3303105412467751, 0.54...</td>\n",
              "      <td>[7.093423475561911, 6.999542499158988, 6.90472...</td>\n",
              "      <td>[5.846058082782215, 5.935895343189449, 6.04110...</td>\n",
              "      <td>[2018-12-02T10:27:37.000000000, 2018-12-02T10:...</td>\n",
              "    </tr>\n",
              "    <tr>\n",
              "      <th>...</th>\n",
              "      <td>...</td>\n",
              "      <td>...</td>\n",
              "      <td>...</td>\n",
              "      <td>...</td>\n",
              "      <td>...</td>\n",
              "      <td>...</td>\n",
              "      <td>...</td>\n",
              "      <td>...</td>\n",
              "    </tr>\n",
              "    <tr>\n",
              "      <th>3181</th>\n",
              "      <td>4</td>\n",
              "      <td>4</td>\n",
              "      <td>2018-12-31 21:42:01.521</td>\n",
              "      <td>2018-12-31 22:31:57.956</td>\n",
              "      <td>[0.6851923536482255, 0.5684014395190181, 0.451...</td>\n",
              "      <td>[8.161065628785742, 8.326018070934893, 8.48237...</td>\n",
              "      <td>[0.04649090115298744, 0.05434191035399382, 0.0...</td>\n",
              "      <td>[2018-12-31T21:42:01.500000000, 2018-12-31T21:...</td>\n",
              "    </tr>\n",
              "    <tr>\n",
              "      <th>3182</th>\n",
              "      <td>8</td>\n",
              "      <td>1</td>\n",
              "      <td>2019-01-01 06:06:45.000</td>\n",
              "      <td>2019-01-01 06:07:37.000</td>\n",
              "      <td>[-2.7015867089907295, -2.719283823353232, -2.7...</td>\n",
              "      <td>[7.128262914181074, 7.168860704132462, 7.20713...</td>\n",
              "      <td>[5.7469729274068015, 5.748581437728416, 5.7533...</td>\n",
              "      <td>[2019-01-01T06:06:45.150000000, 2019-01-01T06:...</td>\n",
              "    </tr>\n",
              "    <tr>\n",
              "      <th>3183</th>\n",
              "      <td>8</td>\n",
              "      <td>1</td>\n",
              "      <td>2019-01-01 06:06:45.159</td>\n",
              "      <td>2019-01-01 06:07:04.190</td>\n",
              "      <td>[-2.7015867089907295, -2.719283823353232, -2.7...</td>\n",
              "      <td>[7.128262914181106, 7.168860704132498, 7.20713...</td>\n",
              "      <td>[5.7469729274067936, 5.74858143772841, 5.75333...</td>\n",
              "      <td>[2019-01-01T06:06:45.150000000, 2019-01-01T06:...</td>\n",
              "    </tr>\n",
              "    <tr>\n",
              "      <th>3184</th>\n",
              "      <td>8</td>\n",
              "      <td>1</td>\n",
              "      <td>2019-01-01 06:07:06.784</td>\n",
              "      <td>2019-01-01 06:07:21.811</td>\n",
              "      <td>[-5.154398218490344, -5.090425027100808, -5.02...</td>\n",
              "      <td>[8.292082603058383, 8.20262167623543, 8.112456...</td>\n",
              "      <td>[0.022421086240968422, 0.06116496331737013, 0....</td>\n",
              "      <td>[2019-01-01T06:07:06.750000000, 2019-01-01T06:...</td>\n",
              "    </tr>\n",
              "    <tr>\n",
              "      <th>3185</th>\n",
              "      <td>8</td>\n",
              "      <td>1</td>\n",
              "      <td>2019-01-01 06:10:54.000</td>\n",
              "      <td>2019-01-01 06:11:21.000</td>\n",
              "      <td>[0.004435420392464909, -0.3237665915781022, -0...</td>\n",
              "      <td>[9.538221136130922, 9.416618525616865, 9.29282...</td>\n",
              "      <td>[1.1625604687712745, 1.3183408459881225, 1.467...</td>\n",
              "      <td>[2019-01-01T06:10:54.700000000, 2019-01-01T06:...</td>\n",
              "    </tr>\n",
              "  </tbody>\n",
              "</table>\n",
              "<p>3186 rows × 8 columns</p>\n",
              "</div>"
            ],
            "text/plain": [
              "      user_id  ...                                               Time\n",
              "0          18  ...  [2018-12-01T22:50:30.450000000, 2018-12-01T22:...\n",
              "1          18  ...  [2018-12-01T23:29:55.700000000, 2018-12-01T23:...\n",
              "2          18  ...  [2018-12-01T23:46:33.650000000, 2018-12-01T23:...\n",
              "3          18  ...  [2018-12-01T23:58:27.250000000, 2018-12-01T23:...\n",
              "4           4  ...  [2018-12-02T10:27:37.000000000, 2018-12-02T10:...\n",
              "...       ...  ...                                                ...\n",
              "3181        4  ...  [2018-12-31T21:42:01.500000000, 2018-12-31T21:...\n",
              "3182        8  ...  [2019-01-01T06:06:45.150000000, 2019-01-01T06:...\n",
              "3183        8  ...  [2019-01-01T06:06:45.150000000, 2019-01-01T06:...\n",
              "3184        8  ...  [2019-01-01T06:07:06.750000000, 2019-01-01T06:...\n",
              "3185        8  ...  [2019-01-01T06:10:54.700000000, 2019-01-01T06:...\n",
              "\n",
              "[3186 rows x 8 columns]"
            ]
          },
          "execution_count": 153,
          "metadata": {
            "tags": []
          },
          "output_type": "execute_result"
        }
      ],
      "source": [
        "fs = 20\n",
        "fc = 1\n",
        "lpx, lpy, lpz = [], [], []\n",
        "for i in range(len(labeled_field)):\n",
        "    b, a = signal.butter(3, fc / (fs / 2))\n",
        "    lpx.append(signal.filtfilt(b, a, labeled_field.loc[i, \"X\"]))\n",
        "    lpy.append(signal.filtfilt(b, a, labeled_field.loc[i, \"Y\"]))\n",
        "    lpz.append(signal.filtfilt(b, a, labeled_field.loc[i, \"Z\"]))\n",
        "labeled_field[\"X\"] = lpx\n",
        "labeled_field[\"Y\"] = lpy\n",
        "labeled_field[\"Z\"] = lpz\n",
        "labeled_field\n"
      ]
    },
    {
      "cell_type": "code",
      "execution_count": null,
      "metadata": {
        "id": "GaG87oChBd5k"
      },
      "outputs": [],
      "source": [
        "labeled_field.to_pickle(\"lpfiltered_labeled_field.pkl\", compression=\"gzip\")\n"
      ]
    }
  ],
  "metadata": {
    "colab": {
      "collapsed_sections": [],
      "name": "3. Field Data Filtering.ipynb",
      "provenance": []
    },
    "kernelspec": {
      "display_name": "Python 3",
      "name": "python3"
    },
    "language_info": {
      "name": "python",
      "version": "3.8.5"
    }
  },
  "nbformat": 4,
  "nbformat_minor": 0
}
