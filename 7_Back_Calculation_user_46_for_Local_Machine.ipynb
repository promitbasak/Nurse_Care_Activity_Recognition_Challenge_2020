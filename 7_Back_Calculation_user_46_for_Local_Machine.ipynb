{
  "cells": [
    {
      "cell_type": "code",
      "execution_count": null,
      "metadata": {
        "colab": {
          "base_uri": "https://localhost:8080/",
          "height": 35
        },
        "id": "s-IHaD4u9dxc",
        "outputId": "aec9783e-8408-4e65-a112-57720dd6b732"
      },
      "outputs": [
        {
          "name": "stdout",
          "output_type": "stream",
          "text": [
            "Drive already mounted at drive/; to attempt to forcibly remount, call drive.mount(\"drive/\", force_remount=True).\n"
          ]
        }
      ],
      "source": [
        "import numpy as np\n",
        "import pandas as pd\n",
        "import time\n",
        "import matplotlib.pyplot as plt\n",
        "from scipy import signal\n",
        "from scipy import stats\n"
      ]
    },
    {
      "cell_type": "markdown",
      "metadata": {
        "id": "dvSZJRhYAezs"
      },
      "source": [
        "# User 46\n"
      ]
    },
    {
      "cell_type": "code",
      "execution_count": null,
      "metadata": {
        "colab": {
          "base_uri": "https://localhost:8080/",
          "height": 424
        },
        "id": "Srf3ikdE9r2A",
        "outputId": "531a07d6-3ddf-459f-9f92-b1ab5ff852c3"
      },
      "outputs": [
        {
          "data": {
            "text/html": [
              "<div>\n",
              "<style scoped>\n",
              "    .dataframe tbody tr th:only-of-type {\n",
              "        vertical-align: middle;\n",
              "    }\n",
              "\n",
              "    .dataframe tbody tr th {\n",
              "        vertical-align: top;\n",
              "    }\n",
              "\n",
              "    .dataframe thead th {\n",
              "        text-align: right;\n",
              "    }\n",
              "</style>\n",
              "<table border=\"1\" class=\"dataframe\">\n",
              "  <thead>\n",
              "    <tr style=\"text-align: right;\">\n",
              "      <th></th>\n",
              "      <th>user_id</th>\n",
              "      <th>datetime</th>\n",
              "      <th>x</th>\n",
              "      <th>y</th>\n",
              "      <th>z</th>\n",
              "    </tr>\n",
              "  </thead>\n",
              "  <tbody>\n",
              "    <tr>\n",
              "      <th>0</th>\n",
              "      <td>27</td>\n",
              "      <td>2018-12-11T16:46:05.707+0900</td>\n",
              "      <td>-0.459</td>\n",
              "      <td>1.072</td>\n",
              "      <td>9.730</td>\n",
              "    </tr>\n",
              "    <tr>\n",
              "      <th>1</th>\n",
              "      <td>27</td>\n",
              "      <td>2018-12-21T16:45:54.350+0900</td>\n",
              "      <td>-1.532</td>\n",
              "      <td>-9.577</td>\n",
              "      <td>0.043</td>\n",
              "    </tr>\n",
              "    <tr>\n",
              "      <th>2</th>\n",
              "      <td>27</td>\n",
              "      <td>2018-12-21T10:38:58.230+0900</td>\n",
              "      <td>0.996</td>\n",
              "      <td>1.225</td>\n",
              "      <td>9.683</td>\n",
              "    </tr>\n",
              "    <tr>\n",
              "      <th>3</th>\n",
              "      <td>27</td>\n",
              "      <td>2018-12-14T22:39:10.469+0900</td>\n",
              "      <td>-0.229</td>\n",
              "      <td>0.766</td>\n",
              "      <td>9.773</td>\n",
              "    </tr>\n",
              "    <tr>\n",
              "      <th>4</th>\n",
              "      <td>27</td>\n",
              "      <td>2018-12-07T15:43:06.481+0900</td>\n",
              "      <td>-1.953</td>\n",
              "      <td>1.110</td>\n",
              "      <td>9.543</td>\n",
              "    </tr>\n",
              "    <tr>\n",
              "      <th>...</th>\n",
              "      <td>...</td>\n",
              "      <td>...</td>\n",
              "      <td>...</td>\n",
              "      <td>...</td>\n",
              "      <td>...</td>\n",
              "    </tr>\n",
              "    <tr>\n",
              "      <th>12539426</th>\n",
              "      <td>27</td>\n",
              "      <td>2018-12-21T00:03:21.190+0900</td>\n",
              "      <td>8.964</td>\n",
              "      <td>-0.498</td>\n",
              "      <td>-0.842</td>\n",
              "    </tr>\n",
              "    <tr>\n",
              "      <th>12539427</th>\n",
              "      <td>27</td>\n",
              "      <td>2018-12-21T02:27:55.440+0900</td>\n",
              "      <td>8.925</td>\n",
              "      <td>-0.498</td>\n",
              "      <td>-0.874</td>\n",
              "    </tr>\n",
              "    <tr>\n",
              "      <th>12539428</th>\n",
              "      <td>27</td>\n",
              "      <td>2018-12-21T01:47:50.623+0900</td>\n",
              "      <td>9.002</td>\n",
              "      <td>-0.498</td>\n",
              "      <td>-0.852</td>\n",
              "    </tr>\n",
              "    <tr>\n",
              "      <th>12539429</th>\n",
              "      <td>27</td>\n",
              "      <td>2018-12-21T00:31:11.222+0900</td>\n",
              "      <td>9.002</td>\n",
              "      <td>-0.498</td>\n",
              "      <td>-0.991</td>\n",
              "    </tr>\n",
              "    <tr>\n",
              "      <th>12539430</th>\n",
              "      <td>27</td>\n",
              "      <td>2018-12-28T13:18:30.838+0900</td>\n",
              "      <td>0.804</td>\n",
              "      <td>-0.498</td>\n",
              "      <td>9.762</td>\n",
              "    </tr>\n",
              "  </tbody>\n",
              "</table>\n",
              "<p>12539431 rows × 5 columns</p>\n",
              "</div>"
            ],
            "text/plain": [
              "          user_id                      datetime      x      y      z\n",
              "0              27  2018-12-11T16:46:05.707+0900 -0.459  1.072  9.730\n",
              "1              27  2018-12-21T16:45:54.350+0900 -1.532 -9.577  0.043\n",
              "2              27  2018-12-21T10:38:58.230+0900  0.996  1.225  9.683\n",
              "3              27  2018-12-14T22:39:10.469+0900 -0.229  0.766  9.773\n",
              "4              27  2018-12-07T15:43:06.481+0900 -1.953  1.110  9.543\n",
              "...           ...                           ...    ...    ...    ...\n",
              "12539426       27  2018-12-21T00:03:21.190+0900  8.964 -0.498 -0.842\n",
              "12539427       27  2018-12-21T02:27:55.440+0900  8.925 -0.498 -0.874\n",
              "12539428       27  2018-12-21T01:47:50.623+0900  9.002 -0.498 -0.852\n",
              "12539429       27  2018-12-21T00:31:11.222+0900  9.002 -0.498 -0.991\n",
              "12539430       27  2018-12-28T13:18:30.838+0900  0.804 -0.498  9.762\n",
              "\n",
              "[12539431 rows x 5 columns]"
            ]
          },
          "execution_count": 4,
          "metadata": {
            "tags": []
          },
          "output_type": "execute_result"
        }
      ],
      "source": [
        "st0 = time.time()\n",
        "user46 = pd.read_csv(\"raw_field_acc_user46.csv\")\n",
        "st1 = time.time()\n",
        "user46\n"
      ]
    },
    {
      "cell_type": "code",
      "execution_count": null,
      "metadata": {
        "colab": {
          "base_uri": "https://localhost:8080/",
          "height": 339
        },
        "id": "AXBU_OGgAAph",
        "outputId": "7fe78f7d-4a61-46fa-c4c8-42bb14e15a32"
      },
      "outputs": [
        {
          "name": "stdout",
          "output_type": "stream",
          "text": [
            "Datetime conversion time: 198.39138650894165\n",
            "user_id              int64\n",
            "datetime    datetime64[ns]\n",
            "x                  float64\n",
            "y                  float64\n",
            "z                  float64\n",
            "dtype: object\n",
            "   user_id                datetime      x      y      z\n",
            "0       27 2018-12-11 16:46:05.707 -0.459  1.072  9.730\n",
            "1       27 2018-12-21 16:45:54.350 -1.532 -9.577  0.043\n",
            "2       27 2018-12-21 10:38:58.230  0.996  1.225  9.683\n",
            "3       27 2018-12-14 22:39:10.469 -0.229  0.766  9.773\n",
            "4       27 2018-12-07 15:43:06.481 -1.953  1.110  9.543\n",
            "5       27 2018-12-29 15:42:17.157 -0.268  2.834  9.390\n",
            "6       27 2018-12-21 11:34:13.653  0.919  1.149  9.686\n",
            "7       27 2018-12-06 08:46:24.676  1.187  9.538  0.361\n",
            "8       27 2018-12-12 12:30:08.205  2.260  8.657  3.556\n",
            "9       27 2018-12-21 10:46:38.749  0.957  1.225  9.688\n"
          ]
        }
      ],
      "source": [
        "st = time.time()\n",
        "user46.datetime = pd.to_datetime(user46.datetime).dt.tz_localize(None)\n",
        "et = time.time()\n",
        "print(\"Datetime conversion time:\", et - st)\n",
        "print(user46.dtypes)\n",
        "print(user46.head(10))\n"
      ]
    },
    {
      "cell_type": "code",
      "execution_count": null,
      "metadata": {
        "colab": {
          "base_uri": "https://localhost:8080/",
          "height": 35
        },
        "id": "1mHRmHwUAIfr",
        "outputId": "d8ec216f-58ef-4d8c-f1e1-ee6ec526f3df"
      },
      "outputs": [
        {
          "name": "stdout",
          "output_type": "stream",
          "text": [
            "Pickling time: 85.67350268363953\n"
          ]
        }
      ],
      "source": [
        "st = time.time()\n",
        "user46.to_pickle(\"cleaned_user46.pkl\", compression=\"bz2\")\n",
        "et = time.time()\n",
        "print(\"Pickling time:\", et - st)\n"
      ]
    },
    {
      "cell_type": "code",
      "execution_count": null,
      "metadata": {
        "id": "mmo1Y_RUAcVV"
      },
      "outputs": [],
      "source": [
        "pred = pd.read_pickle(\"u46.pkl\", compression=\"gzip\")\n"
      ]
    },
    {
      "cell_type": "code",
      "execution_count": null,
      "metadata": {
        "colab": {
          "base_uri": "https://localhost:8080/",
          "height": 35
        },
        "id": "X6F2SyZ_OAZU",
        "outputId": "3d2ba281-2e7b-4861-9345-d8a9ebd57427"
      },
      "outputs": [
        {
          "data": {
            "text/plain": [
              "84341"
            ]
          },
          "execution_count": 8,
          "metadata": {
            "tags": []
          },
          "output_type": "execute_result"
        }
      ],
      "source": [
        "len(pred)\n"
      ]
    },
    {
      "cell_type": "code",
      "execution_count": null,
      "metadata": {
        "id": "F145K_oaC3KA"
      },
      "outputs": [],
      "source": [
        "labels = pd.read_pickle(\"y_pred_u46.pkl\", compression=\"gzip\")\n"
      ]
    },
    {
      "cell_type": "code",
      "execution_count": null,
      "metadata": {
        "id": "umy4sqIXMDQs"
      },
      "outputs": [],
      "source": [
        "pred.reset_index(drop=True, inplace=True)\n"
      ]
    },
    {
      "cell_type": "code",
      "execution_count": null,
      "metadata": {
        "id": "6fD7bjKPC5Ij"
      },
      "outputs": [],
      "source": [
        "pred[\"activity_id\"] = labels\n"
      ]
    },
    {
      "cell_type": "code",
      "execution_count": null,
      "metadata": {
        "colab": {
          "base_uri": "https://localhost:8080/",
          "height": 35
        },
        "id": "z24v1CEMMvyu",
        "outputId": "1cacdad1-89a1-4ece-c8d0-6dbdefcf8ce5"
      },
      "outputs": [
        {
          "data": {
            "text/plain": [
              "0"
            ]
          },
          "execution_count": 12,
          "metadata": {
            "tags": []
          },
          "output_type": "execute_result"
        }
      ],
      "source": [
        "len(pred) - len(labels)\n"
      ]
    },
    {
      "cell_type": "code",
      "execution_count": null,
      "metadata": {
        "colab": {
          "base_uri": "https://localhost:8080/",
          "height": 424
        },
        "id": "xdV5Nq8IFBYu",
        "outputId": "d03c5dbc-91e6-42b4-fbe0-aa89f6312952"
      },
      "outputs": [
        {
          "data": {
            "text/html": [
              "<div>\n",
              "<style scoped>\n",
              "    .dataframe tbody tr th:only-of-type {\n",
              "        vertical-align: middle;\n",
              "    }\n",
              "\n",
              "    .dataframe tbody tr th {\n",
              "        vertical-align: top;\n",
              "    }\n",
              "\n",
              "    .dataframe thead th {\n",
              "        text-align: right;\n",
              "    }\n",
              "</style>\n",
              "<table border=\"1\" class=\"dataframe\">\n",
              "  <thead>\n",
              "    <tr style=\"text-align: right;\">\n",
              "      <th></th>\n",
              "      <th>user_id</th>\n",
              "      <th>start</th>\n",
              "      <th>finish</th>\n",
              "      <th>activity_id</th>\n",
              "    </tr>\n",
              "  </thead>\n",
              "  <tbody>\n",
              "    <tr>\n",
              "      <th>0</th>\n",
              "      <td>27</td>\n",
              "      <td>2018-12-01 00:08:55.450</td>\n",
              "      <td>2018-12-01 00:41:33.580</td>\n",
              "      <td>5</td>\n",
              "    </tr>\n",
              "    <tr>\n",
              "      <th>1</th>\n",
              "      <td>27</td>\n",
              "      <td>2018-12-01 00:41:33.580</td>\n",
              "      <td>2018-12-01 01:12:50.040</td>\n",
              "      <td>5</td>\n",
              "    </tr>\n",
              "    <tr>\n",
              "      <th>2</th>\n",
              "      <td>27</td>\n",
              "      <td>2018-12-01 01:12:50.040</td>\n",
              "      <td>2018-12-01 01:24:52.758</td>\n",
              "      <td>5</td>\n",
              "    </tr>\n",
              "    <tr>\n",
              "      <th>3</th>\n",
              "      <td>27</td>\n",
              "      <td>2018-12-01 01:24:52.758</td>\n",
              "      <td>2018-12-01 01:33:04.510</td>\n",
              "      <td>5</td>\n",
              "    </tr>\n",
              "    <tr>\n",
              "      <th>4</th>\n",
              "      <td>27</td>\n",
              "      <td>2018-12-01 01:33:04.510</td>\n",
              "      <td>2018-12-01 01:39:05.730</td>\n",
              "      <td>5</td>\n",
              "    </tr>\n",
              "    <tr>\n",
              "      <th>...</th>\n",
              "      <td>...</td>\n",
              "      <td>...</td>\n",
              "      <td>...</td>\n",
              "      <td>...</td>\n",
              "    </tr>\n",
              "    <tr>\n",
              "      <th>84336</th>\n",
              "      <td>27</td>\n",
              "      <td>2019-01-01 09:13:14.000</td>\n",
              "      <td>2019-01-01 09:14:28.500</td>\n",
              "      <td>5</td>\n",
              "    </tr>\n",
              "    <tr>\n",
              "      <th>84337</th>\n",
              "      <td>27</td>\n",
              "      <td>2019-01-01 09:14:29.000</td>\n",
              "      <td>2019-01-01 09:16:20.500</td>\n",
              "      <td>5</td>\n",
              "    </tr>\n",
              "    <tr>\n",
              "      <th>84338</th>\n",
              "      <td>27</td>\n",
              "      <td>2019-01-01 09:35:48.500</td>\n",
              "      <td>2019-01-01 09:37:03.000</td>\n",
              "      <td>5</td>\n",
              "    </tr>\n",
              "    <tr>\n",
              "      <th>84339</th>\n",
              "      <td>27</td>\n",
              "      <td>2019-01-01 09:37:03.500</td>\n",
              "      <td>2019-01-01 09:38:18.000</td>\n",
              "      <td>5</td>\n",
              "    </tr>\n",
              "    <tr>\n",
              "      <th>84340</th>\n",
              "      <td>27</td>\n",
              "      <td>2019-01-01 09:38:18.500</td>\n",
              "      <td>2019-01-01 09:39:36.500</td>\n",
              "      <td>5</td>\n",
              "    </tr>\n",
              "  </tbody>\n",
              "</table>\n",
              "<p>84341 rows × 4 columns</p>\n",
              "</div>"
            ],
            "text/plain": [
              "       user_id                   start                  finish  activity_id\n",
              "0           27 2018-12-01 00:08:55.450 2018-12-01 00:41:33.580            5\n",
              "1           27 2018-12-01 00:41:33.580 2018-12-01 01:12:50.040            5\n",
              "2           27 2018-12-01 01:12:50.040 2018-12-01 01:24:52.758            5\n",
              "3           27 2018-12-01 01:24:52.758 2018-12-01 01:33:04.510            5\n",
              "4           27 2018-12-01 01:33:04.510 2018-12-01 01:39:05.730            5\n",
              "...        ...                     ...                     ...          ...\n",
              "84336       27 2019-01-01 09:13:14.000 2019-01-01 09:14:28.500            5\n",
              "84337       27 2019-01-01 09:14:29.000 2019-01-01 09:16:20.500            5\n",
              "84338       27 2019-01-01 09:35:48.500 2019-01-01 09:37:03.000            5\n",
              "84339       27 2019-01-01 09:37:03.500 2019-01-01 09:38:18.000            5\n",
              "84340       27 2019-01-01 09:38:18.500 2019-01-01 09:39:36.500            5\n",
              "\n",
              "[84341 rows x 4 columns]"
            ]
          },
          "execution_count": 13,
          "metadata": {
            "tags": []
          },
          "output_type": "execute_result"
        }
      ],
      "source": [
        "pred\n"
      ]
    },
    {
      "cell_type": "code",
      "execution_count": null,
      "metadata": {
        "colab": {
          "base_uri": "https://localhost:8080/",
          "height": 35
        },
        "id": "QNOMTksYLjdq",
        "outputId": "01e12559-15ec-4f18-dea2-9bd1f9012f58"
      },
      "outputs": [
        {
          "data": {
            "text/plain": [
              "12539431"
            ]
          },
          "execution_count": 15,
          "metadata": {
            "tags": []
          },
          "output_type": "execute_result"
        }
      ],
      "source": [
        "len(user46)\n"
      ]
    },
    {
      "cell_type": "code",
      "execution_count": null,
      "metadata": {
        "colab": {
          "base_uri": "https://localhost:8080/",
          "height": 424
        },
        "id": "ZbawfxQrQTlA",
        "outputId": "a226b3c0-10a8-4f8a-ad22-a175ae18749e"
      },
      "outputs": [
        {
          "data": {
            "text/html": [
              "<div>\n",
              "<style scoped>\n",
              "    .dataframe tbody tr th:only-of-type {\n",
              "        vertical-align: middle;\n",
              "    }\n",
              "\n",
              "    .dataframe tbody tr th {\n",
              "        vertical-align: top;\n",
              "    }\n",
              "\n",
              "    .dataframe thead th {\n",
              "        text-align: right;\n",
              "    }\n",
              "</style>\n",
              "<table border=\"1\" class=\"dataframe\">\n",
              "  <thead>\n",
              "    <tr style=\"text-align: right;\">\n",
              "      <th></th>\n",
              "      <th>user_id</th>\n",
              "      <th>start</th>\n",
              "      <th>finish</th>\n",
              "      <th>activity_id</th>\n",
              "    </tr>\n",
              "  </thead>\n",
              "  <tbody>\n",
              "    <tr>\n",
              "      <th>0</th>\n",
              "      <td>27</td>\n",
              "      <td>2018-12-01 00:08:55.000</td>\n",
              "      <td>2018-12-01 00:10:09.500</td>\n",
              "      <td>5</td>\n",
              "    </tr>\n",
              "    <tr>\n",
              "      <th>1</th>\n",
              "      <td>27</td>\n",
              "      <td>2018-12-01 00:08:55.450</td>\n",
              "      <td>2018-12-01 00:41:33.580</td>\n",
              "      <td>5</td>\n",
              "    </tr>\n",
              "    <tr>\n",
              "      <th>2</th>\n",
              "      <td>27</td>\n",
              "      <td>2018-12-01 00:10:10.000</td>\n",
              "      <td>2018-12-01 00:11:24.500</td>\n",
              "      <td>5</td>\n",
              "    </tr>\n",
              "    <tr>\n",
              "      <th>3</th>\n",
              "      <td>27</td>\n",
              "      <td>2018-12-01 00:11:25.000</td>\n",
              "      <td>2018-12-01 00:12:39.500</td>\n",
              "      <td>5</td>\n",
              "    </tr>\n",
              "    <tr>\n",
              "      <th>4</th>\n",
              "      <td>27</td>\n",
              "      <td>2018-12-01 00:12:40.000</td>\n",
              "      <td>2018-12-01 00:13:54.500</td>\n",
              "      <td>5</td>\n",
              "    </tr>\n",
              "    <tr>\n",
              "      <th>...</th>\n",
              "      <td>...</td>\n",
              "      <td>...</td>\n",
              "      <td>...</td>\n",
              "      <td>...</td>\n",
              "    </tr>\n",
              "    <tr>\n",
              "      <th>84336</th>\n",
              "      <td>27</td>\n",
              "      <td>2019-01-01 23:57:08.444</td>\n",
              "      <td>2019-01-01 23:57:39.117</td>\n",
              "      <td>5</td>\n",
              "    </tr>\n",
              "    <tr>\n",
              "      <th>84337</th>\n",
              "      <td>27</td>\n",
              "      <td>2019-01-01 23:57:50.997</td>\n",
              "      <td>2019-01-01 23:57:56.857</td>\n",
              "      <td>5</td>\n",
              "    </tr>\n",
              "    <tr>\n",
              "      <th>84338</th>\n",
              "      <td>27</td>\n",
              "      <td>2019-01-01 23:58:23.000</td>\n",
              "      <td>2019-01-01 23:59:59.500</td>\n",
              "      <td>5</td>\n",
              "    </tr>\n",
              "    <tr>\n",
              "      <th>84339</th>\n",
              "      <td>27</td>\n",
              "      <td>2019-01-01 23:58:37.663</td>\n",
              "      <td>2019-01-01 23:59:35.294</td>\n",
              "      <td>5</td>\n",
              "    </tr>\n",
              "    <tr>\n",
              "      <th>84340</th>\n",
              "      <td>27</td>\n",
              "      <td>2019-01-01 23:59:39.137</td>\n",
              "      <td>2019-01-01 23:59:59.879</td>\n",
              "      <td>5</td>\n",
              "    </tr>\n",
              "  </tbody>\n",
              "</table>\n",
              "<p>84341 rows × 4 columns</p>\n",
              "</div>"
            ],
            "text/plain": [
              "       user_id                   start                  finish  activity_id\n",
              "0           27 2018-12-01 00:08:55.000 2018-12-01 00:10:09.500            5\n",
              "1           27 2018-12-01 00:08:55.450 2018-12-01 00:41:33.580            5\n",
              "2           27 2018-12-01 00:10:10.000 2018-12-01 00:11:24.500            5\n",
              "3           27 2018-12-01 00:11:25.000 2018-12-01 00:12:39.500            5\n",
              "4           27 2018-12-01 00:12:40.000 2018-12-01 00:13:54.500            5\n",
              "...        ...                     ...                     ...          ...\n",
              "84336       27 2019-01-01 23:57:08.444 2019-01-01 23:57:39.117            5\n",
              "84337       27 2019-01-01 23:57:50.997 2019-01-01 23:57:56.857            5\n",
              "84338       27 2019-01-01 23:58:23.000 2019-01-01 23:59:59.500            5\n",
              "84339       27 2019-01-01 23:58:37.663 2019-01-01 23:59:35.294            5\n",
              "84340       27 2019-01-01 23:59:39.137 2019-01-01 23:59:59.879            5\n",
              "\n",
              "[84341 rows x 4 columns]"
            ]
          },
          "execution_count": 16,
          "metadata": {
            "tags": []
          },
          "output_type": "execute_result"
        }
      ],
      "source": [
        "pred.sort_values(\"start\", inplace=True, ignore_index=True)\n",
        "pred\n"
      ]
    },
    {
      "cell_type": "code",
      "execution_count": null,
      "metadata": {
        "id": "MZDcuXjYQsJJ"
      },
      "outputs": [],
      "source": [
        "user46[\"act_id\"] = np.nan\n"
      ]
    },
    {
      "cell_type": "code",
      "execution_count": null,
      "metadata": {
        "colab": {
          "base_uri": "https://localhost:8080/",
          "height": 1000
        },
        "id": "na-t1tgQDNvr",
        "outputId": "9c531202-03a2-45ef-ee4a-e2ec44790d9a"
      },
      "outputs": [],
      "source": [
        "for i in range(len(pred)):\n",
        "    matched = user46[\n",
        "        (pred.loc[i, \"start\"] <= user46.datetime)\n",
        "        & (pred.loc[i, \"finish\"] >= user46.datetime)\n",
        "    ].index\n",
        "    user46.loc[matched, \"act_id\"] = pred.loc[i, \"activity_id\"]\n",
        "    # if not i % 500:\n",
        "    #     print(i)\n"
      ]
    },
    {
      "cell_type": "code",
      "execution_count": null,
      "metadata": {
        "id": "1bPiQIWcUbjf"
      },
      "outputs": [],
      "source": [
        "user46[\"act_id\"] = user46[\"act_id\"].bfill()\n",
        "user46[\"act_id\"] = user46[\"act_id\"].ffill()\n"
      ]
    },
    {
      "cell_type": "code",
      "execution_count": null,
      "metadata": {
        "id": "ppBfUjURLQOb"
      },
      "outputs": [],
      "source": [
        "result46 = user46[[\"user_id\", \"datetime\", \"act_id\"]]\n"
      ]
    },
    {
      "cell_type": "code",
      "execution_count": null,
      "metadata": {
        "colab": {
          "base_uri": "https://localhost:8080/",
          "height": 424
        },
        "id": "X0JtZ91LsJUh",
        "outputId": "5dabc8e9-d44d-4149-93bc-8521135f6bea"
      },
      "outputs": [
        {
          "data": {
            "text/html": [
              "<div>\n",
              "<style scoped>\n",
              "    .dataframe tbody tr th:only-of-type {\n",
              "        vertical-align: middle;\n",
              "    }\n",
              "\n",
              "    .dataframe tbody tr th {\n",
              "        vertical-align: top;\n",
              "    }\n",
              "\n",
              "    .dataframe thead th {\n",
              "        text-align: right;\n",
              "    }\n",
              "</style>\n",
              "<table border=\"1\" class=\"dataframe\">\n",
              "  <thead>\n",
              "    <tr style=\"text-align: right;\">\n",
              "      <th></th>\n",
              "      <th>user_id</th>\n",
              "      <th>datetime</th>\n",
              "      <th>act_id</th>\n",
              "    </tr>\n",
              "  </thead>\n",
              "  <tbody>\n",
              "    <tr>\n",
              "      <th>0</th>\n",
              "      <td>27</td>\n",
              "      <td>2018-12-11 16:46:05.707</td>\n",
              "      <td>4.0</td>\n",
              "    </tr>\n",
              "    <tr>\n",
              "      <th>1</th>\n",
              "      <td>27</td>\n",
              "      <td>2018-12-21 16:45:54.350</td>\n",
              "      <td>4.0</td>\n",
              "    </tr>\n",
              "    <tr>\n",
              "      <th>2</th>\n",
              "      <td>27</td>\n",
              "      <td>2018-12-21 10:38:58.230</td>\n",
              "      <td>5.0</td>\n",
              "    </tr>\n",
              "    <tr>\n",
              "      <th>3</th>\n",
              "      <td>27</td>\n",
              "      <td>2018-12-14 22:39:10.469</td>\n",
              "      <td>5.0</td>\n",
              "    </tr>\n",
              "    <tr>\n",
              "      <th>4</th>\n",
              "      <td>27</td>\n",
              "      <td>2018-12-07 15:43:06.481</td>\n",
              "      <td>5.0</td>\n",
              "    </tr>\n",
              "    <tr>\n",
              "      <th>...</th>\n",
              "      <td>...</td>\n",
              "      <td>...</td>\n",
              "      <td>...</td>\n",
              "    </tr>\n",
              "    <tr>\n",
              "      <th>12539426</th>\n",
              "      <td>27</td>\n",
              "      <td>2018-12-21 00:03:21.190</td>\n",
              "      <td>5.0</td>\n",
              "    </tr>\n",
              "    <tr>\n",
              "      <th>12539427</th>\n",
              "      <td>27</td>\n",
              "      <td>2018-12-21 02:27:55.440</td>\n",
              "      <td>4.0</td>\n",
              "    </tr>\n",
              "    <tr>\n",
              "      <th>12539428</th>\n",
              "      <td>27</td>\n",
              "      <td>2018-12-21 01:47:50.623</td>\n",
              "      <td>4.0</td>\n",
              "    </tr>\n",
              "    <tr>\n",
              "      <th>12539429</th>\n",
              "      <td>27</td>\n",
              "      <td>2018-12-21 00:31:11.222</td>\n",
              "      <td>5.0</td>\n",
              "    </tr>\n",
              "    <tr>\n",
              "      <th>12539430</th>\n",
              "      <td>27</td>\n",
              "      <td>2018-12-28 13:18:30.838</td>\n",
              "      <td>5.0</td>\n",
              "    </tr>\n",
              "  </tbody>\n",
              "</table>\n",
              "<p>12539431 rows × 3 columns</p>\n",
              "</div>"
            ],
            "text/plain": [
              "          user_id                datetime  act_id\n",
              "0              27 2018-12-11 16:46:05.707     4.0\n",
              "1              27 2018-12-21 16:45:54.350     4.0\n",
              "2              27 2018-12-21 10:38:58.230     5.0\n",
              "3              27 2018-12-14 22:39:10.469     5.0\n",
              "4              27 2018-12-07 15:43:06.481     5.0\n",
              "...           ...                     ...     ...\n",
              "12539426       27 2018-12-21 00:03:21.190     5.0\n",
              "12539427       27 2018-12-21 02:27:55.440     4.0\n",
              "12539428       27 2018-12-21 01:47:50.623     4.0\n",
              "12539429       27 2018-12-21 00:31:11.222     5.0\n",
              "12539430       27 2018-12-28 13:18:30.838     5.0\n",
              "\n",
              "[12539431 rows x 3 columns]"
            ]
          },
          "execution_count": 25,
          "metadata": {
            "tags": []
          },
          "output_type": "execute_result"
        }
      ],
      "source": [
        "result46\n"
      ]
    },
    {
      "cell_type": "code",
      "execution_count": null,
      "metadata": {
        "colab": {
          "base_uri": "https://localhost:8080/",
          "height": 531
        },
        "id": "mnnvrVxaflZm",
        "outputId": "0c559644-88d8-4cb8-8c0c-45379adba4d8"
      },
      "outputs": [
        {
          "name": "stderr",
          "output_type": "stream",
          "text": [
            "/usr/local/lib/python3.6/dist-packages/ipykernel_launcher.py:1: SettingWithCopyWarning: \n",
            "A value is trying to be set on a copy of a slice from a DataFrame.\n",
            "Try using .loc[row_indexer,col_indexer] = value instead\n",
            "\n",
            "See the caveats in the documentation: https://pandas.pydata.org/pandas-docs/stable/user_guide/indexing.html#returning-a-view-versus-a-copy\n",
            "  \"\"\"Entry point for launching an IPython kernel.\n"
          ]
        },
        {
          "data": {
            "text/html": [
              "<div>\n",
              "<style scoped>\n",
              "    .dataframe tbody tr th:only-of-type {\n",
              "        vertical-align: middle;\n",
              "    }\n",
              "\n",
              "    .dataframe tbody tr th {\n",
              "        vertical-align: top;\n",
              "    }\n",
              "\n",
              "    .dataframe thead th {\n",
              "        text-align: right;\n",
              "    }\n",
              "</style>\n",
              "<table border=\"1\" class=\"dataframe\">\n",
              "  <thead>\n",
              "    <tr style=\"text-align: right;\">\n",
              "      <th></th>\n",
              "      <th>user_id</th>\n",
              "      <th>datetime</th>\n",
              "      <th>act_id</th>\n",
              "    </tr>\n",
              "  </thead>\n",
              "  <tbody>\n",
              "    <tr>\n",
              "      <th>0</th>\n",
              "      <td>27</td>\n",
              "      <td>2018-12-11 16:46:05.707</td>\n",
              "      <td>4</td>\n",
              "    </tr>\n",
              "    <tr>\n",
              "      <th>1</th>\n",
              "      <td>27</td>\n",
              "      <td>2018-12-21 16:45:54.350</td>\n",
              "      <td>4</td>\n",
              "    </tr>\n",
              "    <tr>\n",
              "      <th>2</th>\n",
              "      <td>27</td>\n",
              "      <td>2018-12-21 10:38:58.230</td>\n",
              "      <td>5</td>\n",
              "    </tr>\n",
              "    <tr>\n",
              "      <th>3</th>\n",
              "      <td>27</td>\n",
              "      <td>2018-12-14 22:39:10.469</td>\n",
              "      <td>5</td>\n",
              "    </tr>\n",
              "    <tr>\n",
              "      <th>4</th>\n",
              "      <td>27</td>\n",
              "      <td>2018-12-07 15:43:06.481</td>\n",
              "      <td>5</td>\n",
              "    </tr>\n",
              "    <tr>\n",
              "      <th>...</th>\n",
              "      <td>...</td>\n",
              "      <td>...</td>\n",
              "      <td>...</td>\n",
              "    </tr>\n",
              "    <tr>\n",
              "      <th>12539426</th>\n",
              "      <td>27</td>\n",
              "      <td>2018-12-21 00:03:21.190</td>\n",
              "      <td>5</td>\n",
              "    </tr>\n",
              "    <tr>\n",
              "      <th>12539427</th>\n",
              "      <td>27</td>\n",
              "      <td>2018-12-21 02:27:55.440</td>\n",
              "      <td>4</td>\n",
              "    </tr>\n",
              "    <tr>\n",
              "      <th>12539428</th>\n",
              "      <td>27</td>\n",
              "      <td>2018-12-21 01:47:50.623</td>\n",
              "      <td>4</td>\n",
              "    </tr>\n",
              "    <tr>\n",
              "      <th>12539429</th>\n",
              "      <td>27</td>\n",
              "      <td>2018-12-21 00:31:11.222</td>\n",
              "      <td>5</td>\n",
              "    </tr>\n",
              "    <tr>\n",
              "      <th>12539430</th>\n",
              "      <td>27</td>\n",
              "      <td>2018-12-28 13:18:30.838</td>\n",
              "      <td>5</td>\n",
              "    </tr>\n",
              "  </tbody>\n",
              "</table>\n",
              "<p>12539431 rows × 3 columns</p>\n",
              "</div>"
            ],
            "text/plain": [
              "          user_id                datetime  act_id\n",
              "0              27 2018-12-11 16:46:05.707       4\n",
              "1              27 2018-12-21 16:45:54.350       4\n",
              "2              27 2018-12-21 10:38:58.230       5\n",
              "3              27 2018-12-14 22:39:10.469       5\n",
              "4              27 2018-12-07 15:43:06.481       5\n",
              "...           ...                     ...     ...\n",
              "12539426       27 2018-12-21 00:03:21.190       5\n",
              "12539427       27 2018-12-21 02:27:55.440       4\n",
              "12539428       27 2018-12-21 01:47:50.623       4\n",
              "12539429       27 2018-12-21 00:31:11.222       5\n",
              "12539430       27 2018-12-28 13:18:30.838       5\n",
              "\n",
              "[12539431 rows x 3 columns]"
            ]
          },
          "execution_count": 28,
          "metadata": {
            "tags": []
          },
          "output_type": "execute_result"
        }
      ],
      "source": [
        "result46[\"act_id\"] = result46[\"act_id\"].astype(np.int8)\n",
        "result46\n"
      ]
    },
    {
      "cell_type": "code",
      "execution_count": null,
      "metadata": {
        "id": "eeGX5MzrHLC6"
      },
      "outputs": [],
      "source": [
        "result46.to_csv(\"result_user46.csv\", index=False)\n"
      ]
    },
    {
      "cell_type": "code",
      "execution_count": null,
      "metadata": {
        "id": "hgcRW5WLf82k"
      },
      "outputs": [],
      "source": [
        "result46.to_pickle(\"result_user46.pkl\", compression=\"gzip\")\n"
      ]
    }
  ],
  "metadata": {
    "colab": {
      "collapsed_sections": [],
      "name": "9. Back Calculation user 46 for Local Machine.ipynb",
      "provenance": []
    },
    "kernelspec": {
      "display_name": "Python 3",
      "name": "python3"
    },
    "language_info": {
      "name": "python",
      "version": "3.8.5"
    }
  },
  "nbformat": 4,
  "nbformat_minor": 0
}
